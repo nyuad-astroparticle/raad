{
 "cells": [
  {
   "attachments": {},
   "cell_type": "markdown",
   "metadata": {},
   "source": [
    "# Generate Metadata\n",
    "\n",
    "This will take a logfile and split it to orbits, then read the code between the orbits and provide data on the satelite's health detections etc."
   ]
  },
  {
   "cell_type": "code",
   "execution_count": 1,
   "metadata": {},
   "outputs": [
    {
     "name": "stdout",
     "output_type": "stream",
     "text": [
      "\u001b[93mWarning!\u001b[95m Cupy not found! GPU accelleration is not available\u001b[0m\n",
      "\n",
      "{'log': 'RAAD-0-log.txt'}\n"
     ]
    }
   ],
   "source": [
    "# Import libraries\n",
    "import raadpy as rp\n",
    "import pandas as pd\n",
    "\n",
    "# Load the data filenames\n",
    "raw_dir = './'\n",
    "filenames = rp.get_filenames(raw_dir)\n",
    "print(filenames)\n",
    "\n",
    "# To have interactive plots in the jupyter notebook\n",
    "%matplotlib notebook"
   ]
  },
  {
   "cell_type": "code",
   "execution_count": 2,
   "metadata": {},
   "outputs": [
    {
     "name": "stdout",
     "output_type": "stream",
     "text": [
      "Found weird command\n",
      " {'command': 'SE0>script delayuntil 1# Start Of Script 1 Jun 2022 12:38:25.005\\n', 'output': [], 'index': 31072}\n",
      "Found weird command\n",
      " {'command': 'SE0>rtc read\\n', 'output': ['curr rtc time 165589447script delayuntil 1655955900\\n', 'OK\\n'], 'index': 63743}\n",
      "Index Error in command\n",
      " {'command': 'SE0>rtc read\\n', 'output': ['script delayuntil 1657003500\\n', 'OK\\n'], 'index': 95349}\n",
      "Found weird command\n",
      " {'command': 'SE0>script delayuntil 1657246500# Start Of Script 9 July 2022 0:00:00\\n', 'output': [], 'index': 106148}\n",
      "Found weird command\n",
      " {'command': 'SE0>rtc read\\n', 'output': ['curr rtc ti# Start Of Script 20 July 2022 0:00:00\\n'], 'index': 133934}\n",
      "Found weird command\n",
      " {'command': 'SE0>rtc read\\n', 'output': ['curr rtc time# Start Of Script 22 July 2022 0:00:00\\n'], 'index': 140750}\n",
      "Found weird command\n",
      " {'command': 'SE0>script delayuntil 165946script delayuntil 1659465900\\n', 'output': ['OK\\n'], 'index': 171984}\n",
      "Found weird command\n",
      " {'command': 'SE0>script delayuntil 165947130script delayuntil 1659552300\\n', 'output': ['OK\\n'], 'index': 172239}\n",
      "Found weird command\n",
      " {'command': 'SE0>script delayuntil 166072# Start Of Script 17 August 17, 2022 6:45:00\\n', 'output': [], 'index': 213289}\n",
      "Found weird command\n",
      " {'command': 'SE0>rtc read\\n', 'output': ['curr rtc time 1660)\\n', 'OK\\n'], 'index': 227198}\n",
      "Found weird command\n",
      " {'command': 'SE0>rtc read\\n', 'output': ['curr rtc timescript delayuntil 1661569200\\n', 'OK\\n'], 'index': 237488}\n",
      "Found weird command\n",
      " {'command': 'SE0>script delayuntil 166174470script delayuntil 1661758200\\n', 'output': ['OK\\n'], 'index': 242739}\n",
      "Found weird command\n",
      " {'command': 'SE0>rtc read\\n', 'output': ['curr rtc timscript delayuntil 1661909400\\n', 'OK\\n'], 'index': 247617}\n",
      "Found weird command\n",
      " {'command': 'SE0>rtc read\\n', 'output': ['curr rtc time 1662390# Start Of Script 6 September 2022 0:00:00\\n'], 'index': 264791}\n",
      "Found weird command\n",
      " {'command': 'SE0>rtc read\\n', 'output': ['curr rtc time 166247script delayuntil 1662516900\\n', 'OK\\n'], 'index': 267068}\n",
      "Found weird command\n",
      " {'command': 'SE0>rtc read\\n', 'output': ['curr rtc time 16657438script delayuntil 1665756900\\n', 'OK\\n'], 'index': 344635}\n",
      "Found weird command\n",
      " {'command': 'SE0>script delay 18script delayuntil 1666075500\\n', 'output': ['OK\\n'], 'index': 352816}\n",
      "Found weird command\n",
      " {'command': 'SE0>script delayuntil 16717Too long input\\n', 'output': ['ERROR\\n', 'Too long input\\n', 'ERROR\\n', 'Too long input\\n', 'ERROR\\n', 'Too long input\\n', 'ERROR\\n', 'Too long input\\n', 'ERROR\\n', 'Too long input\\n', 'ERROR\\n', 'Too long input\\n', 'ERROR\\n', 'Too long input\\n', 'ERROR\\n', 'Too long input\\n', 'ERROR\\n', 'Too long input\\n', 'ERROR\\n', 'Too long input\\n', 'ERROR\\n', 'Too long input\\n', 'ERROR\\n', 'Too long input\\n', 'ERROR\\n', 'Too long input\\n', 'ERROR\\n', 'Too long input\\n', 'ERROR\\n', 'Too long input\\n', 'ERROR\\n', 'Too long input\\n', 'ERROR\\n', 'Too long input\\n', 'ERROR\\n', 'Too long input\\n', 'ERROR\\n', 'Too long input\\n', 'ERROR\\n', 'Too long input\\n', 'ERROR\\n', 'Too long input\\n', 'ERROR\\n', 'Too long input\\n', 'ERROR\\n', 'Too long input\\n', 'ERROR\\n', 'Too long input\\n', 'ERROR\\n', 'Too long input\\n', 'ERROR\\n', 'Too long input\\n', 'ERROR\\n', 'Too long input\\n', 'ERROR\\n', 'Too long input\\n', 'ERROR\\n', 'Too long input\\n', 'ERROR\\n', 'Too long input\\n', 'ERROR\\n', 'Too long input\\n', 'ERROR\\n', 'Too long input\\n', 'ERROR\\n', 'Too long input\\n', 'ERROR\\n', 'Too long input\\n', 'ERROR\\n', 'Too long input\\n', 'ERROR\\n', 'Too long input\\n', 'ERROR\\n', 'Too long input\\n', 'ERROR\\n', 'Too long input\\n', 'ERROR\\n', 'Too long input\\n', 'ERROR\\n', 'Too long input\\n', 'ERROR\\n', 'Too long input\\n', 'ERROR\\n', 'Too long input\\n', 'ERROR\\n', 'Too long input\\n', 'ERROR\\n', 'Too long input\\n', 'ERROR\\n', 'Too long input\\n', 'ERROR\\n', 'Too long input\\n', 'ERROR\\n', 'Too long input\\n', 'ERROR\\n', 'Too long input\\n', 'ERROR\\n', 'Too long input\\n', 'ERROR\\n', 'Too long input\\n', 'ERROR\\n', 'Too long input\\n', 'ERROR\\n', 'Too long input\\n', 'ERROR\\n', 'Too long input\\n', 'ERROR\\n', 'Too long input\\n', 'ERROR\\n', 'Too long input\\n', 'ERROR\\n', 'Too long input\\n', 'ERROR\\n', 'Too long input\\n', 'ERROR\\n', 'Too long input\\n', 'ERROR\\n', 'Too long input\\n', 'ERROR\\n', 'Too long input\\n', 'ERROR\\n', 'Too long input\\n', 'ERROR\\n', 'Too long input\\n', 'ERROR\\n', 'Too long input\\n', 'ERROR\\n', 'Too long input\\n', 'ERROR\\n', 'Too long input\\n', 'ERROR\\n', 'Too long input\\n', 'ERROR\\n', 'Too long input\\n', 'ERROR\\n', 'Too long input\\n', 'ERROR\\n', 'Too long input\\n', 'ERROR\\n', 'Too long input\\n', 'ERROR\\n', 'Too long input\\n', 'ERROR\\n', 'Too long input\\n', 'ERROR\\n', 'Too long input\\n', 'ERROR\\n', 'Too long input\\n', 'ERROR\\n', 'Too long input\\n', 'ERROR\\n', 'Too long input\\n', 'ERROR\\n', 'Too long input\\n', 'ERROR\\n', 'Too long input\\n', 'ERROR\\n', 'Too long input\\n', 'ERROR\\n', 'Too long input\\n', 'ERROR\\n', 'Too long input\\n', 'ERROR\\n', 'Too long input\\n', 'ERROR\\n', 'Too long input\\n', 'ERROR\\n', 'Too long input\\n', 'ERROR\\n', 'Too long input\\n', 'ERROR\\n', 'Too long input\\n', 'ERROR\\n', 'Too long input\\n', 'ERROR\\n', 'Too long input\\n', 'ERROR\\n', 'Too long input\\n', 'ERROR\\n', 'Too long input\\n', 'ERROR\\n', 'Too long input\\n', 'ERROR\\n', 'Too long input\\n', 'ERROR\\n', 'Too long input\\n', 'ERROR\\n', 'Too long input\\n', 'ERROR\\n', 'Too long input\\n', 'ERROR\\n', 'Too long input\\n', 'ERROR\\n', 'Too long input\\n', 'ERROR\\n', 'Too long input\\n', 'ERROR\\n', 'Too long input\\n', 'ERROR\\n', 'Too long input\\n', 'ERROR\\n', 'Too long input\\n', 'ERROR\\n', 'Too long input\\n', 'ERROR\\n', 'Too long input\\n', 'ERROR\\n', 'Too long input\\n', 'ERROR\\n', 'Too long input\\n', 'ERROR\\n', 'Too long input\\n', 'ERROR\\n', 'Too long input\\n', 'ERROR\\n', 'Too long input\\n', 'ERROR\\n', 'Too long input\\n', 'ERROR\\n', 'Too long input\\n', 'ERROR\\n', 'Too long input\\n', 'ERROR\\n', 'Too long input\\n', 'ERROR\\n', 'Too long input\\n', 'ERROR\\n', 'Too long input\\n', 'ERROR\\n', 'Too long input\\n', 'ERROR\\n', 'Too long input\\n', 'ERROR\\n', 'Too long input\\n', 'ERROR\\n', 'Too long input\\n', 'ERROR\\n', 'Too long input\\n', 'ERROR\\n', 'Too long input\\n', 'ERROR\\n', 'Too long input\\n', 'ERROR\\n', 'Too long input\\n', 'ERROR\\n', 'Too long input\\n', 'ERROR\\n', 'Too long input\\n', 'ERROR\\n', 'Too long input\\n', 'ERROR\\n', 'Too long input\\n', 'ERROR\\n', 'Too long input\\n', 'ERROR\\n', 'Too long input\\n', 'ERROR\\n', 'Too long input\\n', 'ERROR\\n', 'Too long input\\n', 'ERROR\\n', 'Too long input\\n', 'ERROR\\n', 'Too long input\\n', 'ERROR\\n', 'Too long input\\n', 'ERROR\\n', 'Too long input\\n', 'ERROR\\n', 'Too long input\\n', 'ERROR\\n', 'Too long input\\n', 'ERROR\\n', 'Too long input\\n', 'ERROR\\n', 'Too long input\\n', 'ERROR\\n', 'Too long input\\n', 'ERROR\\n', 'Too long input\\n', 'ERROR\\n', 'Too long input\\n', 'ERROR\\n', 'Too long input\\n', 'ERROR\\n', 'Too long input\\n', 'ERROR\\n', 'Too long input\\n', 'ERROR\\n', 'Too long input\\n', 'ERROR\\n', 'Too long input\\n', 'ERROR\\n', 'Too long input\\n', 'ERROR\\n', 'Too long input\\n', 'ERROR\\n', 'Too long input\\n', 'ERROR\\n', 'Too long input\\n', 'ERROR\\n', 'Too long input\\n', 'ERROR\\n', 'Too long input\\n', 'ERROR\\n', 'Too long input\\n', 'ERROR\\n', 'Too long input\\n', 'ERROR\\n', 'Too long input\\n', 'ERROR\\n', 'Too long input\\n', 'ERROR\\n', 'Too long input\\n', 'ERROR\\n', 'Too long input\\n', 'ERROR\\n', 'Too long input\\n', 'ERROR\\n', 'Too long input\\n', 'ERROR\\n', 'Too long input\\n', 'ERROR\\n', 'Too long input\\n', 'ERROR\\n', 'Too long input\\n', 'ERROR\\n', 'Too long input\\n', 'ERROR\\n', 'Too long input\\n', 'ERROR\\n', 'Too long input\\n', 'ERROR\\n', 'Too long input\\n', 'ERROR\\n', 'Too long input\\n', 'ERROR\\n', 'Too long input\\n', 'ERROR\\n', 'Too long input\\n', 'ERROR\\n', 'Too long input\\n', 'ERROR\\n', 'Too long input\\n', 'ERROR\\n', 'Too long input\\n', 'ERROR\\n', 'Too long input\\n', 'ERROR\\n', 'Too long input\\n', 'ERROR\\n', 'Too long input\\n', 'ERROR\\n', 'Too long input\\n', 'ERROR\\n', 'Too long input\\n', 'ERROR\\n', 'Too long input\\n', 'ERROR\\n', 'Too long input\\n', 'ERROR\\n', 'Too long input\\n', 'ERROR\\n', 'Too long input\\n', 'ERROR\\n', 'Too long input\\n', 'ERROR\\n', 'Too long input\\n', 'ERROR\\n', 'Too long input\\n', 'ERROR\\n', 'Too long input\\n', 'ERROR\\n', 'Too long input\\n', 'ERROR\\n', 'Too long input\\n', 'ERROR\\n', 'Too long input\\n', 'ERROR\\n', 'Too long input\\n', 'ERROR\\n', 'Too long input\\n', 'ERROR\\n', 'Too long input\\n', 'ERROR\\n', 'Too long input\\n', 'ERROR\\n', 'Too long input\\n', 'ERROR\\n', 'Too long input\\n', 'ERROR\\n', 'Too long input\\n', 'ERROR\\n', 'Too long input\\n', 'ERROR\\n', 'Too long input\\n', 'ERROR\\n', 'Too long input\\n', 'ERROR\\n', 'Too long input\\n', 'ERROR\\n', 'Too long input\\n', 'ERROR\\n', 'Too long input\\n', 'ERROR\\n', 'Too long input\\n', 'ERROR\\n', 'Too long input\\n', 'ERROR\\n', 'Too long input\\n', 'ERROR\\n', 'Too long input\\n', 'ERROR\\n', 'Too long input\\n', 'ERROR\\n', 'Too long input\\n', 'ERROR\\n', 'Too long input\\n', 'ERROR\\n', 'Too long input\\n', 'ERROR\\n', 'Too long input\\n', 'ERROR\\n', 'Too long input\\n', 'ERROR\\n', 'Too long input\\n', 'ERROR\\n', 'Too long input\\n', 'ERROR\\n', 'Too long input\\n', 'ERROR\\n', 'Too long input\\n', 'ERROR\\n', 'Too long input\\n', 'ERROR\\n', 'Too long input\\n', 'ERROR\\n', 'Too long input\\n', 'ERROR\\n', 'Too long input\\n', 'ERROR\\n', 'Too long input\\n', 'ERROR\\n', 'Too long input\\n', 'ERROR\\n', 'Too long input\\n', 'ERROR\\n', 'Too long input\\n', 'ERROR\\n', 'Too long input\\n', 'ERROR\\n', 'Too long input\\n', 'ERROR\\n', 'Too long input\\n', 'ERROR\\n', 'Too long input\\n', 'ERROR\\n', 'Too long input\\n', 'ERROR\\n', 'Too long input\\n', 'ERROR\\n', 'Too long input\\n', 'ERROR\\n', 'Too long input\\n', 'ERROR\\n', 'Too long input\\n', 'ERROR\\n', 'Too long input\\n', 'ERROR\\n', 'Too long input\\n', 'ERROR\\n', 'Too long input\\n', 'ERROR\\n', 'Too long input\\n', 'ERROR\\n', 'Too long input\\n', 'ERROR\\n', 'Too long input\\n', 'ERROR\\n', 'Too long input\\n', 'ERROR\\n', 'Too long input\\n', 'ERROR\\n', 'Too long input\\n', 'ERROR\\n', 'Too long input\\n', 'ERROR\\n', 'Too long input\\n', 'ERROR\\n', 'Too long input\\n', 'ERROR\\n', 'Too long input\\n', 'ERROR\\n', 'Too long input\\n', 'ERROR\\n', 'Too long input\\n', 'ERROR\\n', 'Too long input\\n', 'ERROR\\n', 'Too long input\\n', 'ERROR\\n', 'Too long input\\n', 'ERROR\\n', 'Too long input\\n', 'ERROR\\n', 'Too long input\\n', 'ERROR\\n', 'Too long input\\n', 'ERROR\\n', 'Too long input\\n', 'ERROR\\n', 'Too long input\\n', 'ERROR\\n', 'Too long input\\n', 'ERROR\\n', 'Too long input\\n', 'ERROR\\n', 'Too long input\\n', 'ERROR\\n', 'Too long input\\n', 'ERROR\\n', 'Too long input\\n', 'ERROR\\n', 'Too long input\\n', 'ERROR\\n', 'Too long input\\n', 'ERROR\\n', 'Too long input\\n', 'ERROR\\n', 'Too long input\\n', 'ERROR\\n', 'Too long input\\n', 'ERROR\\n', 'Too long input\\n', 'ERROR\\n', 'Too long input\\n', 'ERROR\\n', 'Too long input\\n', 'ERROR\\n', 'Too long input\\n', 'ERROR\\n', 'Too long input\\n', 'ERROR\\n', 'Too long input\\n', 'ERROR\\n', 'Too long input\\n', 'ERROR\\n', 'Too long input\\n', 'ERROR\\n', 'Too long input\\n', 'ERROR\\n', 'Too long input\\n', 'ERROR\\n', 'Too long input\\n', 'ERROR\\n', 'Too long input\\n', 'ERROR\\n', 'Too long input\\n', 'ERROR\\n', 'Too long input\\n', 'ERROR\\n', 'Too long input\\n', 'ERROR\\n', 'Too long input\\n', 'ERROR\\n', 'Too long input\\n', 'ERROR\\n', 'Too long input\\n', 'ERROR\\n', 'Too long input\\n', 'ERROR\\n', 'Too long input\\n', 'ERROR\\n', 'Too long input\\n', 'ERROR\\n', 'Too long input\\n', 'ERROR\\n', 'Too long input\\n', 'ERROR\\n', 'Too long input\\n', 'ERROR\\n', 'Too long input\\n', 'ERROR\\n', 'Too long input\\n', 'ERROR\\n', 'Too long input\\n', 'ERROR\\n', 'Too long input\\n', 'ERROR\\n', 'Too long input\\n', 'ERROR\\n', 'Too long input\\n', 'ERROR\\n', 'Too long input\\n', 'ERROR\\n', 'Too long input\\n', 'ERROR\\n', 'Too long input\\n', 'ERROR\\n', 'Too long input\\n', 'ERROR\\n', 'Too long input\\n', 'ERROR\\n', 'Too long input\\n', 'ERROR\\n', 'Too long input\\n', 'ERROR\\n', 'Too long input\\n', 'ERROR\\n', 'Too long input\\n', 'ERROR\\n', 'Too long input\\n', 'ERROR\\n', 'Too long input\\n', 'ERROR\\n', 'Too long input\\n', 'ERROR\\n', 'Too long input\\n', 'ERROR\\n', 'Too long input\\n', 'ERROR\\n', 'Too long input\\n', 'ERROR\\n', 'Too long input\\n', 'ERROR\\n', 'Too long input\\n', 'ERROR\\n', 'Too long input\\n', 'ERROR\\n', 'Too long input\\n', 'ERROR\\n', 'Too long input\\n', 'ERROR\\n', 'Too long input\\n', 'ERROR\\n', 'Too long input\\n', 'ERROR\\n', 'Too long input\\n', 'ERROR\\n', 'Too long input\\n', 'ERROR\\n', 'Too long input\\n', 'ERROR\\n', 'Too long input\\n', 'ERROR\\n', 'Too long input\\n', 'ERROR\\n', 'Too long input\\n', 'ERROR\\n', 'Too long input\\n', 'ERROR\\n', 'Too long input\\n', 'ERROR\\n', 'Too long input\\n', 'ERROR\\n', 'Too long input\\n', 'ERROR\\n', 'Too long input\\n', 'ERROR\\n', 'Too long input\\n', 'ERROR\\n', 'Too long input\\n', 'ERROR\\n', 'Too long input\\n', 'ERROR\\n', 'Too long input\\n', 'ERROR\\n', 'Too long input\\n', 'ERROR\\n', 'Too long input\\n', 'ERROR\\n', 'Too long input\\n', 'ERROR\\n', 'Too long input\\n', 'ERROR\\n', 'Too long input\\n', 'ERROR\\n', 'Too long input\\n', 'ERROR\\n', 'Too long input\\n', 'ERROR\\n', 'Too long input\\n', 'ERROR\\n', 'Too long input\\n', 'ERROR\\n', 'Too long input\\n', 'ERROR\\n', 'Too long input\\n', 'ERROR\\n', 'Too long input\\n', 'ERROR\\n', 'Too long input\\n', 'ERROR\\n', 'Too long input\\n', 'ERROR\\n', 'Too long input\\n', 'ERROR\\n', 'Too long input\\n', 'ERROR\\n', 'Too long input\\n', 'ERROR\\n', 'Too long input\\n', 'ERROR\\n', 'Too long input\\n', 'ERROR\\n', 'Too long input\\n', 'ERROR\\n', 'Too long input\\n', 'ERROR\\n', 'Too long input\\n', 'ERROR\\n', 'Too long input\\n', 'ERROR\\n', 'Too long input\\n', 'ERROR\\n', 'Too long input\\n', 'ERROR\\n', 'Too long input\\n', 'ERROR\\n', 'Too long input\\n', 'ERROR\\n', 'Too long input\\n', 'ERROR\\n', 'Too long input\\n', 'ERROR\\n', 'Too long input\\n', 'ERROR\\n', 'Too long input\\n', 'ERROR\\n', 'Too long input\\n', 'ERROR\\n', 'Too long input\\n', 'ERROR\\n', 'Too long input\\n', 'ERROR\\n', 'Too long input\\n', 'ERROR\\n', 'Too long input\\n', 'ERROR\\n', 'Too long input\\n', 'ERROR\\n', 'Too long input\\n', 'ERROR\\n', 'Too long input\\n', 'ERROR\\n', 'Too long input\\n', 'ERROR\\n', 'Too long input\\n', 'ERROR\\n', 'Too long input\\n', 'ERROR\\n', 'Too long input\\n', 'ERROR\\n', 'Too long input\\n', 'ERROR\\n', 'Too long input\\n', 'ERROR\\n', 'Too long input\\n', 'ERROR\\n', 'Too long input\\n', 'ERROR\\n', 'Too long input\\n', 'ERROR\\n', 'Too long input\\n', 'ERROR\\n', 'Too long input\\n', 'ERROR\\n', 'Too long input\\n', 'ERROR\\n', 'Too long input\\n', 'ERROR\\n', 'Too long input\\n', 'ERROR\\n', 'Too long input\\n', 'ERROR\\n', 'Too long input\\n', 'ERROR\\n', 'Too long input\\n', 'ERROR\\n', 'Too long input\\n', 'ERROR\\n', 'Too long input\\n', 'ERROR\\n', 'Too long input\\n', 'ERROR\\n', 'Too long input\\n', 'ERROR\\n', 'Too long input\\n', 'ERROR\\n', 'Too long input\\n', 'ERROR\\n', 'Too long input\\n', 'ERROR\\n', 'Too long input\\n', 'ERROR\\n', 'Too long input\\n', 'ERROR\\n', 'Too long input\\n', 'ERROR\\n', 'Too long input\\n', 'ERROR\\n', 'Too long input\\n', 'ERROR\\n', 'Too long input\\n', 'ERROR\\n', 'Too long input\\n', 'ERROR\\n', 'Too long input\\n', 'ERROR\\n', 'Too long input\\n', 'ERROR\\n', 'Too long input\\n', 'ERROR\\n', 'Too long input\\n', 'ERROR\\n', 'Too long input\\n', 'ERROR\\n', ' 0007000000\\n', 'fs list\\n', '# End Of Script 6 Jan 2023 23:59:59\\n', 'Command not found. Type \"help\" for the full list of commands\\n', 'ERROR\\n'], 'index': 417443}\n"
     ]
    }
   ],
   "source": [
    "# Now we load the log file and find it's timestamps\n",
    "log     = rp.log_expand(filename=raw_dir+filenames['log'])      # Load the logfile\n",
    "log     = rp.log_with_timestamp(log,reorder=False)              # Find the timestamp that each command finished executing"
   ]
  },
  {
   "cell_type": "code",
   "execution_count": 3,
   "metadata": {},
   "outputs": [],
   "source": [
    "# Collect the timestamps for when an orbit started and ended\n",
    "start_timestamps_log, start_idx    = rp.collect_time_cmd(log,rp.PWR_ON_CMD,include_idx=True).T\n",
    "end_timestamps_log, end_idx      = rp.collect_time_cmd(log,rp.PWR_OFF_CMD,include_idx=True).T\n",
    "\n",
    "# Match the two arrays from the back\n",
    "\n",
    "end_timestamps_log, start_timestamps_log, start_idx, end_idx = rp.match(end_timestamps_log,start_timestamps_log,start_idx.astype('int'),end_idx.astype('int'))"
   ]
  },
  {
   "cell_type": "code",
   "execution_count": 11,
   "metadata": {},
   "outputs": [],
   "source": [
    "# Empty array for metadata\n",
    "metadata = []\n",
    "# For every power on and off cycle get the metadata\n",
    "for s,e in zip(start_idx,end_idx):\n",
    "    sub_log = log[s:e]\n",
    "    metadata.append(rp.log_metadata(sub_log))\n",
    "\n",
    "# Single complete dictionary\n",
    "meta_complete = {}\n",
    "\n",
    "# Now convert the metadata to a signle dictionary\n",
    "meta_complete = {i: [cycle[i] for cycle in metadata] for i in metadata[0]}\n",
    "for key in meta_complete:\n",
    "    if type(meta_complete[key][0]) is dict:\n",
    "        meta_complete[key] = {i: [cycle[i] for cycle in meta_complete[key]] for i in meta_complete[key][0]}"
   ]
  },
  {
   "cell_type": "code",
   "execution_count": 12,
   "metadata": {},
   "outputs": [],
   "source": [
    "# Save the data to a csv file\n",
    "# Flatten the dictionary\n",
    "[flat_dict] = pd.json_normalize(meta_complete, sep='.').to_dict(orient='records')\n",
    "# Create a pandas dataframe and save\n",
    "pd.DataFrame.from_dict(flat_dict).to_csv (r'orbit_meta.csv', index = True, header=True)"
   ]
  },
  {
   "cell_type": "code",
   "execution_count": null,
   "metadata": {},
   "outputs": [],
   "source": []
  }
 ],
 "metadata": {
  "kernelspec": {
   "display_name": "base",
   "language": "python",
   "name": "python3"
  },
  "language_info": {
   "codemirror_mode": {
    "name": "ipython",
    "version": 3
   },
   "file_extension": ".py",
   "mimetype": "text/x-python",
   "name": "python",
   "nbconvert_exporter": "python",
   "pygments_lexer": "ipython3",
   "version": "3.10.6"
  },
  "orig_nbformat": 4,
  "vscode": {
   "interpreter": {
    "hash": "3fd2e6389a0fd7c635319bf7383768acfaf026bf5f56a6bed54341f1b15812d5"
   }
  }
 },
 "nbformat": 4,
 "nbformat_minor": 2
}

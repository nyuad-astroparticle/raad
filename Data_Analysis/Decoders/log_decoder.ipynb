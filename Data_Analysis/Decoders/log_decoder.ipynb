{
 "cells": [
  {
   "cell_type": "code",
   "execution_count": 1,
   "metadata": {},
   "outputs": [
    {
     "name": "stdout",
     "output_type": "stream",
     "text": [
      "['# Script started\\n', 'SE0>rtc read\\n', 'curr rtc time 1646297867.353394 s, 2022-03-03 08:57:47 \\n', 'OK\\n', 'SE0># Script delay (avoiding SAA)\\n', 'SE0>script delayuntil 1646297935\\n', 'OK\\n', 'SE0># Enabling the PC and payload (and switching off with the timer of 30m for the payload and 3h for the PC)\\n', 'SE0>csp txrx 4 14 600 000500302A\\n', 'Answer: 0000\\n', 'Bytes: 2\\n', 'Flags: 0x00 (frag=0, HMAC=0, XTEA=0, RDP=0, CRC32=0)\\n', 'OK\\n', 'SE0>csp txrx 4 14 600 0007000807\\n', 'Answer: 0000\\n', 'Bytes: 2\\n', 'Flags: 0x00 (frag=0, HMAC=0, XTEA=0, RDP=0, CRC32=0)\\n', 'OK\\n', 'SE0>csp txrx 4 14 600 0008000807\\n', 'Answer: 0000\\n', 'Bytes: 2\\n', 'Flags: 0x00 (frag=0, HMAC=0, XTEA=0, RDP=0, CRC32=0)\\n', 'OK\\n', 'SE0>csp txrx 4 14 600 0005010100\\n', 'Answer: 0000\\n', 'Bytes: 2\\n', 'Flags: 0x00 (frag=0, HMAC=0, XTEA=0, RDP=0, CRC32=0)\\n', 'OK\\n', 'SE0>csp txrx 4 14 600 0007011400\\n', 'Answer: 0000\\n', 'Bytes: 2\\n', 'Flags: 0x00 (frag=0, HMAC=0, XTEA=0, RDP=0, CRC32=0)\\n', 'OK\\n', 'SE0>csp txrx 4 14 600 0008011E00\\n', 'Answer: 0000\\n', 'Bytes: 2\\n', 'Flags: 0x00 (frag=0, HMAC=0, XTEA=0, RDP=0, CRC32=0)\\n', 'OK\\n', 'SE0># Delay 2 minutes\\n', 'SE0>script delay 120000\\n', 'OK\\n', 'SE0># Command ID 1 - Default Mode\\n', 'SE0>csp txrx 12 8 3000 00\\n', 'No answer received\\n', 'FAIL\\n', 'SE0># Delay 2 seconds\\n', 'SE0>script delay 2000\\n', 'OK\\n', 'SE0># Command ID 2 - Default Mode\\n', 'SE0>csp txrx 13 8 3000 00\\n', 'No answer received\\n', 'FAIL\\n', 'SE0># Clear buffers\\n', 'SE0>fs clear 32\\n', 'OK\\n', 'SE0>script delay 30000\\n', 'OK\\n', 'SE0>fs clear 33\\n', 'OK\\n', 'SE0>script delay 30000\\n', 'OK\\n', 'SE0>fs clear 34\\n', 'OK\\n', 'SE0>script delay 30000\\n', 'OK\\n', 'SE0>fs clear 35\\n', 'OK\\n', 'SE0>script delay 30000\\n', 'OK\\n', 'SE0>fs clear 36\\n', 'OK\\n', 'SE0>script delay 30000\\n', 'OK\\n', 'SE0>fs clear 37\\n', 'OK\\n', 'SE0>script delay 30000\\n', 'OK\\n', 'SE0>fs clear 38\\n', 'OK\\n', 'SE0>script delay 30000\\n', 'OK\\n', 'SE0>fs clear 39\\n', 'OK\\n', 'SE0>script delay 30000\\n', 'OK\\n', 'SE0>fs clear 40\\n', 'OK\\n', 'SE0>script delay 58000\\n', 'OK\\n', 'SE0># Command ID 9 - Noise Mode\\n', 'SE0>csp txrx 12 8 3000 08\\n', 'No answer received\\n', 'FAIL\\n', 'SE0>script delay 5000\\n', 'OK\\n', 'SE0># Command ID 20 - Noise Mode\\n', 'SE0>csp txrx 13 8 3000 01\\n', 'No answer received\\n', 'FAIL\\n', 'SE0>script delay 5000\\n', 'OK\\n', 'SE0># Command ID 3 - Operating Mode\\n', 'SE0>csp txrx 12 8 3000 02\\n', 'No answer received\\n', 'FAIL\\n', 'SE0>script delay 60000\\n', 'OK\\n', 'SE0># Command ID 18 - Operating Mode\\n', 'SE0>csp txrx 13 8 3000 06\\n', 'No answer received\\n', 'FAIL\\n', 'SE0>script delay 2000\\n', 'OK\\n', 'SE0># Command ID 1 - Default Mode\\n', 'SE0>csp txrx 12 8 3000 00\\n', 'No answer received\\n', 'FAIL\\n', 'SE0>script delay 600000\\n', 'OK\\n', 'SE0>script delay 600000\\n', 'OK\\n', 'SE0># Command ID 2 - Default Mode\\n', 'SE0>csp txrx 13 8 3000 00\\n', 'No answer received\\n', 'FAIL\\n', 'SE0>script delay 2000\\n', 'OK\\n', 'SE0># Switching the payloads OFF\\n', 'SE0>csp txrx 4 14 600 0007000000\\n', 'Answer: 0000\\n', 'Bytes: 2\\n', 'Flags: 0x00 (frag=0, HMAC=0, XTEA=0, RDP=0, CRC32=0)\\n', 'OK\\n', 'SE0>csp txrx 4 14 600 0008000300\\n', 'Answer: 0000\\n', 'Bytes: 2\\n', 'Flags: 0x00 (frag=0, HMAC=0, XTEA=0, RDP=0, CRC32=0)\\n', 'OK\\n', 'SE0># Script finished\\n', 'SE0>rtc read\\n', 'curr rtc time 1646299664.765045 s, 2022-03-03 09:27:44 \\n', 'OK\\n', 'SE0>']\n"
     ]
    }
   ],
   "source": [
    "# import data\n",
    "logfile = open(\"../../Data/Logs/light1_first_se_log.txt\",\"r\")\n",
    "loglines = logfile.readlines()\n",
    "print (loglines)"
   ]
  },
  {
   "cell_type": "code",
   "execution_count": 41,
   "metadata": {},
   "outputs": [
    {
     "name": "stdout",
     "output_type": "stream",
     "text": [
      "Line: 1 , Command: SE0>rtc read\n",
      " , Time: 1646297867.353394 s, 2022-03-03 08:57:47 \n",
      "\n",
      "Line: 139 , Command: SE0>rtc read\n",
      " , Time: 1646299664.765045 s, 2022-03-03 09:27:44 \n",
      "\n"
     ]
    },
    {
     "ename": "IndexError",
     "evalue": "list index out of range",
     "output_type": "error",
     "traceback": [
      "\u001b[0;31m---------------------------------------------------------------------------\u001b[0m",
      "\u001b[0;31mIndexError\u001b[0m                                Traceback (most recent call last)",
      "\u001b[1;32m/home/raad/RAAD/Data_Analysis/Decoders/log_decoder.ipynb Cell 2'\u001b[0m in \u001b[0;36m<cell line: 1>\u001b[0;34m()\u001b[0m\n\u001b[1;32m      <a href='vscode-notebook-cell://ssh-remote%2Barneodolab.abudhabi.nyu.edu/home/raad/RAAD/Data_Analysis/Decoders/log_decoder.ipynb#ch0000013vscode-remote?line=1'>2</a>\u001b[0m k \u001b[39m=\u001b[39m loglines[i] \n\u001b[1;32m      <a href='vscode-notebook-cell://ssh-remote%2Barneodolab.abudhabi.nyu.edu/home/raad/RAAD/Data_Analysis/Decoders/log_decoder.ipynb#ch0000013vscode-remote?line=2'>3</a>\u001b[0m I \u001b[39m=\u001b[39m i\u001b[39m+\u001b[39m\u001b[39m1\u001b[39m\n\u001b[0;32m----> <a href='vscode-notebook-cell://ssh-remote%2Barneodolab.abudhabi.nyu.edu/home/raad/RAAD/Data_Analysis/Decoders/log_decoder.ipynb#ch0000013vscode-remote?line=3'>4</a>\u001b[0m l \u001b[39m=\u001b[39m loglines[I][\u001b[39m14\u001b[39m:]\n\u001b[1;32m      <a href='vscode-notebook-cell://ssh-remote%2Barneodolab.abudhabi.nyu.edu/home/raad/RAAD/Data_Analysis/Decoders/log_decoder.ipynb#ch0000013vscode-remote?line=4'>5</a>\u001b[0m \u001b[39mif\u001b[39;00m \u001b[39m\"\u001b[39m\u001b[39mSE0>rtc read\u001b[39m\u001b[39m\"\u001b[39m \u001b[39min\u001b[39;00m k:\n\u001b[1;32m      <a href='vscode-notebook-cell://ssh-remote%2Barneodolab.abudhabi.nyu.edu/home/raad/RAAD/Data_Analysis/Decoders/log_decoder.ipynb#ch0000013vscode-remote?line=5'>6</a>\u001b[0m     \u001b[39mprint\u001b[39m (\u001b[39m\"\u001b[39m\u001b[39mLine:\u001b[39m\u001b[39m\"\u001b[39m , i , \u001b[39m\"\u001b[39m\u001b[39m, Command:\u001b[39m\u001b[39m\"\u001b[39m , k , \u001b[39m\"\u001b[39m\u001b[39m, Time:\u001b[39m\u001b[39m\"\u001b[39m , l )\n",
      "\u001b[0;31mIndexError\u001b[0m: list index out of range"
     ]
    }
   ],
   "source": [
    "for i in range(len(loglines)): # i is a number for every line in the log file\n",
    "    k = loglines[i] \n",
    "    I = i+1\n",
    "    l = loglines[I][14:]\n",
    "    if \"SE0>rtc read\" in k:\n",
    "        print (\"Line:\" , i , \", Command:\" , k , \", Time:\" , l )\n",
    "\n",
    "# if the value is in range of the full range of file?\n",
    "# first rtc must be start of code, second rtc must be end of code\n"
   ]
  },
  {
   "cell_type": "code",
   "execution_count": 32,
   "metadata": {},
   "outputs": [
    {
     "name": "stdout",
     "output_type": "stream",
     "text": [
      "line:  1 , command:  SE0>rtc read\n",
      "\n",
      "line:  139 , command:  SE0>rtc read\n",
      "\n",
      "line:  142 , command:  SE0>\n"
     ]
    }
   ],
   "source": [
    "for i in range(len(loglines)): # i is a number for every line in the log file\n",
    "    k = loglines[i] \n",
    "    # l = loglines[i+1]\n",
    "    if k[0:12] in \"SE0>rtc read\":\n",
    "        # l=i+1\n",
    "        print (\"line: \" , i , \", command: \" , k )\n",
    "\n",
    "\n",
    "\n",
    "\n",
    "    # if k[0:5] in \"SE0>#\":\n",
    "    #     print (k)"
   ]
  },
  {
   "cell_type": "code",
   "execution_count": null,
   "metadata": {},
   "outputs": [],
   "source": [
    "# Work to find the following:\n",
    "\n",
    "# \"Time,scenario\"\n",
    "# \"At time () command () was excuted.\n",
    "# \"At time () command () failed.\"\n",
    "\n",
    "# If line in SE0>:\n",
    "# print the time\n",
    "# print the command\n",
    "# print the info\n",
    "# print if command was excuted or failed"
   ]
  }
 ],
 "metadata": {
  "interpreter": {
   "hash": "603c2dde23853942044ef1ecf9d83c9e0c7746eecc66ee3ed309f571bba3bb71"
  },
  "kernelspec": {
   "display_name": "Python 3.10.2 ('RAAD')",
   "language": "python",
   "name": "python3"
  },
  "language_info": {
   "codemirror_mode": {
    "name": "ipython",
    "version": 3
   },
   "file_extension": ".py",
   "mimetype": "text/x-python",
   "name": "python",
   "nbconvert_exporter": "python",
   "pygments_lexer": "ipython3",
   "version": "3.10.2"
  },
  "orig_nbformat": 4
 },
 "nbformat": 4,
 "nbformat_minor": 2
}

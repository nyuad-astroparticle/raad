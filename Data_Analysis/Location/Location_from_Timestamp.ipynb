{
 "cells": [
  {
   "cell_type": "code",
   "execution_count": 2,
   "metadata": {},
   "outputs": [],
   "source": [
    "# import raadpy as rp\n",
    "import numpy as np\n",
    "import pandas as pd"
   ]
  },
  {
   "cell_type": "code",
   "execution_count": 11,
   "metadata": {},
   "outputs": [],
   "source": [
    "LocationFile = '..\\..\\TGF_data_for_research\\CubeSat_Data\\Light-1-LLA\\LIGHT-1_LLA_April.csv'\n",
    "\n",
    "LocationData = pd.read_csv(LocationFile)\n",
    "\n",
    "pd.options.display.max_rows = None\n",
    "\n",
    "LocationData\n"
   ]
  },
  {
   "cell_type": "code",
   "execution_count": null,
   "metadata": {},
   "outputs": [],
   "source": []
  }
 ],
 "metadata": {
  "kernelspec": {
   "display_name": "Python 3.9.7 ('base')",
   "language": "python",
   "name": "python3"
  },
  "language_info": {
   "codemirror_mode": {
    "name": "ipython",
    "version": 3
   },
   "file_extension": ".py",
   "mimetype": "text/x-python",
   "name": "python",
   "nbconvert_exporter": "python",
   "pygments_lexer": "ipython3",
   "version": "3.9.7"
  },
  "orig_nbformat": 4,
  "vscode": {
   "interpreter": {
    "hash": "3361b699532a8e81d21f8a9ec5a617dbbd09ee2434e5921209b8f81e74f96411"
   }
  }
 },
 "nbformat": 4,
 "nbformat_minor": 2
}

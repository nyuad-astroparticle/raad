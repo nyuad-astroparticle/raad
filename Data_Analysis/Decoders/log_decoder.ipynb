{
 "cells": [
  {
   "cell_type": "code",
   "execution_count": 1,
   "metadata": {},
   "outputs": [
    {
     "name": "stdout",
     "output_type": "stream",
     "text": [
      "['# Script started\\n', 'SE0>rtc read\\n', 'curr rtc time 1646297867.353394 s, 2022-03-03 08:57:47 \\n', 'OK\\n', 'SE0># Script delay (avoiding SAA)\\n', 'SE0>script delayuntil 1646297935\\n', 'OK\\n', 'SE0># Enabling the PC and payload (and switching off with the timer of 30m for the payload and 3h for the PC)\\n', 'SE0>csp txrx 4 14 600 000500302A\\n', 'Answer: 0000\\n', 'Bytes: 2\\n', 'Flags: 0x00 (frag=0, HMAC=0, XTEA=0, RDP=0, CRC32=0)\\n', 'OK\\n', 'SE0>csp txrx 4 14 600 0007000807\\n', 'Answer: 0000\\n', 'Bytes: 2\\n', 'Flags: 0x00 (frag=0, HMAC=0, XTEA=0, RDP=0, CRC32=0)\\n', 'OK\\n', 'SE0>csp txrx 4 14 600 0008000807\\n', 'Answer: 0000\\n', 'Bytes: 2\\n', 'Flags: 0x00 (frag=0, HMAC=0, XTEA=0, RDP=0, CRC32=0)\\n', 'OK\\n', 'SE0>csp txrx 4 14 600 0005010100\\n', 'Answer: 0000\\n', 'Bytes: 2\\n', 'Flags: 0x00 (frag=0, HMAC=0, XTEA=0, RDP=0, CRC32=0)\\n', 'OK\\n', 'SE0>csp txrx 4 14 600 0007011400\\n', 'Answer: 0000\\n', 'Bytes: 2\\n', 'Flags: 0x00 (frag=0, HMAC=0, XTEA=0, RDP=0, CRC32=0)\\n', 'OK\\n', 'SE0>csp txrx 4 14 600 0008011E00\\n', 'Answer: 0000\\n', 'Bytes: 2\\n', 'Flags: 0x00 (frag=0, HMAC=0, XTEA=0, RDP=0, CRC32=0)\\n', 'OK\\n', 'SE0># Delay 2 minutes\\n', 'SE0>script delay 120000\\n', 'OK\\n', 'SE0># Command ID 1 - Default Mode\\n', 'SE0>csp txrx 12 8 3000 00\\n', 'No answer received\\n', 'FAIL\\n', 'SE0># Delay 2 seconds\\n', 'SE0>script delay 2000\\n', 'OK\\n', 'SE0># Command ID 2 - Default Mode\\n', 'SE0>csp txrx 13 8 3000 00\\n', 'No answer received\\n', 'FAIL\\n', 'SE0># Clear buffers\\n', 'SE0>fs clear 32\\n', 'OK\\n', 'SE0>script delay 30000\\n', 'OK\\n', 'SE0>fs clear 33\\n', 'OK\\n', 'SE0>script delay 30000\\n', 'OK\\n', 'SE0>fs clear 34\\n', 'OK\\n', 'SE0>script delay 30000\\n', 'OK\\n', 'SE0>fs clear 35\\n', 'OK\\n', 'SE0>script delay 30000\\n', 'OK\\n', 'SE0>fs clear 36\\n', 'OK\\n', 'SE0>script delay 30000\\n', 'OK\\n', 'SE0>fs clear 37\\n', 'OK\\n', 'SE0>script delay 30000\\n', 'OK\\n', 'SE0>fs clear 38\\n', 'OK\\n', 'SE0>script delay 30000\\n', 'OK\\n', 'SE0>fs clear 39\\n', 'OK\\n', 'SE0>script delay 30000\\n', 'OK\\n', 'SE0>fs clear 40\\n', 'OK\\n', 'SE0>script delay 58000\\n', 'OK\\n', 'SE0># Command ID 9 - Noise Mode\\n', 'SE0>csp txrx 12 8 3000 08\\n', 'No answer received\\n', 'FAIL\\n', 'SE0>script delay 5000\\n', 'OK\\n', 'SE0># Command ID 20 - Noise Mode\\n', 'SE0>csp txrx 13 8 3000 01\\n', 'No answer received\\n', 'FAIL\\n', 'SE0>script delay 5000\\n', 'OK\\n', 'SE0># Command ID 3 - Operating Mode\\n', 'SE0>csp txrx 12 8 3000 02\\n', 'No answer received\\n', 'FAIL\\n', 'SE0>script delay 60000\\n', 'OK\\n', 'SE0># Command ID 18 - Operating Mode\\n', 'SE0>csp txrx 13 8 3000 06\\n', 'No answer received\\n', 'FAIL\\n', 'SE0>script delay 2000\\n', 'OK\\n', 'SE0># Command ID 1 - Default Mode\\n', 'SE0>csp txrx 12 8 3000 00\\n', 'No answer received\\n', 'FAIL\\n', 'SE0>script delay 600000\\n', 'OK\\n', 'SE0>script delay 600000\\n', 'OK\\n', 'SE0># Command ID 2 - Default Mode\\n', 'SE0>csp txrx 13 8 3000 00\\n', 'No answer received\\n', 'FAIL\\n', 'SE0>script delay 2000\\n', 'OK\\n', 'SE0># Switching the payloads OFF\\n', 'SE0>csp txrx 4 14 600 0007000000\\n', 'Answer: 0000\\n', 'Bytes: 2\\n', 'Flags: 0x00 (frag=0, HMAC=0, XTEA=0, RDP=0, CRC32=0)\\n', 'OK\\n', 'SE0>csp txrx 4 14 600 0008000300\\n', 'Answer: 0000\\n', 'Bytes: 2\\n', 'Flags: 0x00 (frag=0, HMAC=0, XTEA=0, RDP=0, CRC32=0)\\n', 'OK\\n', 'SE0># Script finished\\n', 'SE0>rtc read\\n', 'curr rtc time 1646299664.765045 s, 2022-03-03 09:27:44 \\n', 'OK\\n', 'SE0>']\n"
     ]
    }
   ],
   "source": [
    "# import data\n",
    "logfile = open(\"../../Data/Logs/light1_first_se_log.txt\",\"r\")\n",
    "loglines = logfile.readlines()\n",
    "print (loglines)"
   ]
  },
  {
   "cell_type": "code",
   "execution_count": 20,
   "metadata": {},
   "outputs": [
    {
     "name": "stdout",
     "output_type": "stream",
     "text": [
      "SE0># Script delay (avoiding SAA)\n",
      "\n",
      "SE0># Enabling the PC and payload (and switching off with the timer of 30m for the payload and 3h for the PC)\n",
      "\n",
      "SE0># Delay 2 minutes\n",
      "\n",
      "SE0># Command ID 1 - Default Mode\n",
      "\n",
      "SE0># Delay 2 seconds\n",
      "\n",
      "SE0># Command ID 2 - Default Mode\n",
      "\n",
      "SE0># Clear buffers\n",
      "\n",
      "SE0># Command ID 9 - Noise Mode\n",
      "\n",
      "SE0># Command ID 20 - Noise Mode\n",
      "\n",
      "SE0># Command ID 3 - Operating Mode\n",
      "\n",
      "SE0># Command ID 18 - Operating Mode\n",
      "\n",
      "SE0># Command ID 1 - Default Mode\n",
      "\n",
      "SE0># Command ID 2 - Default Mode\n",
      "\n",
      "SE0># Switching the payloads OFF\n",
      "\n",
      "SE0># Script finished\n",
      "\n",
      "SE0>\n"
     ]
    }
   ],
   "source": [
    "for i in range(len(loglines)): # i is a number for every line in the log file\n",
    "    k = loglines[i] \n",
    "    if k[0:5] in \"SE0>#\":\n",
    "        print (k)"
   ]
  },
  {
   "cell_type": "code",
   "execution_count": 15,
   "metadata": {},
   "outputs": [
    {
     "name": "stdout",
     "output_type": "stream",
     "text": [
      "SE0># Script delay (avoiding SAA)\n",
      "\n",
      "SE0># Enabling the PC and payload (and switching off with the timer of 30m for the payload and 3h for the PC)\n",
      "\n",
      "SE0># Delay 2 minutes\n",
      "\n",
      "SE0># Command ID 1 - Default Mode\n",
      "\n",
      "SE0># Delay 2 seconds\n",
      "\n",
      "SE0># Command ID 2 - Default Mode\n",
      "\n",
      "SE0># Clear buffers\n",
      "\n",
      "SE0># Command ID 9 - Noise Mode\n",
      "\n",
      "SE0># Command ID 20 - Noise Mode\n",
      "\n",
      "SE0># Command ID 3 - Operating Mode\n",
      "\n",
      "SE0># Command ID 18 - Operating Mode\n",
      "\n",
      "SE0># Command ID 1 - Default Mode\n",
      "\n",
      "SE0># Command ID 2 - Default Mode\n",
      "\n",
      "SE0># Switching the payloads OFF\n",
      "\n",
      "SE0># Script finished\n",
      "\n",
      "SE0>\n"
     ]
    }
   ],
   "source": [
    "for i in loglines:\n",
    "    if i[0:5] in \"SE0>#\":\n",
    "        print (i)\n",
    "    "
   ]
  },
  {
   "cell_type": "code",
   "execution_count": 5,
   "metadata": {},
   "outputs": [
    {
     "name": "stdout",
     "output_type": "stream",
     "text": [
      "\n"
     ]
    }
   ],
   "source": [
    "with logfile as log:\n",
    "    log2 = log.read()\n",
    "    print (log2)"
   ]
  },
  {
   "cell_type": "code",
   "execution_count": null,
   "metadata": {},
   "outputs": [],
   "source": [
    "# \"Time,scenario\""
   ]
  }
 ],
 "metadata": {
  "interpreter": {
   "hash": "603c2dde23853942044ef1ecf9d83c9e0c7746eecc66ee3ed309f571bba3bb71"
  },
  "kernelspec": {
   "display_name": "Python 3.10.2 ('RAAD')",
   "language": "python",
   "name": "python3"
  },
  "language_info": {
   "codemirror_mode": {
    "name": "ipython",
    "version": 3
   },
   "file_extension": ".py",
   "mimetype": "text/x-python",
   "name": "python",
   "nbconvert_exporter": "python",
   "pygments_lexer": "ipython3",
   "version": "3.10.2"
  },
  "orig_nbformat": 4
 },
 "nbformat": 4,
 "nbformat_minor": 2
}

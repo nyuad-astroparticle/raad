{
 "cells": [
  {
   "cell_type": "code",
   "execution_count": 30,
   "metadata": {},
   "outputs": [],
   "source": [
    "import pandas as pd\n",
    "import numpy as np\n",
    "from astropy.time import Time\n",
    "from math import radians, cos, sin, asin, sqrt"
   ]
  },
  {
   "cell_type": "code",
   "execution_count": 31,
   "metadata": {},
   "outputs": [],
   "source": [
    "def haversine(lon1, lat1, lon2, lat2):  #Calculate the great circle distance between two points on the earth \n",
    "                                        #(specified in decimal degrees)\n",
    "    lon1, lat1, lon2, lat2 = map(radians, [lon1, lat1, lon2, lat2]) # convert decimal degrees to radians \n",
    "    # haversine formula \n",
    "    dlon = lon2 - lon1 \n",
    "    dlat = lat2 - lat1 \n",
    "    a = sin(dlat/2)**2 + cos(lat1) * cos(lat2) * sin(dlon/2)**2\n",
    "    c = 2 * asin(sqrt(a)) \n",
    "    r = 6371 # Radius of earth in kilometers. Use 3956 for miles.\n",
    "    return c * r"
   ]
  },
  {
   "cell_type": "code",
   "execution_count": 84,
   "metadata": {},
   "outputs": [],
   "source": [
    "# File of locations of all satellites. Location points per five minutes.\n",
    "Location_File_All_Sats = \"../../Data/Location/ISS_FERMI_Light-1_Locations.csv\"\n",
    "Locations_data_pd = pd.read_csv(Location_File_All_Sats)\n",
    "Locations_headers = list(Locations_data_pd.keys())\n",
    "Locations_data    = [i for i in Locations_data_pd.to_numpy().T]\n",
    "Locations_data    = dict(zip(Locations_headers,Locations_data))\n",
    "\n",
    "# Distance between all sats using great circle distance:\n",
    "distance_ISS_Light1 = [haversine(Locations_data['Lon(deg)Light-1'][i],Locations_data['Lat(deg)Light-1'][i],Locations_data['Lon(deg)ISS'][i],Locations_data['Lat(deg)ISS'][i]) for i in range(len(Locations_data['Time(ModJDate)']))]\n",
    "distance_ISS_Light1 = np.array(distance_ISS_Light1).T\n",
    "distance_FERMI_Light1 = [haversine(Locations_data['Lon(deg)Light-1'][i],Locations_data['Lat(deg)Light-1'][i],Locations_data['Lon(deg)FERMI'][i],Locations_data['Lat(deg)FERMI'][i]) for i in range(len(Locations_data['Time(ModJDate)']))]\n",
    "distance_FERMI_Light1 = np.array(distance_FERMI_Light1).T\n",
    "\n",
    "# Add distances between sats to dict:\n",
    "Locations_data.update({\"ISS_Light-1_Distance(km)\": distance_ISS_Light1})\n",
    "Locations_data.update({\"FERMI_Light-1_Distance(km)\": distance_FERMI_Light1})"
   ]
  },
  {
   "cell_type": "code",
   "execution_count": 86,
   "metadata": {},
   "outputs": [],
   "source": [
    "# Filter data line index and time by distance from Light-1:\n",
    "THRESHOLD_km   = 1000     # Distance threshold (km)\n",
    "\n",
    "ISS_idx_cut     = np.where([i <= THRESHOLD_km for i in distance_ISS_Light1])[0]\n",
    "ISS_time_cut    = Locations_data['Time(ModJDate)'][ISS_idx_cut]\n",
    "\n",
    "FERMI_idx_cut     = np.where([i <= THRESHOLD_km for i in distance_FERMI_Light1])[0]\n",
    "FERMI_time_cut    = Locations_data['Time(ModJDate)'][FERMI_idx_cut]\n",
    "\n",
    "# Format time in MJD and ISOT:\n",
    "ISS_time = [Time(i,format=\"mjd\") for i in ISS_time_cut]\n",
    "ISS_time = [(i.mjd,i.isot) for i in ISS_time]\n",
    "\n",
    "FERMI_time = [Time(i,format=\"mjd\") for i in FERMI_time_cut]\n",
    "FERMI_time = [(i.mjd,i.isot) for i in FERMI_time]"
   ]
  },
  {
   "cell_type": "code",
   "execution_count": 88,
   "metadata": {},
   "outputs": [],
   "source": [
    "# In MJD: .00300 is 5 minutes.. so 0.01 for safety. \n",
    "# This is the threshold that distinguishes two satelite orbit overlaping durations from each other.\n",
    "TIME_THRESHOLD = 0.01\n",
    "\n",
    "num = 0 #for time pronted out: 0 for MJD, 1 for UTC\n",
    "ISS_time_list = [('Start here:', ISS_time[0][num])]\n",
    "ISS_val = 0 # To decide if correlation started at this time or ended at this time.\n",
    "for i in range(len(ISS_time)-1):\n",
    "    if ((ISS_time[i+1][0] - ISS_time[i][0]) >= TIME_THRESHOLD): #must stay in MJD for calculation\n",
    "\n",
    "        if ((ISS_val % 2) == 0): # If val is even or odd\n",
    "            k = (\"End here:\", ISS_time[i][num])\n",
    "            \n",
    "        else:\n",
    "            k = (\"Start here:\", ISS_time[i+1][num])\n",
    "        \n",
    "        ISS_time_list.append(k)\n",
    "        ISS_val = ISS_val + 1\n",
    "k = (\"End here:\", ISS_time[-1][num])\n",
    "ISS_time_list.append(k)\n",
    "\n",
    "\n",
    "FERMI_time_list = [('Start here:', FERMI_time[0][num])]\n",
    "FERMI_val = 0 # To decide if start or end\n",
    "for i in range(len(FERMI_time)-1):\n",
    "    if ((FERMI_time[i+1][0] - FERMI_time[i][0]) >= TIME_THRESHOLD):\n",
    "\n",
    "        if ((FERMI_val % 2) == 0): # If val is even or odd\n",
    "            k = (\"End here:\", FERMI_time[i][num])\n",
    "            \n",
    "        else:\n",
    "            k = (\"Start here:\", FERMI_time[i+1][num])\n",
    "        \n",
    "        FERMI_time_list.append(k)\n",
    "        FERMI_val = FERMI_val + 1\n",
    "k = (\"End here:\", FERMI_time[-1][num])\n",
    "FERMI_time_list.append(k)"
   ]
  },
  {
   "cell_type": "code",
   "execution_count": 47,
   "metadata": {},
   "outputs": [],
   "source": [
    "# ISS_time_list\n",
    "# FERMI_time_list"
   ]
  },
  {
   "cell_type": "code",
   "execution_count": 89,
   "metadata": {},
   "outputs": [],
   "source": [
    "FERMI_Data_During_Light1_Mission = \"../../Data/Other_Sat_Data/FERMI_all_Data_During_Light-1_Mission.csv\"\n",
    "\n",
    "FERMI_data_pd = pd.read_csv(FERMI_Data_During_Light1_Mission)\n",
    "FERMI_Headers = list(FERMI_data_pd.keys())\n",
    "FERMI_data    = [i for i in FERMI_data_pd.to_numpy().T]\n",
    "FERMI_data    = dict(zip(FERMI_Headers,FERMI_data))"
   ]
  },
  {
   "cell_type": "code",
   "execution_count": 90,
   "metadata": {},
   "outputs": [
    {
     "name": "stdout",
     "output_type": "stream",
     "text": [
      "(59892.6063671, 'SGR221109606 ', 16)\n"
     ]
    }
   ],
   "source": [
    "# FERMI_time = [Time(i,format=\"mjd\") for i in FERMI_time_cut]\n",
    "# FERMI_time = [(i.mjd,i.isot) for i in FERMI_time]\n",
    "new_time_threshold = 0.003\n",
    "for i in range(len(FERMI_time_list)-1):\n",
    "    if 'Start' in FERMI_time_list[i][0] and 'End' in FERMI_time_list[i+1][0]:\n",
    "        for k in range(len(FERMI_data['Trigger_Time(MJD)'])-1):\n",
    "            # print (k)\n",
    "            if  (FERMI_time_list[i][1] - new_time_threshold) < FERMI_data['Trigger_Time(MJD)'][k] < (FERMI_time_list[i+1][1] + new_time_threshold):\n",
    "                \n",
    "                Print_line = (FERMI_data['Trigger_Time(MJD)'][k],FERMI_data['Name'][k],FERMI_data['Trigger_Timescale(ms)'][k])\n",
    "                print (Print_line)\n",
    "\n",
    "# now add distance"
   ]
  },
  {
   "cell_type": "code",
   "execution_count": null,
   "metadata": {},
   "outputs": [],
   "source": [
    "# maybe corrilate FERMI data with ASIM later (LIKE WE HAVE IT!!)"
   ]
  }
 ],
 "metadata": {
  "kernelspec": {
   "display_name": "RAAD",
   "language": "python",
   "name": "python3"
  },
  "language_info": {
   "codemirror_mode": {
    "name": "ipython",
    "version": 3
   },
   "file_extension": ".py",
   "mimetype": "text/x-python",
   "name": "python",
   "nbconvert_exporter": "python",
   "pygments_lexer": "ipython3",
   "version": "3.10.5"
  },
  "orig_nbformat": 4,
  "vscode": {
   "interpreter": {
    "hash": "a188e3d59dbe13d296b4a72dffd6c2166ad4df7b6cd72db83359323126f33eab"
   }
  }
 },
 "nbformat": 4,
 "nbformat_minor": 2
}

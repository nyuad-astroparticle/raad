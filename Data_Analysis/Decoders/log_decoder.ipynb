{
 "cells": [
  {
   "cell_type": "code",
   "execution_count": 55,
   "metadata": {},
   "outputs": [],
   "source": [
    "import numpy as np\n",
    "import pandas as pd"
   ]
  },
  {
   "cell_type": "code",
   "execution_count": 2,
   "metadata": {},
   "outputs": [
    {
     "name": "stdout",
     "output_type": "stream",
     "text": [
      "['# Script started\\n', 'SE0>rtc read\\n', 'curr rtc time 1646297867.353394 s, 2022-03-03 08:57:47 \\n', 'OK\\n', 'SE0># Script delay (avoiding SAA)\\n', 'SE0>script delayuntil 1646297935\\n', 'OK\\n', 'SE0># Enabling the PC and payload (and switching off with the timer of 30m for the payload and 3h for the PC)\\n', 'SE0>csp txrx 4 14 600 000500302A\\n', 'Answer: 0000\\n', 'Bytes: 2\\n', 'Flags: 0x00 (frag=0, HMAC=0, XTEA=0, RDP=0, CRC32=0)\\n', 'OK\\n', 'SE0>csp txrx 4 14 600 0007000807\\n', 'Answer: 0000\\n', 'Bytes: 2\\n', 'Flags: 0x00 (frag=0, HMAC=0, XTEA=0, RDP=0, CRC32=0)\\n', 'OK\\n', 'SE0>csp txrx 4 14 600 0008000807\\n', 'Answer: 0000\\n', 'Bytes: 2\\n', 'Flags: 0x00 (frag=0, HMAC=0, XTEA=0, RDP=0, CRC32=0)\\n', 'OK\\n', 'SE0>csp txrx 4 14 600 0005010100\\n', 'Answer: 0000\\n', 'Bytes: 2\\n', 'Flags: 0x00 (frag=0, HMAC=0, XTEA=0, RDP=0, CRC32=0)\\n', 'OK\\n', 'SE0>csp txrx 4 14 600 0007011400\\n', 'Answer: 0000\\n', 'Bytes: 2\\n', 'Flags: 0x00 (frag=0, HMAC=0, XTEA=0, RDP=0, CRC32=0)\\n', 'OK\\n', 'SE0>csp txrx 4 14 600 0008011E00\\n', 'Answer: 0000\\n', 'Bytes: 2\\n', 'Flags: 0x00 (frag=0, HMAC=0, XTEA=0, RDP=0, CRC32=0)\\n', 'OK\\n', 'SE0># Delay 2 minutes\\n', 'SE0>script delay 120000\\n', 'OK\\n', 'SE0># Command ID 1 - Default Mode\\n', 'SE0>csp txrx 12 8 3000 00\\n', 'No answer received\\n', 'FAIL\\n', 'SE0># Delay 2 seconds\\n', 'SE0>script delay 2000\\n', 'OK\\n', 'SE0># Command ID 2 - Default Mode\\n', 'SE0>csp txrx 13 8 3000 00\\n', 'No answer received\\n', 'FAIL\\n', 'SE0># Clear buffers\\n', 'SE0>fs clear 32\\n', 'OK\\n', 'SE0>script delay 30000\\n', 'OK\\n', 'SE0>fs clear 33\\n', 'OK\\n', 'SE0>script delay 30000\\n', 'OK\\n', 'SE0>fs clear 34\\n', 'OK\\n', 'SE0>script delay 30000\\n', 'OK\\n', 'SE0>fs clear 35\\n', 'OK\\n', 'SE0>script delay 30000\\n', 'OK\\n', 'SE0>fs clear 36\\n', 'OK\\n', 'SE0>script delay 30000\\n', 'OK\\n', 'SE0>fs clear 37\\n', 'OK\\n', 'SE0>script delay 30000\\n', 'OK\\n', 'SE0>fs clear 38\\n', 'OK\\n', 'SE0>script delay 30000\\n', 'OK\\n', 'SE0>fs clear 39\\n', 'OK\\n', 'SE0>script delay 30000\\n', 'OK\\n', 'SE0>fs clear 40\\n', 'OK\\n', 'SE0>script delay 58000\\n', 'OK\\n', 'SE0># Command ID 9 - Noise Mode\\n', 'SE0>csp txrx 12 8 3000 08\\n', 'No answer received\\n', 'FAIL\\n', 'SE0>script delay 5000\\n', 'OK\\n', 'SE0># Command ID 20 - Noise Mode\\n', 'SE0>csp txrx 13 8 3000 01\\n', 'No answer received\\n', 'FAIL\\n', 'SE0>script delay 5000\\n', 'OK\\n', 'SE0># Command ID 3 - Operating Mode\\n', 'SE0>csp txrx 12 8 3000 02\\n', 'No answer received\\n', 'FAIL\\n', 'SE0>script delay 60000\\n', 'OK\\n', 'SE0># Command ID 18 - Operating Mode\\n', 'SE0>csp txrx 13 8 3000 06\\n', 'No answer received\\n', 'FAIL\\n', 'SE0>script delay 2000\\n', 'OK\\n', 'SE0># Command ID 1 - Default Mode\\n', 'SE0>csp txrx 12 8 3000 00\\n', 'No answer received\\n', 'FAIL\\n', 'SE0>script delay 600000\\n', 'OK\\n', 'SE0>script delay 600000\\n', 'OK\\n', 'SE0># Command ID 2 - Default Mode\\n', 'SE0>csp txrx 13 8 3000 00\\n', 'No answer received\\n', 'FAIL\\n', 'SE0>script delay 2000\\n', 'OK\\n', 'SE0># Switching the payloads OFF\\n', 'SE0>csp txrx 4 14 600 0007000000\\n', 'Answer: 0000\\n', 'Bytes: 2\\n', 'Flags: 0x00 (frag=0, HMAC=0, XTEA=0, RDP=0, CRC32=0)\\n', 'OK\\n', 'SE0>csp txrx 4 14 600 0008000300\\n', 'Answer: 0000\\n', 'Bytes: 2\\n', 'Flags: 0x00 (frag=0, HMAC=0, XTEA=0, RDP=0, CRC32=0)\\n', 'OK\\n', 'SE0># Script finished\\n', 'SE0>rtc read\\n', 'curr rtc time 1646299664.765045 s, 2022-03-03 09:27:44 \\n', 'OK\\n', 'SE0>']\n"
     ]
    }
   ],
   "source": [
    "# import data\n",
    "logfile = open(\"../../Data/Logs/light1_first_se_log.txt\")\n",
    "# logfile = open(\"../../Data/Logs/Light1_OperationalTest_May6_ScriptLog_1.txt\")\n",
    "loglines = logfile.readlines()\n",
    "print (loglines)"
   ]
  },
  {
   "cell_type": "code",
   "execution_count": 3,
   "metadata": {},
   "outputs": [
    {
     "name": "stdout",
     "output_type": "stream",
     "text": [
      "Line: 1 , Command: SE0>rtc read\n",
      " , Time: 1646297867.353394 s, 2022-03-03 08:57:47 \n",
      "\n",
      "Line: 139 , Command: SE0>rtc read\n",
      " , Time: 1646299664.765045 s, 2022-03-03 09:27:44 \n",
      "\n"
     ]
    }
   ],
   "source": [
    "for i in range(len(loglines)): # i is a number for every line in the log file\n",
    "    k = loglines[i] \n",
    "    if \"SE0>rtc read\" in k:\n",
    "        I = i+1\n",
    "        l = loglines[I][14:]\n",
    "        print (\"Line:\" , i , \", Command:\" , k , \", Time:\" , l )\n",
    "\n",
    "# if the value is in range of the full range of file?\n",
    "# first rtc must be start of code, second rtc must be end of code"
   ]
  },
  {
   "cell_type": "code",
   "execution_count": 4,
   "metadata": {},
   "outputs": [
    {
     "name": "stdout",
     "output_type": "stream",
     "text": [
      "line:  1 , command:  SE0>rtc read\n",
      "\n",
      "line:  139 , command:  SE0>rtc read\n",
      "\n",
      "line:  142 , command:  SE0>\n"
     ]
    }
   ],
   "source": [
    "for i in range(len(loglines)): # i is a number for every line in the log file\n",
    "    k = loglines[i] \n",
    "    # l = loglines[i+1]\n",
    "    if k[0:12] in \"SE0>rtc read\":\n",
    "        # l=i+1\n",
    "        print (\"line: \" , i , \", command: \" , k )\n",
    "\n",
    "\n",
    "\n",
    "\n",
    "    # if k[0:5] in \"SE0>#\":\n",
    "    #     print (k)"
   ]
  },
  {
   "cell_type": "code",
   "execution_count": 5,
   "metadata": {},
   "outputs": [],
   "source": [
    "# Work to find the following:\n",
    "\n",
    "# \"Time,scenario\"\n",
    "# \"At time () command () was excuted.\n",
    "# \"At time () command () failed.\"\n",
    "\n",
    "# If line in SE0>:\n",
    "# print the time\n",
    "# print the command\n",
    "# print the info\n",
    "# print if command was excuted or failed"
   ]
  },
  {
   "cell_type": "code",
   "execution_count": 80,
   "metadata": {},
   "outputs": [
    {
     "data": {
      "text/plain": [
       "pandas.core.frame.DataFrame"
      ]
     },
     "execution_count": 80,
     "metadata": {},
     "output_type": "execute_result"
    }
   ],
   "source": [
    "cmdlist = pd.read_csv(\"command_list.csv\")\n",
    "type(cmdlist)"
   ]
  },
  {
   "cell_type": "code",
   "execution_count": 104,
   "metadata": {},
   "outputs": [
    {
     "name": "stdout",
     "output_type": "stream",
     "text": [
      "['SE0>csp', 'txrx', '12', '8', '3000', '08']\n",
      "this is a command\n",
      "Empty DataFrame\n",
      "Columns: [Description]\n",
      "Index: []\n",
      "Command not found in command list:  SE0>csp txrx 12 8 3000 08\n"
     ]
    }
   ],
   "source": [
    "line = 'SE0>csp txrx 12 8 3000 08'\n",
    "splt = line.split(' ')\n",
    "print(splt)\n",
    "if 'txrx' in splt[1]:\n",
    "    print('this is a command')\n",
    "    node,port,msg = splt[2],splt[3],splt[5]\n",
    "    index = cmdlist.loc[(cmdlist['NODE']==12) & (cmdlist['PORT']==port) & (cmdlist['Message']==msg),['Description']]\n",
    "    print(index)\n",
    "    if len(index) == 0:\n",
    "        print('Command not found in command list: ', line)\n",
    "    else:\n",
    "        print(index)\n",
    "\n",
    "elif splt[1] == 'delay':\n",
    "    print('this is a delay')\n",
    "\n",
    "elif splt[1] == 'delayuntil':\n",
    "    print('this is a delayuntil')\n",
    "\n",
    "elif splt[1] == 'read':\n",
    "    print('read the current time')\n",
    "\n",
    "\n"
   ]
  },
  {
   "cell_type": "code",
   "execution_count": null,
   "metadata": {},
   "outputs": [],
   "source": [
    "def desc_time_finder(line:str):\n",
    "    # command,node,port,message\n",
    "    splt = line.split(' ')"
   ]
  },
  {
   "cell_type": "code",
   "execution_count": 47,
   "metadata": {},
   "outputs": [],
   "source": [
    "def decode_log(filename:str=\"../../Data/Logs/light1-SD-1016-se-log.txt\"):\n",
    "    # Load the logfile\n",
    "    logfile = open(filename)\n",
    "    cmdlist = pd.read_csv(\"command_list.csv\")\n",
    "\n",
    "    # Load the lines\n",
    "    loglines = logfile.readlines()\n",
    "\n",
    "    # Close the file\n",
    "    logfile.close()\n",
    "\n",
    "    # Create an array with the lines\n",
    "    commands    = []\n",
    "    outputs     = []\n",
    "    idx         = []\n",
    "    description = []\n",
    "\n",
    "    # time = 0\n",
    "\n",
    "    # Get commands and their indices\n",
    "    for i, line in enumerate(loglines):\n",
    "        if 'SE0>' in line:\n",
    "            commands.append(line)\n",
    "            idx.append(i)\n",
    "            description_finder(line)\n",
    "\n",
    "    # Check if the last command was empty\n",
    "    if loglines[-1] != 'SE0>':\n",
    "        commands.append('SE0>')\n",
    "        idx.append(len(loglines))\n",
    "\n",
    "    # Get the command output\n",
    "    for i in range(len(idx)-1):\n",
    "        out = []\n",
    "        if 'SE0>#' not in commands[i]:\n",
    "            for j in range(idx[i]+1,idx[i+1]):\n",
    "                out.append(loglines[j])\n",
    "        \n",
    "        outputs.append(out)\n",
    "\n",
    "    # Create the dictionary\n",
    "    log = [[command,output] for command,output in zip(commands,outputs)]\n",
    "\n",
    "    # Create a dictionary\n",
    "    return log, commands[:-1], outputs, description"
   ]
  },
  {
   "cell_type": "code",
   "execution_count": 48,
   "metadata": {},
   "outputs": [],
   "source": [
    "# Get hte log file and the commands\n",
    "log, commands, outputs   = decode_log()"
   ]
  },
  {
   "cell_type": "code",
   "execution_count": 50,
   "metadata": {},
   "outputs": [],
   "source": [
    "# Check which commands executed correcly\n",
    "failed_idx = []\n",
    "failed_cmd = []\n",
    "failed_output = []\n",
    "\n",
    "# Find the commands that failed\n",
    "for i in range(len(commands)):\n",
    "    for output in log[i][1]:\n",
    "        if 'FAIL' in output:\n",
    "            failed_idx.append(i)\n",
    "            failed_cmd.append(commands[i])\n",
    "            failed_output.append(outputs[i])"
   ]
  },
  {
   "cell_type": "code",
   "execution_count": 54,
   "metadata": {},
   "outputs": [],
   "source": [
    "# print (failed_idx)\n",
    "# print (failed_cmd,failed_output)\n",
    "# print (failed_output)"
   ]
  },
  {
   "cell_type": "code",
   "execution_count": null,
   "metadata": {},
   "outputs": [],
   "source": [
    "# Decode the file"
   ]
  },
  {
   "cell_type": "code",
   "execution_count": null,
   "metadata": {},
   "outputs": [],
   "source": [
    "# Define the command description in a dict\n",
    "# return timestamps of the scenarios and the failures (use the delays and the rtc reads to find the time)\n",
    "# id,line,command,description,output\n"
   ]
  },
  {
   "cell_type": "code",
   "execution_count": null,
   "metadata": {},
   "outputs": [],
   "source": [
    "# line = SE0>csp txrx 12 8 3000 08\n",
    "def f(line:str):\n",
    "    line[13:15]"
   ]
  }
 ],
 "metadata": {
  "interpreter": {
   "hash": "603c2dde23853942044ef1ecf9d83c9e0c7746eecc66ee3ed309f571bba3bb71"
  },
  "kernelspec": {
   "display_name": "Python 3.10.2 ('RAAD')",
   "language": "python",
   "name": "python3"
  },
  "language_info": {
   "codemirror_mode": {
    "name": "ipython",
    "version": 3
   },
   "file_extension": ".py",
   "mimetype": "text/x-python",
   "name": "python",
   "nbconvert_exporter": "python",
   "pygments_lexer": "ipython3",
   "version": "3.10.2"
  },
  "orig_nbformat": 4
 },
 "nbformat": 4,
 "nbformat_minor": 2
}

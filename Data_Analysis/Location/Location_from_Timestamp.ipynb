{
 "cells": [
  {
   "cell_type": "markdown",
   "metadata": {},
   "source": [
    "# <span style=\"color:#72A98F\">Location from Timestamp Notebook</span>\n",
    "\n",
    "Hello Person! In this notebook I will be using the *[LLAT](../../Data/Location/LIGHT-1_LLA_April.csv)* (Latitude Longitude Altitude Time) file to find the location at a given **Event Timestamp**."
   ]
  },
  {
   "cell_type": "markdown",
   "metadata": {},
   "source": [
    "## <span style=\"color:#72A98F\">Importing libraries and giving constant values</span>"
   ]
  },
  {
   "cell_type": "code",
   "execution_count": 2,
   "metadata": {},
   "outputs": [],
   "source": [
    "import numpy as np\n",
    "import pandas as pd\n",
    "from astropy.time import Time\n",
    "import raadpy as rp"
   ]
  },
  {
   "cell_type": "markdown",
   "metadata": {},
   "source": [
    "## <span style=\"color:#72A98F\">Finding Timestamp location for a specific value</span>"
   ]
  },
  {
   "cell_type": "code",
   "execution_count": 3,
   "metadata": {},
   "outputs": [
    {
     "name": "stdout",
     "output_type": "stream",
     "text": [
      "The time value given does not exist in the range from March to April!\n",
      "For reference, the time in mjd should be between 59639.0 and 59700.0\n"
     ]
    },
    {
     "ename": "NameError",
     "evalue": "name 'LLATData' is not defined",
     "output_type": "error",
     "traceback": [
      "\u001b[1;31m---------------------------------------------------------------------------\u001b[0m",
      "\u001b[1;31mNameError\u001b[0m                                 Traceback (most recent call last)",
      "\u001b[1;32mc:\\Users\\Lolow\\Documents\\RAAD\\raad\\Data_Analysis\\Location\\Location_from_Timestamp.ipynb Cell 5'\u001b[0m in \u001b[0;36m<cell line: 23>\u001b[1;34m()\u001b[0m\n\u001b[0;32m     <a href='vscode-notebook-cell:/c%3A/Users/Lolow/Documents/RAAD/raad/Data_Analysis/Location/Location_from_Timestamp.ipynb#ch0000004?line=19'>20</a>\u001b[0m     \u001b[39mprint\u001b[39m(\u001b[39m\"\u001b[39m\u001b[39mThe time value given does not exist in the range from March to April!\u001b[39m\u001b[39m\\n\u001b[39;00m\u001b[39mFor reference, the time in mjd should be between 59639.0 and 59700.0\u001b[39m\u001b[39m\"\u001b[39m)\n\u001b[0;32m     <a href='vscode-notebook-cell:/c%3A/Users/Lolow/Documents/RAAD/raad/Data_Analysis/Location/Location_from_Timestamp.ipynb#ch0000004?line=21'>22</a>\u001b[0m \u001b[39m#Read the time column only\u001b[39;00m\n\u001b[1;32m---> <a href='vscode-notebook-cell:/c%3A/Users/Lolow/Documents/RAAD/raad/Data_Analysis/Location/Location_from_Timestamp.ipynb#ch0000004?line=22'>23</a>\u001b[0m TData \u001b[39m=\u001b[39m LLATData[\u001b[39m\"\u001b[39m\u001b[39mTime (ModJDate)\u001b[39m\u001b[39m\"\u001b[39m]\n\u001b[0;32m     <a href='vscode-notebook-cell:/c%3A/Users/Lolow/Documents/RAAD/raad/Data_Analysis/Location/Location_from_Timestamp.ipynb#ch0000004?line=24'>25</a>\u001b[0m \u001b[39m#Count the rows and look through them.\u001b[39;00m\n\u001b[0;32m     <a href='vscode-notebook-cell:/c%3A/Users/Lolow/Documents/RAAD/raad/Data_Analysis/Location/Location_from_Timestamp.ipynb#ch0000004?line=25'>26</a>\u001b[0m \u001b[39mfor\u001b[39;00m row \u001b[39min\u001b[39;00m \u001b[39mrange\u001b[39m(\u001b[39mlen\u001b[39m(TData)):\n\u001b[0;32m     <a href='vscode-notebook-cell:/c%3A/Users/Lolow/Documents/RAAD/raad/Data_Analysis/Location/Location_from_Timestamp.ipynb#ch0000004?line=26'>27</a>\u001b[0m \n\u001b[0;32m     <a href='vscode-notebook-cell:/c%3A/Users/Lolow/Documents/RAAD/raad/Data_Analysis/Location/Location_from_Timestamp.ipynb#ch0000004?line=27'>28</a>\u001b[0m     \u001b[39m#\u001b[39;00m\n",
      "\u001b[1;31mNameError\u001b[0m: name 'LLATData' is not defined"
     ]
    }
   ],
   "source": [
    "# GivenTimestamp = E.get_mjd()\n",
    "# A remake of this line above will be used to actually get the timestamp ^\n",
    "# But for now, we will name a value that exists in the range of april.\n",
    "GivenTimestamp = 19639\n",
    "\n",
    "#If the timestamp lies somewhere in March this will use the March file!\n",
    "if Time(59639.00000000, format='mjd') <= Time(GivenTimestamp, format='mjd') <= Time(59670.00000000, format='mjd'):\n",
    "    print(\"This time lies in March!\")\n",
    "    LocationFile = '../../Data/Location/LIGHT-1_LLA_March.csv'\n",
    "    LLATData = pd.read_csv(LocationFile)\n",
    "    \n",
    "#If the timestamp lies somewhere in April this will use the April file!\n",
    "elif Time(59670.00000000, format='mjd') <= Time(GivenTimestamp, format='mjd') <= Time(59700.00000000, format='mjd'):\n",
    "    print(\"This time lies in April!\")\n",
    "    LocationFile = '../../Data/Location/LIGHT-1_LLA_April.csv'\n",
    "    LLATData = pd.read_csv(LocationFile)\n",
    "    \n",
    "#If the timestamp reached does not exist in the range useable, this will skip that specific value only.\n",
    "else:\n",
    "    print(\"The time value given does not exist in the range from March to April!\\nFor reference, the time in mjd should be between 59639.0 and 59700.0\")\n",
    "\n",
    "#Read the time column only\n",
    "TData = LLATData[\"Time (ModJDate)\"]\n",
    "\n",
    "#Count the rows and look through them.\n",
    "for row in range(len(TData)):\n",
    "\n",
    "    #\n",
    "    if GivenTimestamp == TData[row]:\n",
    "        MaximumData = LLATData.T[row]\n",
    "        MinimumData = LLATData.T[row]\n",
    "        break\n",
    "    \n",
    "    if TData[row] >= GivenTimestamp:\n",
    "        MaximumData = LLATData.T[row]\n",
    "        MinimumData = LLATData.T[row-1]\n",
    "        break\n",
    "\n",
    "TimeRange = [MinimumData[0], MaximumData[0]]\n",
    "LongRange = [MinimumData[2], MaximumData[2]]\n",
    "LatRange  = [MinimumData[1], MaximumData[1]]\n",
    "longitude2 = np.interp(GivenTimestamp, TimeRange, LongRange)\n",
    "latitude2 = np.interp(GivenTimestamp, TimeRange, LatRange)\n",
    "\n",
    "TS = [] #For the values to be added together.\n",
    "TS.append([GivenTimestamp, longitude2, latitude2])\n",
    "TS"
   ]
  },
  {
   "cell_type": "markdown",
   "metadata": {},
   "source": [
    "## <span style=\"color:#72A98F\">Finding Timestamp Locations for an Array of Timestamps"
   ]
  },
  {
   "cell_type": "code",
   "execution_count": 5,
   "metadata": {},
   "outputs": [
    {
     "name": "stdout",
     "output_type": "stream",
     "text": [
      "The time value given does not exist in the range from March to April!\n",
      "For reference, the time in mjd should be between 59639.0 and 59700.0\n",
      "[[59671, 46.938, -48.851]]\n"
     ]
    }
   ],
   "source": [
    "TSA  = [59621,59671]\n",
    "TSL = []\n",
    "\n",
    "for ts in TSA:\n",
    "\n",
    "    #If the timestamp lies somewhere in March this will use the March file!\n",
    "    if Time(59639.00000000, format='mjd') <= Time(ts, format='mjd') <= Time(59670.00000000, format='mjd'):\n",
    "        LocationFile = '../../Data/Location/LIGHT-1_LLA_March.csv'\n",
    "        LLATData = pd.read_csv(LocationFile)\n",
    "    \n",
    "    #If the timestamp lies somewhere in April this will use the April file!\n",
    "    elif Time(59670.00000000, format='mjd') <= Time(ts, format='mjd') <= Time(59700.00000000, format='mjd'):\n",
    "        LocationFile = '../../Data/Location/LIGHT-1_LLA_April.csv'\n",
    "        LLATData = pd.read_csv(LocationFile)\n",
    "    \n",
    "    #If the timestamp reached does not exist in the range useable, this will skip that specific value only.\n",
    "    else:\n",
    "        print(\"The time value given does not exist in the range from March to April!\\nFor reference, the time in mjd should be between 59639.0 and 59700.0\")\n",
    "        continue #Skips the values not in the range!\n",
    "\n",
    "    #Telling it to take the time column\n",
    "    TData = LLATData[\"Time (ModJDate)\"]\n",
    "\n",
    "    #Start the loop that looks through the file.\n",
    "    for row in range(len(TData)):\n",
    "\n",
    "        #If the timestamp exists in the data file, use the location already given, and leave the loop. (Condition 1)\n",
    "        if ts == TData[row]:\n",
    "            MaximumData = LLATData.T[row]\n",
    "            MinimumData = LLATData.T[row]\n",
    "            break\n",
    "        \n",
    "        #If the timestamp does not exist in the file, then take the values before and after it, then leave the loop. (Condition 2)\n",
    "        if TData[row] >= ts:\n",
    "            MaximumData = LLATData.T[row]\n",
    "            MinimumData = LLATData.T[row-1]\n",
    "            break\n",
    "    \n",
    "    #If Condition 1 is met, this part will not affect any values.\n",
    "    #Otherwise, if Condition 2 is met, this part will interpolate the values linearly. \n",
    "    #(Hopefully using different interpolation methods later!)\n",
    "    TimeRange = [MinimumData[0], MaximumData[0]]\n",
    "    LongRange = [MinimumData[2], MaximumData[2]]\n",
    "    LatRange  = [MinimumData[1], MaximumData[1]]\n",
    "    longitude = np.interp(ts, TimeRange, LongRange)\n",
    "    latitude = np.interp(ts, TimeRange, LatRange)\n",
    "\n",
    "    #Append the values into an array.\n",
    "    TSL.append([ts,longitude,latitude])\n",
    "\n",
    "print(TSL)"
   ]
  },
  {
   "cell_type": "markdown",
   "metadata": {},
   "source": [
    "## <span style=\"color:#72A98F\">*Ignore what's below this point*</span>"
   ]
  },
  {
   "cell_type": "code",
   "execution_count": null,
   "metadata": {},
   "outputs": [],
   "source": [
    "# time = E.get_mjd()\n",
    "\n",
    "# def f(EV:rp.event):\n",
    "#     time = EV.get_mjd()"
   ]
  },
  {
   "cell_type": "code",
   "execution_count": null,
   "metadata": {},
   "outputs": [],
   "source": [
    "# def g(a):\n",
    "#     return a+2"
   ]
  }
 ],
 "metadata": {
  "kernelspec": {
   "display_name": "Python 3.10.5 ('RAAD')",
   "language": "python",
   "name": "python3"
  },
  "language_info": {
   "codemirror_mode": {
    "name": "ipython",
    "version": 3
   },
   "file_extension": ".py",
   "mimetype": "text/x-python",
   "name": "python",
   "nbconvert_exporter": "python",
   "pygments_lexer": "ipython3",
   "version": "3.10.5"
  },
  "orig_nbformat": 4,
  "vscode": {
   "interpreter": {
    "hash": "36e052e0085dec9500ca722c5d674a9a5be9fd8cce245806b93705a8bf4353cd"
   }
  }
 },
 "nbformat": 4,
 "nbformat_minor": 2
}

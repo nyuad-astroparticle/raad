{
 "cells": [
  {
   "cell_type": "code",
   "execution_count": 1,
   "id": "025c2c97",
   "metadata": {},
   "outputs": [],
   "source": [
    "# Import our raad library\n",
    "\n",
    "# Load the TGF DATA (either from fermi or Light-1)\n",
    "\n",
    "# Convert the data to our own TGF class\n",
    "\n",
    "# Take a data point\n",
    "\n",
    "# Print the closest lightnings\n",
    "\n",
    "# Plot them in a map"
   ]
  },
  {
   "cell_type": "code",
   "execution_count": null,
   "id": "38550b03",
   "metadata": {},
   "outputs": [],
   "source": [
    "# NOTES:\n",
    "\n"
   ]
  }
 ],
 "metadata": {
  "kernelspec": {
   "display_name": "Python 3 (ipykernel)",
   "language": "python",
   "name": "python3"
  },
  "language_info": {
   "codemirror_mode": {
    "name": "ipython",
    "version": 3
   },
   "file_extension": ".py",
   "mimetype": "text/x-python",
   "name": "python",
   "nbconvert_exporter": "python",
   "pygments_lexer": "ipython3",
   "version": "3.10.2"
  }
 },
 "nbformat": 4,
 "nbformat_minor": 5
}

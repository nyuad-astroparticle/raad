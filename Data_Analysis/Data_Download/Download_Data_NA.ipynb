{
 "cells": [
  {
   "cell_type": "markdown",
   "metadata": {},
   "source": [
    "# Download Data from NanoAvionics\n",
    "\n",
    "The final notebook to be used to download the LIght-1 data from the NanoAvionics server. The rest of the notebooks in this directory are used for development"
   ]
  },
  {
   "cell_type": "code",
   "execution_count": 4,
   "metadata": {},
   "outputs": [],
   "source": [
    "# Import libraries\n",
    "import raadpy as rp"
   ]
  },
  {
   "cell_type": "code",
   "execution_count": 6,
   "metadata": {},
   "outputs": [
    {
     "name": "stdout",
     "output_type": "stream",
     "text": [
      "Current File:  https://light1.mcs.nanoavionics.com/pc_se0_log_download?archived_ts=gte.2022-10-11T00:00:00&archived_ts=lt.2022-10-13T23:59:59 \n",
      "Entries Downloaded: 0 \n",
      "Last Sequence Number: -1 \n",
      "Iterations: 0\n",
      "Bytes per entry:  []\n",
      "{'start_time': '2022-10-10 13:37:12', 'end_time': '2022-10-13 08:15:00', 'hv_SiPM': 0, 'hv_PMT': 0, 'hv_veto_SiPM': 9, 'hv_veto_PMT': 9, 'thresholds_SiPM': {'channel_0': 3904, 'channel_1': 5632, 'channel_2': 400, 'channel_3': 5632}, 'thresholds_PMT': {'channel_0': 65535, 'channel_1': 65535, 'channel_2': 65535, 'channel_3': 65535}, 'custom_scenario_PMT': '00000009FFFFFFFFFFFFFFFF', 'custom_scenario_SiPM': '00000009400F001690010016'}\n"
     ]
    }
   ],
   "source": [
    "# Download the data packet specifying the timestamps\n",
    "metadata = rp.download_data_packet(\n",
    "    start    = '2022-10-11T00:00:00',\n",
    "    end      = '2022-10-13T23:59:59',\n",
    "    # start    = '2022-10-11T00:00:00',\n",
    "    # end      = '2022-10-13T23:59:59',\n",
    "    filepath ='../../Data/Light-1/')\n",
    "\n",
    "print(metadata)"
   ]
  }
 ],
 "metadata": {
  "kernelspec": {
   "display_name": "Python 3.10.6 ('base')",
   "language": "python",
   "name": "python3"
  },
  "language_info": {
   "codemirror_mode": {
    "name": "ipython",
    "version": 3
   },
   "file_extension": ".py",
   "mimetype": "text/x-python",
   "name": "python",
   "nbconvert_exporter": "python",
   "pygments_lexer": "ipython3",
   "version": "3.10.6"
  },
  "orig_nbformat": 4,
  "vscode": {
   "interpreter": {
    "hash": "5cf15d210532a4fff46503574f56be48a4f12464b62874e7bd21532277ac077e"
   }
  }
 },
 "nbformat": 4,
 "nbformat_minor": 2
}

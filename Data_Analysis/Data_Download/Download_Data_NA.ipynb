{
 "cells": [
  {
   "cell_type": "markdown",
   "metadata": {},
   "source": [
    "# Download Data from NanoAvionics\n",
    "\n",
    "The final notebook to be used to download the LIght-1 data from the NanoAvionics server. The rest of the notebooks in this directory are used for development"
   ]
  },
  {
   "cell_type": "code",
   "execution_count": 2,
   "metadata": {},
   "outputs": [],
   "source": [
    "# Import libraries\n",
    "import raadpy as rp"
   ]
  },
  {
   "cell_type": "code",
   "execution_count": 3,
   "metadata": {},
   "outputs": [
    {
     "name": "stdout",
     "output_type": "stream",
     "text": [
      "Current File:  https://light1.mcs.nanoavionics.com/pc_se0_log_download?archived_ts=gte.2022-09-07T00:00:00&archived_ts=lt.2022-09-013T23:00:00 \n",
      "Entries Downloaded: 0 \n",
      "Last Sequence Number: -1 \n",
      "Iterations: 0\n",
      "Bytes per entry:  []\n",
      "{'start_time': '2022-09-07 02:15:00', 'end_time': '2022-09-13 00:06:59', 'hv_SiPM': 0, 'hv_PMT': 3855, 'hv_veto_SiPM': 9, 'hv_veto_PMT': 9, 'thresholds_SiPM': {'channel_0': 3904, 'channel_1': 5632, 'channel_2': 400, 'channel_3': 5632}, 'thresholds_PMT': {'channel_0': 3000, 'channel_1': 4944, 'channel_2': 1800, 'channel_3': 4200}, 'custom_scenario_PMT': '0F0F0009B80B501308076810', 'custom_scenario_SiPM': '00000009400F001690010016'}\n"
     ]
    }
   ],
   "source": [
    "# Download the data packet specifying the timestamps\n",
    "metadata = rp.download_data_packet(\n",
    "    start    = '2022-09-07T00:00:00', \n",
    "    end      = '2022-09-013T23:00:00',\n",
    "    filepath ='../../Data/Light-1/')\n",
    "\n",
    "print(metadata)"
   ]
  },
  {
   "cell_type": "code",
   "execution_count": null,
   "metadata": {},
   "outputs": [],
   "source": []
  }
 ],
 "metadata": {
  "kernelspec": {
   "display_name": "Python 3.10.5 ('base')",
   "language": "python",
   "name": "python3"
  },
  "language_info": {
   "codemirror_mode": {
    "name": "ipython",
    "version": 3
   },
   "file_extension": ".py",
   "mimetype": "text/x-python",
   "name": "python",
   "nbconvert_exporter": "python",
   "pygments_lexer": "ipython3",
   "version": "3.10.5"
  },
  "orig_nbformat": 4,
  "vscode": {
   "interpreter": {
    "hash": "3fd2e6389a0fd7c635319bf7383768acfaf026bf5f56a6bed54341f1b15812d5"
   }
  }
 },
 "nbformat": 4,
 "nbformat_minor": 2
}

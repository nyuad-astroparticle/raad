{
 "cells": [
  {
   "cell_type": "code",
   "execution_count": 2,
   "id": "025c2c97",
   "metadata": {},
   "outputs": [
    {
     "name": "stdout",
     "output_type": "stream",
     "text": [
      "    0 Lightning: -79.891498 | Mission: Blitzurtong\n",
      "        Timestamp (ISO): 2021-06-28 01:37:54.938\n",
      "        Lat:   14.9226 \t Long:  -79.8915\n",
      "        Detector_id: Blitz\n",
      "        \n",
      "    1 Lightning: -90.06834 | Mission: Blitzurtong\n",
      "        Timestamp (ISO): 2021-06-28 01:37:53.891\n",
      "        Lat:   33.1204 \t Long:  -90.0683\n",
      "        Detector_id: Blitz\n",
      "        \n",
      "    2 Lightning: -90.026664 | Mission: Blitzurtong\n",
      "        Timestamp (ISO): 2021-06-28 01:37:53.892\n",
      "        Lat:   33.2297 \t Long:  -90.0267\n",
      "        Detector_id: Blitz\n",
      "        \n",
      "    3 Lightning: -90.245875 | Mission: Blitzurtong\n",
      "        Timestamp (ISO): 2021-06-28 01:37:54.287\n",
      "        Lat:   21.2897 \t Long:  -90.2459\n",
      "        Detector_id: Blitz\n",
      "        \n",
      "    4 Lightning: -79.895168 | Mission: Blitzurtong\n",
      "        Timestamp (ISO): 2021-06-28 01:37:54.938\n",
      "        Lat:   14.9215 \t Long:  -79.8952\n",
      "        Detector_id: Blitz\n",
      "        \n",
      "    5 Lightning: -93.797868 | Mission: Blitzurtong\n",
      "        Timestamp (ISO): 2021-06-28 01:37:55.242\n",
      "        Lat:   35.4030 \t Long:  -93.7979\n",
      "        Detector_id: Blitz\n",
      "        \n",
      "    6 Lightning: -93.813384 | Mission: Blitzurtong\n",
      "        Timestamp (ISO): 2021-06-28 01:37:55.242\n",
      "        Lat:   35.4195 \t Long:  -93.8134\n",
      "        Detector_id: Blitz\n",
      "        \n",
      "    7 Lightning: -93.814553 | Mission: Blitzurtong\n",
      "        Timestamp (ISO): 2021-06-28 01:37:55.356\n",
      "        Lat:   35.5046 \t Long:  -93.8146\n",
      "        Detector_id: Blitz\n",
      "        \n",
      "\n",
      "[-0.498408370648562, 0.5482131904049226, 0.5481736129148373, 0.1525997584678862, -0.4984076553967043, -0.8023183876598949, -0.8023253017995557, -0.9163008267023542]\n"
     ]
    },
    {
     "data": {},
     "metadata": {},
     "output_type": "display_data"
    },
    {
     "data": {
      "application/vnd.holoviews_exec.v0+json": "",
      "text/html": [
       "<div id='1221'>\n",
       "\n",
       "\n",
       "\n",
       "\n",
       "\n",
       "  <div class=\"bk-root\" id=\"d266ae4b-5bb5-4b10-b13d-22fddfeff208\" data-root-id=\"1221\"></div>\n",
       "</div>\n",
       "<script type=\"application/javascript\">(function(root) {\n",
       "  function embed_document(root) {\n",
       "    var docs_json = {\"1142c94f-2c46-4837-806e-d337e2f4ddcf\":{\"defs\":[{\"extends\":null,\"module\":null,\"name\":\"ReactiveHTML1\",\"overrides\":[],\"properties\":[]},{\"extends\":null,\"module\":null,\"name\":\"FlexBox1\",\"overrides\":[],\"properties\":[{\"default\":\"flex-start\",\"kind\":null,\"name\":\"align_content\"},{\"default\":\"flex-start\",\"kind\":null,\"name\":\"align_items\"},{\"default\":\"row\",\"kind\":null,\"name\":\"flex_direction\"},{\"default\":\"wrap\",\"kind\":null,\"name\":\"flex_wrap\"},{\"default\":\"flex-start\",\"kind\":null,\"name\":\"justify_content\"}]},{\"extends\":null,\"module\":null,\"name\":\"TemplateActions1\",\"overrides\":[],\"properties\":[{\"default\":0,\"kind\":null,\"name\":\"open_modal\"},{\"default\":0,\"kind\":null,\"name\":\"close_modal\"}]},{\"extends\":null,\"module\":null,\"name\":\"MaterialTemplateActions1\",\"overrides\":[],\"properties\":[{\"default\":0,\"kind\":null,\"name\":\"open_modal\"},{\"default\":0,\"kind\":null,\"name\":\"close_modal\"}]}],\"roots\":{\"references\":[{\"attributes\":{\"fill_alpha\":{\"value\":0.2},\"fill_color\":{\"value\":\"Blue\"},\"hatch_alpha\":{\"value\":0.2},\"hatch_color\":{\"value\":\"Blue\"},\"line_alpha\":{\"value\":0.2},\"line_color\":{\"value\":\"Blue\"},\"marker\":{\"value\":\"cross\"},\"size\":{\"value\":7},\"x\":{\"field\":\"Longitude\"},\"y\":{\"field\":\"Latitude\"}},\"id\":\"1304\",\"type\":\"Scatter\"},{\"attributes\":{\"tools\":[{\"id\":\"1235\"},{\"id\":\"1236\"},{\"id\":\"1263\"},{\"id\":\"1264\"}]},\"id\":\"1266\",\"type\":\"Toolbar\"},{\"attributes\":{\"axis\":{\"id\":\"1258\"},\"coordinates\":null,\"dimension\":1,\"grid_line_color\":null,\"group\":null,\"ticker\":null},\"id\":\"1261\",\"type\":\"Grid\"},{\"attributes\":{\"data\":{\"Latitude\":{\"__ndarray__\":\"dQ1XVpajOUF0x2ilQtdNQerEHZSn801BTL4bsimDQkGkUU1LHqM5QVVRYzbmF1BBFJHAUxwaUEFQZgEvdiVQQQ==\",\"dtype\":\"float64\",\"order\":\"little\",\"shape\":[8]},\"Longitude\":{\"__ndarray__\":\"38cIHIX2YMGbR9o3rx9jwRoVnkxrHWPBD/o8m1UpY8FIMmUtuPZgwXV251xn6mPBeP5dRD/rY8EaT5uIT+tjwQ==\",\"dtype\":\"float64\",\"order\":\"little\",\"shape\":[8]}},\"selected\":{\"id\":\"1316\"},\"selection_policy\":{\"id\":\"1329\"}},\"id\":\"1315\",\"type\":\"ColumnDataSource\"},{\"attributes\":{},\"id\":\"1327\",\"type\":\"UnionRenderers\"},{\"attributes\":{},\"id\":\"1300\",\"type\":\"Selection\"},{\"attributes\":{\"margin\":[5,5,5,5],\"name\":\"HSpacer06402\",\"sizing_mode\":\"stretch_width\"},\"id\":\"1222\",\"type\":\"Spacer\"},{\"attributes\":{\"source\":{\"id\":\"1299\"}},\"id\":\"1306\",\"type\":\"CDSView\"},{\"attributes\":{\"axis\":{\"id\":\"1254\"},\"coordinates\":null,\"grid_line_color\":null,\"group\":null,\"ticker\":null},\"id\":\"1257\",\"type\":\"Grid\"},{\"attributes\":{},\"id\":\"1329\",\"type\":\"UnionRenderers\"},{\"attributes\":{},\"id\":\"1263\",\"type\":\"PanTool\"},{\"attributes\":{\"fill_alpha\":{\"value\":0.1},\"fill_color\":{\"value\":\"Blue\"},\"hatch_alpha\":{\"value\":0.1},\"hatch_color\":{\"value\":\"Blue\"},\"line_alpha\":{\"value\":0.1},\"line_color\":{\"value\":\"Blue\"},\"marker\":{\"value\":\"cross\"},\"size\":{\"value\":7},\"x\":{\"field\":\"Longitude\"},\"y\":{\"field\":\"Latitude\"}},\"id\":\"1303\",\"type\":\"Scatter\"},{\"attributes\":{},\"id\":\"1316\",\"type\":\"Selection\"},{\"attributes\":{\"children\":[{\"id\":\"1222\"},{\"id\":\"1245\"},{\"id\":\"1396\"}],\"margin\":[0,0,0,0],\"name\":\"Row06398\",\"tags\":[\"embedded\"]},\"id\":\"1221\",\"type\":\"Row\"},{\"attributes\":{},\"id\":\"1250\",\"type\":\"LinearScale\"},{\"attributes\":{\"margin\":[5,5,5,5],\"name\":\"HSpacer06403\",\"sizing_mode\":\"stretch_width\"},\"id\":\"1396\",\"type\":\"Spacer\"},{\"attributes\":{\"fill_alpha\":{\"value\":0.2},\"fill_color\":{\"value\":\"red\"},\"hatch_alpha\":{\"value\":0.2},\"hatch_color\":{\"value\":\"red\"},\"line_alpha\":{\"value\":0.2},\"line_color\":{\"value\":\"red\"},\"marker\":{\"value\":\"cross\"},\"size\":{\"value\":7},\"x\":{\"field\":\"Longitude\"},\"y\":{\"field\":\"Latitude\"}},\"id\":\"1320\",\"type\":\"Scatter\"},{\"attributes\":{},\"id\":\"1264\",\"type\":\"ResetTool\"},{\"attributes\":{\"coordinates\":null,\"data_source\":{\"id\":\"1299\"},\"glyph\":{\"id\":\"1302\"},\"group\":null,\"hover_glyph\":null,\"muted_glyph\":{\"id\":\"1304\"},\"nonselection_glyph\":{\"id\":\"1303\"},\"selection_glyph\":{\"id\":\"1307\"},\"view\":{\"id\":\"1306\"}},\"id\":\"1305\",\"type\":\"GlyphRenderer\"},{\"attributes\":{\"dimension\":\"lon\"},\"id\":\"1275\",\"type\":\"MercatorTickFormatter\"},{\"attributes\":{\"fill_color\":{\"value\":\"Blue\"},\"hatch_color\":{\"value\":\"Blue\"},\"line_color\":{\"value\":\"Blue\"},\"marker\":{\"value\":\"cross\"},\"size\":{\"value\":7},\"x\":{\"field\":\"Longitude\"},\"y\":{\"field\":\"Latitude\"}},\"id\":\"1302\",\"type\":\"Scatter\"},{\"attributes\":{\"axis_label\":\"Latitude\",\"coordinates\":null,\"formatter\":{\"id\":\"1277\"},\"group\":null,\"major_label_policy\":{\"id\":\"1287\"},\"ticker\":{\"id\":\"1276\"}},\"id\":\"1258\",\"type\":\"LinearAxis\"},{\"attributes\":{\"dimension\":\"lon\"},\"id\":\"1274\",\"type\":\"MercatorTicker\"},{\"attributes\":{\"attribution\":\"&copy; <a href=\\\"https://www.openstreetmap.org/copyright\\\">OpenStreetMap</a> contributors\",\"url\":\"https://c.tile.openstreetmap.org/{Z}/{X}/{Y}.png\"},\"id\":\"1308\",\"type\":\"WMTSTileSource\"},{\"attributes\":{},\"id\":\"1252\",\"type\":\"LinearScale\"},{\"attributes\":{\"dimension\":\"lat\"},\"id\":\"1277\",\"type\":\"MercatorTickFormatter\"},{\"attributes\":{\"source\":{\"id\":\"1315\"}},\"id\":\"1322\",\"type\":\"CDSView\"},{\"attributes\":{\"bottom_units\":\"screen\",\"coordinates\":null,\"fill_alpha\":0.5,\"fill_color\":\"lightgrey\",\"group\":null,\"left_units\":\"screen\",\"level\":\"overlay\",\"line_alpha\":1.0,\"line_color\":\"black\",\"line_dash\":[4,4],\"line_width\":2,\"right_units\":\"screen\",\"syncable\":false,\"top_units\":\"screen\"},\"id\":\"1265\",\"type\":\"BoxAnnotation\"},{\"attributes\":{\"fill_alpha\":{\"value\":0.1},\"fill_color\":{\"value\":\"red\"},\"hatch_alpha\":{\"value\":0.1},\"hatch_color\":{\"value\":\"red\"},\"line_alpha\":{\"value\":0.1},\"line_color\":{\"value\":\"red\"},\"marker\":{\"value\":\"cross\"},\"size\":{\"value\":7},\"x\":{\"field\":\"Longitude\"},\"y\":{\"field\":\"Latitude\"}},\"id\":\"1319\",\"type\":\"Scatter\"},{\"attributes\":{\"angle\":{\"value\":0.0},\"fill_alpha\":{\"value\":1.0},\"fill_color\":{\"value\":\"Blue\"},\"hatch_alpha\":{\"value\":1.0},\"hatch_color\":{\"value\":\"Blue\"},\"hatch_scale\":{\"value\":12.0},\"hatch_weight\":{\"value\":1.0},\"line_alpha\":{\"value\":1.0},\"line_cap\":{\"value\":\"butt\"},\"line_color\":{\"value\":\"Blue\"},\"line_dash\":{\"value\":[]},\"line_dash_offset\":{\"value\":0},\"line_join\":{\"value\":\"bevel\"},\"line_width\":{\"value\":1},\"marker\":{\"value\":\"cross\"},\"size\":{\"value\":7},\"x\":{\"field\":\"Longitude\"},\"y\":{\"field\":\"Latitude\"}},\"id\":\"1307\",\"type\":\"Scatter\"},{\"attributes\":{\"end\":20037508.342789248,\"min_interval\":5,\"reset_end\":20037508.342789248,\"reset_start\":-20037508.342789248,\"start\":-20037508.342789248,\"tags\":[[[\"Latitude\",\"Latitude\",null]]]},\"id\":\"1234\",\"type\":\"Range1d\"},{\"attributes\":{\"dimension\":\"lat\"},\"id\":\"1276\",\"type\":\"MercatorTicker\"},{\"attributes\":{\"end\":20037508.342789244,\"min_interval\":5,\"reset_end\":20037508.342789244,\"reset_start\":-20037508.342789244,\"start\":-20037508.342789244,\"tags\":[[[\"Longitude\",\"Longitude\",null]]]},\"id\":\"1233\",\"type\":\"Range1d\"},{\"attributes\":{\"coordinates\":null,\"group\":null,\"level\":\"underlay\",\"tile_source\":{\"id\":\"1308\"}},\"id\":\"1311\",\"type\":\"TileRenderer\"},{\"attributes\":{},\"id\":\"1287\",\"type\":\"AllLabels\"},{\"attributes\":{\"below\":[{\"id\":\"1254\"}],\"center\":[{\"id\":\"1257\"},{\"id\":\"1261\"}],\"height\":900,\"left\":[{\"id\":\"1258\"}],\"margin\":[5,5,5,5],\"min_border_bottom\":10,\"min_border_left\":10,\"min_border_right\":10,\"min_border_top\":10,\"renderers\":[{\"id\":\"1295\"},{\"id\":\"1305\"},{\"id\":\"1311\"},{\"id\":\"1321\"}],\"sizing_mode\":\"fixed\",\"title\":{\"id\":\"1246\"},\"toolbar\":{\"id\":\"1266\"},\"width\":1300,\"x_range\":{\"id\":\"1233\"},\"x_scale\":{\"id\":\"1250\"},\"y_range\":{\"id\":\"1234\"},\"y_scale\":{\"id\":\"1252\"}},\"id\":\"1245\",\"subtype\":\"Figure\",\"type\":\"Plot\"},{\"attributes\":{\"attribution\":\"&copy; <a href=\\\"https://www.openstreetmap.org/copyright\\\">OpenStreetMap</a> contributors\",\"url\":\"https://c.tile.openstreetmap.org/{Z}/{X}/{Y}.png\"},\"id\":\"1292\",\"type\":\"WMTSTileSource\"},{\"attributes\":{\"data\":{\"Latitude\":{\"__ndarray__\":\"7vWZRRRGNkE=\",\"dtype\":\"float64\",\"order\":\"little\",\"shape\":[1]},\"Longitude\":{\"__ndarray__\":\"mozTiQueYsE=\",\"dtype\":\"float64\",\"order\":\"little\",\"shape\":[1]}},\"selected\":{\"id\":\"1300\"},\"selection_policy\":{\"id\":\"1327\"}},\"id\":\"1299\",\"type\":\"ColumnDataSource\"},{\"attributes\":{\"angle\":{\"value\":0.0},\"fill_alpha\":{\"value\":1.0},\"fill_color\":{\"value\":\"red\"},\"hatch_alpha\":{\"value\":1.0},\"hatch_color\":{\"value\":\"red\"},\"hatch_scale\":{\"value\":12.0},\"hatch_weight\":{\"value\":1.0},\"line_alpha\":{\"value\":1.0},\"line_cap\":{\"value\":\"butt\"},\"line_color\":{\"value\":\"red\"},\"line_dash\":{\"value\":[]},\"line_dash_offset\":{\"value\":0},\"line_join\":{\"value\":\"bevel\"},\"line_width\":{\"value\":1},\"marker\":{\"value\":\"cross\"},\"size\":{\"value\":7},\"x\":{\"field\":\"Longitude\"},\"y\":{\"field\":\"Latitude\"}},\"id\":\"1323\",\"type\":\"Scatter\"},{\"attributes\":{\"match_aspect\":true,\"overlay\":{\"id\":\"1265\"}},\"id\":\"1236\",\"type\":\"BoxZoomTool\"},{\"attributes\":{\"axis_label\":\"Longitude\",\"coordinates\":null,\"formatter\":{\"id\":\"1275\"},\"group\":null,\"major_label_policy\":{\"id\":\"1280\"},\"ticker\":{\"id\":\"1274\"}},\"id\":\"1254\",\"type\":\"LinearAxis\"},{\"attributes\":{},\"id\":\"1280\",\"type\":\"AllLabels\"},{\"attributes\":{\"zoom_on_axis\":false},\"id\":\"1235\",\"type\":\"WheelZoomTool\"},{\"attributes\":{\"coordinates\":null,\"group\":null,\"level\":\"underlay\",\"tile_source\":{\"id\":\"1292\"}},\"id\":\"1295\",\"type\":\"TileRenderer\"},{\"attributes\":{\"coordinates\":null,\"group\":null,\"text_color\":\"black\",\"text_font_size\":\"12pt\"},\"id\":\"1246\",\"type\":\"Title\"},{\"attributes\":{\"fill_color\":{\"value\":\"red\"},\"hatch_color\":{\"value\":\"red\"},\"line_color\":{\"value\":\"red\"},\"marker\":{\"value\":\"cross\"},\"size\":{\"value\":7},\"x\":{\"field\":\"Longitude\"},\"y\":{\"field\":\"Latitude\"}},\"id\":\"1318\",\"type\":\"Scatter\"},{\"attributes\":{\"coordinates\":null,\"data_source\":{\"id\":\"1315\"},\"glyph\":{\"id\":\"1318\"},\"group\":null,\"hover_glyph\":null,\"muted_glyph\":{\"id\":\"1320\"},\"nonselection_glyph\":{\"id\":\"1319\"},\"selection_glyph\":{\"id\":\"1323\"},\"view\":{\"id\":\"1322\"}},\"id\":\"1321\",\"type\":\"GlyphRenderer\"}],\"root_ids\":[\"1221\"]},\"title\":\"Bokeh Application\",\"version\":\"2.4.2\"}};\n",
       "    var render_items = [{\"docid\":\"1142c94f-2c46-4837-806e-d337e2f4ddcf\",\"root_ids\":[\"1221\"],\"roots\":{\"1221\":\"d266ae4b-5bb5-4b10-b13d-22fddfeff208\"}}];\n",
       "    root.Bokeh.embed.embed_items_notebook(docs_json, render_items);\n",
       "  }\n",
       "  if (root.Bokeh !== undefined && root.Bokeh.Panel !== undefined) {\n",
       "    embed_document(root);\n",
       "  } else {\n",
       "    var attempts = 0;\n",
       "    var timer = setInterval(function(root) {\n",
       "      if (root.Bokeh !== undefined && root.Bokeh.Panel !== undefined) {\n",
       "        clearInterval(timer);\n",
       "        embed_document(root);\n",
       "      } else if (document.readyState == \"complete\") {\n",
       "        attempts++;\n",
       "        if (attempts > 200) {\n",
       "          clearInterval(timer);\n",
       "          console.log(\"Bokeh: ERROR: Unable to run BokehJS code because BokehJS library is missing\");\n",
       "        }\n",
       "      }\n",
       "    }, 25, root)\n",
       "  }\n",
       "})(window);</script>"
      ],
      "text/plain": [
       ":Overlay\n",
       "   .WMTS.I    :WMTS   [Longitude,Latitude]\n",
       "   .Points.I  :Points   [Longitude,Latitude]\n",
       "   .WMTS.II   :WMTS   [Longitude,Latitude]\n",
       "   .Points.II :Points   [Longitude,Latitude]"
      ]
     },
     "execution_count": 2,
     "metadata": {
      "application/vnd.holoviews_exec.v0+json": {
       "id": "1221"
      }
     },
     "output_type": "execute_result"
    }
   ],
   "source": [
    "# Import our raad library\n",
    "from raadpy import *\n",
    "\n",
    "# Load the TGF DATA (either from fermi or Light-1)\n",
    "# Convert the data to our own TGF class\n",
    "tgf_filename    = \"../TGF_data_for_research/Fermi TGF Catalog/+2011-Fermi-TGF-Data_t1.txt\"\n",
    "light_filename  = \"../TGF_data_for_research/Data_from_Blitzurtong/2021-06-28.txt\" \n",
    "\n",
    "# Load the data\n",
    "tgfs    = event_array(filename=tgf_filename,event_type='fermi')         # Load the TGF data\n",
    "lights  = event_array(filename=light_filename,event_type='lightning')   # Load the lightning data\n",
    "\n",
    "# Take a random datapoint and find the closest lightning strikes\n",
    "near = get_nearby_lightning(tgfs[0],lightnings=lights,threshold=1)\n",
    "\n",
    "# Create an array with the time differences between the \n",
    "# lightning strikes and the tgf\n",
    "time_difference = [tgfs[0].timestamp - light.timestamp for light in near]\n",
    "\n",
    "# Print the closest lightnings\n",
    "print(near)\n",
    "\n",
    "# Print the time difference\n",
    "print([t.sec for t in time_difference])\n",
    "\n",
    "# Plot them in a map\n",
    "map(tgfs[0],near)\n"
   ]
  },
  {
   "cell_type": "code",
   "execution_count": null,
   "id": "505b1bc0",
   "metadata": {},
   "outputs": [],
   "source": []
  }
 ],
 "metadata": {
  "kernelspec": {
   "display_name": "Python 3 (ipykernel)",
   "language": "python",
   "name": "python3"
  },
  "language_info": {
   "codemirror_mode": {
    "name": "ipython",
    "version": 3
   },
   "file_extension": ".py",
   "mimetype": "text/x-python",
   "name": "python",
   "nbconvert_exporter": "python",
   "pygments_lexer": "ipython3",
   "version": "3.10.2"
  }
 },
 "nbformat": 4,
 "nbformat_minor": 5
}

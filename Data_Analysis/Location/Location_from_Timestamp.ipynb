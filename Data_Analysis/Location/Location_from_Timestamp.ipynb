{
 "cells": [
  {
   "cell_type": "markdown",
   "metadata": {},
   "source": [
    "# <span style=\"color:#72A98F\">Location from Timestamp Notebook</span>\n",
    "\n",
    "Hello Person! In this notebook I will be using the *[LLAT](../../Data/Location/LIGHT-1_LLA_April.csv)* (Latitude Longitude Altitude Time) file to find the location at a given **Event Timestamp**."
   ]
  },
  {
   "cell_type": "markdown",
   "metadata": {},
   "source": [
    "## <span style=\"color:#72A98F\">Importing libraries and giving constant values</span>"
   ]
  },
  {
   "cell_type": "code",
   "execution_count": 295,
   "metadata": {},
   "outputs": [],
   "source": [
    "import numpy as np\n",
    "import pandas as pd\n",
    "from astropy.time import Time\n",
    "import raadpy as rp\n",
    "import os\n",
    "from datetime import datetime\n",
    "\n",
    "TimeName = 'Time (ModJDate)' #The Time Column Title"
   ]
  },
  {
   "cell_type": "code",
   "execution_count": null,
   "metadata": {},
   "outputs": [],
   "source": [
    "# def Location_from_Timestamp(TSA):"
   ]
  },
  {
   "cell_type": "markdown",
   "metadata": {},
   "source": [
    "## <span style=\"color:#72A98F\">Finding Timestamp location for a specific value</span>"
   ]
  },
  {
   "cell_type": "code",
   "execution_count": 2,
   "metadata": {},
   "outputs": [
    {
     "name": "stdout",
     "output_type": "stream",
     "text": [
      "This time lies in March!\n"
     ]
    },
    {
     "data": {
      "text/plain": [
       "[[59639, -157.984, -31.383]]"
      ]
     },
     "execution_count": 2,
     "metadata": {},
     "output_type": "execute_result"
    }
   ],
   "source": [
    "# GivenTimestamp = E.get_mjd()\n",
    "# A remake of this line above will be used to actually get the timestamp ^\n",
    "# But for now, we will name a value that exists in the range of april.\n",
    "GivenTimestamp = 59639\n",
    "\n",
    "#If the timestamp lies somewhere in March this will use the March file!\n",
    "if Time(59639.00000000, format='mjd') <= Time(GivenTimestamp, format='mjd') <= Time(59670.00000000, format='mjd'):\n",
    "    print(\"This time lies in March!\")\n",
    "    LocationFile = '../../Data/Location/LIGHT-1_LLA_March.csv'\n",
    "    LLATData = pd.read_csv(LocationFile)\n",
    "    \n",
    "#If the timestamp lies somewhere in April this will use the April file!\n",
    "elif Time(59670.00000000, format='mjd') <= Time(GivenTimestamp, format='mjd') <= Time(59700.00000000, format='mjd'):\n",
    "    print(\"This time lies in April!\")\n",
    "    LocationFile = '../../Data/Location/LIGHT-1_LLA_April.csv'\n",
    "    LLATData = pd.read_csv(LocationFile)\n",
    "    \n",
    "#If the timestamp reached does not exist in the range useable, this will skip that specific value only.\n",
    "else:\n",
    "    print(\"The time value given does not exist in the range from March to April!\\nFor reference, the time in mjd should be between 59639.0 and 59700.0\")\n",
    "\n",
    "#Read the time column only\n",
    "TData = LLATData[\"Time (ModJDate)\"]\n",
    "\n",
    "#Count the rows and look through them.\n",
    "for row in range(len(TData)):\n",
    "\n",
    "    #\n",
    "    if GivenTimestamp == TData[row]:\n",
    "        MaximumData = LLATData.T[row]\n",
    "        MinimumData = LLATData.T[row]\n",
    "        break\n",
    "    \n",
    "    if TData[row] >= GivenTimestamp:\n",
    "        MaximumData = LLATData.T[row]\n",
    "        MinimumData = LLATData.T[row-1]\n",
    "        break\n",
    "\n",
    "TimeRange = [MinimumData[0], MaximumData[0]]\n",
    "LongRange = [MinimumData[2], MaximumData[2]]\n",
    "LatRange  = [MinimumData[1], MaximumData[1]]\n",
    "longitude2 = np.interp(GivenTimestamp, TimeRange, LongRange)\n",
    "latitude2 = np.interp(GivenTimestamp, TimeRange, LatRange)\n",
    "\n",
    "TS = [] #For the values to be added together.\n",
    "TS.append([GivenTimestamp, longitude2, latitude2])\n",
    "TS"
   ]
  },
  {
   "cell_type": "markdown",
   "metadata": {},
   "source": [
    "## <span style=\"color:#72A98F\">Finding Timestamp Locations for an Array of Timestamps"
   ]
  },
  {
   "cell_type": "code",
   "execution_count": 3,
   "metadata": {},
   "outputs": [
    {
     "name": "stdout",
     "output_type": "stream",
     "text": [
      "The time value given does not exist in the range from March to April!\n",
      "For reference, the time in mjd should be between 59639.0 and 59700.0\n"
     ]
    },
    {
     "ename": "KeyError",
     "evalue": "'Time (ModJDate)'",
     "output_type": "error",
     "traceback": [
      "\u001b[0;31m---------------------------------------------------------------------------\u001b[0m",
      "\u001b[0;31mKeyError\u001b[0m                                  Traceback (most recent call last)",
      "File \u001b[0;32m~/miniconda3/envs/RAAD/lib/python3.10/site-packages/pandas/core/indexes/base.py:3621\u001b[0m, in \u001b[0;36mIndex.get_loc\u001b[0;34m(self, key, method, tolerance)\u001b[0m\n\u001b[1;32m   <a href='file:///home/nyuad/miniconda3/envs/RAAD/lib/python3.10/site-packages/pandas/core/indexes/base.py?line=3619'>3620</a>\u001b[0m \u001b[39mtry\u001b[39;00m:\n\u001b[0;32m-> <a href='file:///home/nyuad/miniconda3/envs/RAAD/lib/python3.10/site-packages/pandas/core/indexes/base.py?line=3620'>3621</a>\u001b[0m     \u001b[39mreturn\u001b[39;00m \u001b[39mself\u001b[39;49m\u001b[39m.\u001b[39;49m_engine\u001b[39m.\u001b[39;49mget_loc(casted_key)\n\u001b[1;32m   <a href='file:///home/nyuad/miniconda3/envs/RAAD/lib/python3.10/site-packages/pandas/core/indexes/base.py?line=3621'>3622</a>\u001b[0m \u001b[39mexcept\u001b[39;00m \u001b[39mKeyError\u001b[39;00m \u001b[39mas\u001b[39;00m err:\n",
      "File \u001b[0;32m~/miniconda3/envs/RAAD/lib/python3.10/site-packages/pandas/_libs/index.pyx:136\u001b[0m, in \u001b[0;36mpandas._libs.index.IndexEngine.get_loc\u001b[0;34m()\u001b[0m\n",
      "File \u001b[0;32m~/miniconda3/envs/RAAD/lib/python3.10/site-packages/pandas/_libs/index.pyx:163\u001b[0m, in \u001b[0;36mpandas._libs.index.IndexEngine.get_loc\u001b[0;34m()\u001b[0m\n",
      "File \u001b[0;32mpandas/_libs/hashtable_class_helper.pxi:5198\u001b[0m, in \u001b[0;36mpandas._libs.hashtable.PyObjectHashTable.get_item\u001b[0;34m()\u001b[0m\n",
      "File \u001b[0;32mpandas/_libs/hashtable_class_helper.pxi:5206\u001b[0m, in \u001b[0;36mpandas._libs.hashtable.PyObjectHashTable.get_item\u001b[0;34m()\u001b[0m\n",
      "\u001b[0;31mKeyError\u001b[0m: 'Time (ModJDate)'",
      "\nThe above exception was the direct cause of the following exception:\n",
      "\u001b[0;31mKeyError\u001b[0m                                  Traceback (most recent call last)",
      "\u001b[1;32m/home/nyuad/RAAD/Data_Analysis/Location/Location_from_Timestamp.ipynb Cell 8'\u001b[0m in \u001b[0;36m<cell line: 4>\u001b[0;34m()\u001b[0m\n\u001b[1;32m     <a href='vscode-notebook-cell:/home/nyuad/RAAD/Data_Analysis/Location/Location_from_Timestamp.ipynb#ch0000006?line=18'>19</a>\u001b[0m     \u001b[39mcontinue\u001b[39;00m \u001b[39m#Skips the values not in the range!\u001b[39;00m\n\u001b[1;32m     <a href='vscode-notebook-cell:/home/nyuad/RAAD/Data_Analysis/Location/Location_from_Timestamp.ipynb#ch0000006?line=20'>21</a>\u001b[0m \u001b[39m#Telling it to take the time column\u001b[39;00m\n\u001b[0;32m---> <a href='vscode-notebook-cell:/home/nyuad/RAAD/Data_Analysis/Location/Location_from_Timestamp.ipynb#ch0000006?line=21'>22</a>\u001b[0m TData \u001b[39m=\u001b[39m LLATData[\u001b[39m\"\u001b[39;49m\u001b[39mTime (ModJDate)\u001b[39;49m\u001b[39m\"\u001b[39;49m]\n\u001b[1;32m     <a href='vscode-notebook-cell:/home/nyuad/RAAD/Data_Analysis/Location/Location_from_Timestamp.ipynb#ch0000006?line=23'>24</a>\u001b[0m \u001b[39m#Start the loop that looks through the file.\u001b[39;00m\n\u001b[1;32m     <a href='vscode-notebook-cell:/home/nyuad/RAAD/Data_Analysis/Location/Location_from_Timestamp.ipynb#ch0000006?line=24'>25</a>\u001b[0m \u001b[39mfor\u001b[39;00m row \u001b[39min\u001b[39;00m \u001b[39mrange\u001b[39m(\u001b[39mlen\u001b[39m(TData)):\n\u001b[1;32m     <a href='vscode-notebook-cell:/home/nyuad/RAAD/Data_Analysis/Location/Location_from_Timestamp.ipynb#ch0000006?line=25'>26</a>\u001b[0m \n\u001b[1;32m     <a href='vscode-notebook-cell:/home/nyuad/RAAD/Data_Analysis/Location/Location_from_Timestamp.ipynb#ch0000006?line=26'>27</a>\u001b[0m     \u001b[39m#If the timestamp exists in the data file, use the location already given, and leave the loop. (Condition 1)\u001b[39;00m\n",
      "File \u001b[0;32m~/miniconda3/envs/RAAD/lib/python3.10/site-packages/pandas/core/frame.py:3505\u001b[0m, in \u001b[0;36mDataFrame.__getitem__\u001b[0;34m(self, key)\u001b[0m\n\u001b[1;32m   <a href='file:///home/nyuad/miniconda3/envs/RAAD/lib/python3.10/site-packages/pandas/core/frame.py?line=3502'>3503</a>\u001b[0m \u001b[39mif\u001b[39;00m \u001b[39mself\u001b[39m\u001b[39m.\u001b[39mcolumns\u001b[39m.\u001b[39mnlevels \u001b[39m>\u001b[39m \u001b[39m1\u001b[39m:\n\u001b[1;32m   <a href='file:///home/nyuad/miniconda3/envs/RAAD/lib/python3.10/site-packages/pandas/core/frame.py?line=3503'>3504</a>\u001b[0m     \u001b[39mreturn\u001b[39;00m \u001b[39mself\u001b[39m\u001b[39m.\u001b[39m_getitem_multilevel(key)\n\u001b[0;32m-> <a href='file:///home/nyuad/miniconda3/envs/RAAD/lib/python3.10/site-packages/pandas/core/frame.py?line=3504'>3505</a>\u001b[0m indexer \u001b[39m=\u001b[39m \u001b[39mself\u001b[39;49m\u001b[39m.\u001b[39;49mcolumns\u001b[39m.\u001b[39;49mget_loc(key)\n\u001b[1;32m   <a href='file:///home/nyuad/miniconda3/envs/RAAD/lib/python3.10/site-packages/pandas/core/frame.py?line=3505'>3506</a>\u001b[0m \u001b[39mif\u001b[39;00m is_integer(indexer):\n\u001b[1;32m   <a href='file:///home/nyuad/miniconda3/envs/RAAD/lib/python3.10/site-packages/pandas/core/frame.py?line=3506'>3507</a>\u001b[0m     indexer \u001b[39m=\u001b[39m [indexer]\n",
      "File \u001b[0;32m~/miniconda3/envs/RAAD/lib/python3.10/site-packages/pandas/core/indexes/base.py:3623\u001b[0m, in \u001b[0;36mIndex.get_loc\u001b[0;34m(self, key, method, tolerance)\u001b[0m\n\u001b[1;32m   <a href='file:///home/nyuad/miniconda3/envs/RAAD/lib/python3.10/site-packages/pandas/core/indexes/base.py?line=3620'>3621</a>\u001b[0m     \u001b[39mreturn\u001b[39;00m \u001b[39mself\u001b[39m\u001b[39m.\u001b[39m_engine\u001b[39m.\u001b[39mget_loc(casted_key)\n\u001b[1;32m   <a href='file:///home/nyuad/miniconda3/envs/RAAD/lib/python3.10/site-packages/pandas/core/indexes/base.py?line=3621'>3622</a>\u001b[0m \u001b[39mexcept\u001b[39;00m \u001b[39mKeyError\u001b[39;00m \u001b[39mas\u001b[39;00m err:\n\u001b[0;32m-> <a href='file:///home/nyuad/miniconda3/envs/RAAD/lib/python3.10/site-packages/pandas/core/indexes/base.py?line=3622'>3623</a>\u001b[0m     \u001b[39mraise\u001b[39;00m \u001b[39mKeyError\u001b[39;00m(key) \u001b[39mfrom\u001b[39;00m \u001b[39merr\u001b[39;00m\n\u001b[1;32m   <a href='file:///home/nyuad/miniconda3/envs/RAAD/lib/python3.10/site-packages/pandas/core/indexes/base.py?line=3623'>3624</a>\u001b[0m \u001b[39mexcept\u001b[39;00m \u001b[39mTypeError\u001b[39;00m:\n\u001b[1;32m   <a href='file:///home/nyuad/miniconda3/envs/RAAD/lib/python3.10/site-packages/pandas/core/indexes/base.py?line=3624'>3625</a>\u001b[0m     \u001b[39m# If we have a listlike key, _check_indexing_error will raise\u001b[39;00m\n\u001b[1;32m   <a href='file:///home/nyuad/miniconda3/envs/RAAD/lib/python3.10/site-packages/pandas/core/indexes/base.py?line=3625'>3626</a>\u001b[0m     \u001b[39m#  InvalidIndexError. Otherwise we fall through and re-raise\u001b[39;00m\n\u001b[1;32m   <a href='file:///home/nyuad/miniconda3/envs/RAAD/lib/python3.10/site-packages/pandas/core/indexes/base.py?line=3626'>3627</a>\u001b[0m     \u001b[39m#  the TypeError.\u001b[39;00m\n\u001b[1;32m   <a href='file:///home/nyuad/miniconda3/envs/RAAD/lib/python3.10/site-packages/pandas/core/indexes/base.py?line=3627'>3628</a>\u001b[0m     \u001b[39mself\u001b[39m\u001b[39m.\u001b[39m_check_indexing_error(key)\n",
      "\u001b[0;31mKeyError\u001b[0m: 'Time (ModJDate)'"
     ]
    }
   ],
   "source": [
    "TSA  = [59621,59671]\n",
    "TSL = []\n",
    "\n",
    "for ts in TSA:\n",
    "\n",
    "    #If the timestamp lies somewhere in March this will use the March file!\n",
    "    if Time(59639.000000000, format='mjd') <= Time(ts, format='mjd') <= Time(59670.00000000, format='mjd'):\n",
    "        LocationFile = '../../Data/Location/LIGHT-1_LLA_March.csv'\n",
    "        LLATData = pd.read_csv(LocationFile)\n",
    "        \n",
    "    \n",
    "    #If the timestamp lies somewhere in April this will use the April file!\n",
    "    elif Time(59670.00000000, format='mjd') <= Time(ts, format='mjd') <= Time(59700.00000000, format='mjd'):\n",
    "        LocationFile = '../../Data/Location/LIGHT-1_LLA_April.csv'\n",
    "        LLATData = pd.read_csv(LocationFile)\n",
    "    \n",
    "    #If the timestamp reached does not exist in the range useable, this will skip that specific value only.\n",
    "    else:\n",
    "        print(\"The time value given does not exist in the range from March to April!\\nFor reference, the time in mjd should be between 59639.0 and 59700.0\")\n",
    "        continue #Skips the values not in the range!\n",
    "\n",
    "    #Telling it to take the time column\n",
    "    TData = LLATData[\"Time (ModJDate)\"]\n",
    "\n",
    "    #Start the loop that looks through the file.\n",
    "    for row in range(len(TData)):\n",
    "\n",
    "        #If the timestamp exists in the data file, use the location already given, and leave the loop. (Condition 1)\n",
    "        if ts == TData[row]:\n",
    "            MaximumData = LLATData.T[row]\n",
    "            MinimumData = LLATData.T[row]\n",
    "            break\n",
    "        \n",
    "        #If the timestamp does not exist in the file, then take the values before and after it, then leave the loop. (Condition 2)\n",
    "        if TData[row] >= ts:\n",
    "            MaximumData = LLATData.T[row]\n",
    "            MinimumData = LLATData.T[row-1]\n",
    "            break\n",
    "    \n",
    "    #If Condition 1 is met, this part will not affect any values.\n",
    "    #Otherwise, if Condition 2 is met, this part will interpolate the values linearly. \n",
    "    #(Hopefully using different interpolation methods later!)\n",
    "    TimeRange = [MinimumData[0], MaximumData[0]]\n",
    "    LongRange = [MinimumData[2], MaximumData[2]]\n",
    "    LatRange  = [MinimumData[1], MaximumData[1]]\n",
    "    longitude = np.interp(ts, TimeRange, LongRange)\n",
    "    latitude = np.interp(ts, TimeRange, LatRange)\n",
    "\n",
    "    #Append the values into an array.\n",
    "    TSL.append([ts,longitude,latitude])\n",
    "\n",
    "print(TSL)"
   ]
  },
  {
   "cell_type": "markdown",
   "metadata": {},
   "source": [
    "## <span style=\"color:#72A98F\">*Ignore what's below this point*</span>"
   ]
  },
  {
   "cell_type": "code",
   "execution_count": 3,
   "metadata": {},
   "outputs": [],
   "source": [
    "#NOTES\n",
    "\n",
    "# time = E.get_mjd()\n",
    "\n",
    "# def f(EV:rp.event):\n",
    "#     time = EV.get_mjd()\n",
    "\n",
    "# k = [(i) for i in arr if \"June\" in i ]\n",
    "# k\n",
    "\n",
    "# def g(a):\n",
    "#     return a+\n",
    "\n",
    "# import numpy as np\n",
    "# x = np.random.rand()\n",
    "# y = np.random.rand(10)\n",
    "# np.where(x < y)[0]"
   ]
  },
  {
   "cell_type": "code",
   "execution_count": 317,
   "metadata": {},
   "outputs": [
    {
     "name": "stdout",
     "output_type": "stream",
     "text": [
      "March file is found and opened!\n",
      "April file is found and opened!\n",
      "May file is NOT found!\n",
      "June file is NOT found!\n",
      "July file is NOT found!\n",
      "August file is NOT found!\n",
      "September file is NOT found!\n",
      "October file is NOT found!\n",
      "November file is NOT found!\n"
     ]
    }
   ],
   "source": [
    "LocationFolder = '../../Data/Location/'\n",
    "arr = os.listdir(LocationFolder)\n",
    "\n",
    "months = ['March','April','May','June','July','August','September','October','November']\n",
    "FilesFound = []\n",
    "\n",
    "for m in months:\n",
    "    k = [(i) for i in arr if m in i ]\n",
    "    FilesFound.append(k)\n",
    "\n",
    "FileData={}\n",
    "\n",
    "for i in range(len(months)):\n",
    "    if len(FilesFound[i]) != 0:\n",
    "        print(months[i] + \" file is found and opened!\")\n",
    "        FileData[months[i]] = pd.read_csv('../../Data/Location/'+FilesFound[i][0])\n",
    "        \n",
    "    else:\n",
    "        print(months[i] + \" file is NOT found!\")"
   ]
  },
  {
   "cell_type": "code",
   "execution_count": 308,
   "metadata": {},
   "outputs": [
    {
     "name": "stdout",
     "output_type": "stream",
     "text": [
      "[59664.65500886 59661.51617185 59681.13897162 59686.16187424\n",
      " 59663.54948367 59689.57740083 59655.11785478 59639.03369846\n",
      " 59670.79812471 59679.28029505 59644.42487347 59691.21528367\n",
      " 59648.10610441 59655.26333064 59671.14526877 59691.2785713\n",
      " 59677.9729217  59673.52994349 59639.58184005 59698.4451969\n",
      " 59680.12852823 59664.26764047 59689.1431089  59699.28660119\n",
      " 59656.41511056 59680.1588639  59644.83661097 59645.06577001\n",
      " 59645.41856605 59672.04286013]\n"
     ]
    }
   ],
   "source": [
    "TSA = np.random.uniform(low=59639.000000000, high=59700.00000000, size=30)\n",
    "print(TSA)"
   ]
  },
  {
   "cell_type": "code",
   "execution_count": 338,
   "metadata": {},
   "outputs": [
    {
     "name": "stdout",
     "output_type": "stream",
     "text": [
      "29\n"
     ]
    }
   ],
   "source": [
    "Values = {}\n",
    "\n",
    "for i in range(len(months)):\n",
    "\n",
    "    if len(FilesFound[i]) != 0:\n",
    "        MonthStart = datetime.strptime(months[i], '%B').month\n",
    "        MonthEnd   = datetime.strptime(months[i], '%B').month + 1\n",
    "\n",
    "        Values[months[i]] = np.where(np.logical_and(TSA <= Time('2022-'+str(MonthEnd)+'-01').mjd, TSA >= Time('2022-'+str(MonthStart)+'-01').mjd))[0]\n",
    "\n",
    "    else:\n",
    "        continue\n",
    "\n",
    "print(Values['April'][15])"
   ]
  },
  {
   "cell_type": "code",
   "execution_count": 355,
   "metadata": {},
   "outputs": [
    {
     "name": "stdout",
     "output_type": "stream",
     "text": [
      "Using months found to find values!\n",
      "0 March 1 True\n",
      "0 [ 0  1  4  6  7 10 12 13 18 21 24 26 27 28] March\n",
      "59664.655008857204\n",
      "1 [ 0  1  4  6  7 10 12 13 18 21 24 26 27 28] March\n",
      "59661.516171852796\n",
      "4 [ 0  1  4  6  7 10 12 13 18 21 24 26 27 28] March\n",
      "59663.54948367149\n",
      "6 [ 0  1  4  6  7 10 12 13 18 21 24 26 27 28] March\n",
      "59655.117854783704\n",
      "7 [ 0  1  4  6  7 10 12 13 18 21 24 26 27 28] March\n",
      "59639.03369846455\n",
      "10 [ 0  1  4  6  7 10 12 13 18 21 24 26 27 28] March\n",
      "59644.42487346503\n",
      "12 [ 0  1  4  6  7 10 12 13 18 21 24 26 27 28] March\n",
      "59648.10610440769\n",
      "13 [ 0  1  4  6  7 10 12 13 18 21 24 26 27 28] March\n",
      "59655.263330642396\n",
      "18 [ 0  1  4  6  7 10 12 13 18 21 24 26 27 28] March\n",
      "59639.581840053805\n",
      "21 [ 0  1  4  6  7 10 12 13 18 21 24 26 27 28] March\n",
      "59664.267640474536\n",
      "24 [ 0  1  4  6  7 10 12 13 18 21 24 26 27 28] March\n",
      "59656.41511055544\n",
      "26 [ 0  1  4  6  7 10 12 13 18 21 24 26 27 28] March\n",
      "59644.836610974264\n",
      "27 [ 0  1  4  6  7 10 12 13 18 21 24 26 27 28] March\n",
      "59645.065770008216\n",
      "28 [ 0  1  4  6  7 10 12 13 18 21 24 26 27 28] March\n",
      "59645.41856605477\n",
      "1 April 1 True\n",
      "2 [ 2  3  5  8  9 11 14 15 16 17 19 20 22 23 25 29] April\n",
      "59681.13897161763\n",
      "3 [ 2  3  5  8  9 11 14 15 16 17 19 20 22 23 25 29] April\n",
      "59686.16187423969\n",
      "5 [ 2  3  5  8  9 11 14 15 16 17 19 20 22 23 25 29] April\n",
      "59689.57740082702\n",
      "8 [ 2  3  5  8  9 11 14 15 16 17 19 20 22 23 25 29] April\n",
      "59670.79812471312\n",
      "9 [ 2  3  5  8  9 11 14 15 16 17 19 20 22 23 25 29] April\n",
      "59679.28029504821\n",
      "11 [ 2  3  5  8  9 11 14 15 16 17 19 20 22 23 25 29] April\n",
      "59691.21528367451\n",
      "14 [ 2  3  5  8  9 11 14 15 16 17 19 20 22 23 25 29] April\n",
      "59671.14526876755\n",
      "15 [ 2  3  5  8  9 11 14 15 16 17 19 20 22 23 25 29] April\n",
      "59691.27857130342\n",
      "16 [ 2  3  5  8  9 11 14 15 16 17 19 20 22 23 25 29] April\n",
      "59677.97292170394\n",
      "17 [ 2  3  5  8  9 11 14 15 16 17 19 20 22 23 25 29] April\n",
      "59673.52994349054\n",
      "19 [ 2  3  5  8  9 11 14 15 16 17 19 20 22 23 25 29] April\n",
      "59698.44519689982\n",
      "20 [ 2  3  5  8  9 11 14 15 16 17 19 20 22 23 25 29] April\n",
      "59680.1285282292\n",
      "22 [ 2  3  5  8  9 11 14 15 16 17 19 20 22 23 25 29] April\n",
      "59689.1431088966\n",
      "23 [ 2  3  5  8  9 11 14 15 16 17 19 20 22 23 25 29] April\n",
      "59699.28660118816\n",
      "25 [ 2  3  5  8  9 11 14 15 16 17 19 20 22 23 25 29] April\n",
      "59680.15886390086\n",
      "29 [ 2  3  5  8  9 11 14 15 16 17 19 20 22 23 25 29] April\n",
      "59672.04286013174\n",
      "2 May 0 False\n",
      "3 June 0 False\n",
      "4 July 0 False\n",
      "5 August 0 False\n",
      "6 September 0 False\n",
      "7 October 0 False\n",
      "8 November 0 False\n",
      "[]\n"
     ]
    }
   ],
   "source": [
    "TSL=[]\n",
    "\n",
    "print('Using months found to find values!')\n",
    "\n",
    "for i in range(len(FilesFound)):\n",
    "\n",
    "    print(i,months[i],len(FilesFound[i]),len(FilesFound[i]) != 0)\n",
    "\n",
    "    if len(FilesFound[i]) != 0:\n",
    "        for j in Values[months[i]]:\n",
    "\n",
    "            print(j,Values[months[i]],months[i])\n",
    "            ts = TSA[j]\n",
    "            print(ts)\n",
    "\n",
    "            ResultMin = FileData[months[i]][FileData[months[i]][TimeName] <= ts].nlargest(1, TimeName)\n",
    "            ResultMax = FileData[months[i]][FileData[months[i]][TimeName] >= ts].nsmallest(1, TimeName)\n",
    "\n",
    "            print(float(ResultMin.iloc[:,(0)]))\n",
    "            \n",
    "            TimeRange = [float(ResultMin.iloc[:,(0)]), float(ResultMax.iloc[:,(0)])]\n",
    "            LongRange = [float(ResultMin.iloc[:,(2)]), float(ResultMax.iloc[:,(2)])]\n",
    "            LatRange  = [float(ResultMin.iloc[:,(1)]), float(ResultMax.iloc[:,(1)])]\n",
    "            longitude = np.interp(ts, TimeRange, LongRange)\n",
    "            latitude = np.interp(ts, TimeRange, LatRange)\n",
    "            TSL.append([ts,longitude,latitude])\n",
    "    \n",
    "    else:\n",
    "        continue\n",
    "\n",
    "print(TSL)\n",
    "\n",
    "    \n",
    "    "
   ]
  },
  {
   "cell_type": "code",
   "execution_count": 348,
   "metadata": {},
   "outputs": [
    {
     "name": "stdout",
     "output_type": "stream",
     "text": [
      "1\n"
     ]
    }
   ],
   "source": [
    "# ResultMin = FileData[months[i]][FileData[months[i]][TimeName] <= ts].nlargest(1, TimeName)\n",
    "print(len(FilesFound[1]))"
   ]
  },
  {
   "cell_type": "code",
   "execution_count": 93,
   "metadata": {},
   "outputs": [
    {
     "name": "stdout",
     "output_type": "stream",
     "text": [
      "59671.86659570189\n"
     ]
    }
   ],
   "source": [
    "for i in MarchValues:\n",
    "    ts = TSA[i]\n",
    "print(ts)"
   ]
  },
  {
   "cell_type": "code",
   "execution_count": 24,
   "metadata": {},
   "outputs": [
    {
     "ename": "NameError",
     "evalue": "name 'TSA' is not defined",
     "output_type": "error",
     "traceback": [
      "\u001b[0;31m---------------------------------------------------------------------------\u001b[0m",
      "\u001b[0;31mNameError\u001b[0m                                 Traceback (most recent call last)",
      "\u001b[1;32m/home/nyuad/RAAD/Data_Analysis/Location/Location_from_Timestamp.ipynb Cell 16'\u001b[0m in \u001b[0;36m<cell line: 3>\u001b[0;34m()\u001b[0m\n\u001b[1;32m      <a href='vscode-notebook-cell:/home/nyuad/RAAD/Data_Analysis/Location/Location_from_Timestamp.ipynb#ch0000015?line=0'>1</a>\u001b[0m \u001b[39m# TSA  = [59621,59671]\u001b[39;00m\n\u001b[1;32m      <a href='vscode-notebook-cell:/home/nyuad/RAAD/Data_Analysis/Location/Location_from_Timestamp.ipynb#ch0000015?line=1'>2</a>\u001b[0m TSL \u001b[39m=\u001b[39m []\n\u001b[0;32m----> <a href='vscode-notebook-cell:/home/nyuad/RAAD/Data_Analysis/Location/Location_from_Timestamp.ipynb#ch0000015?line=2'>3</a>\u001b[0m np\u001b[39m.\u001b[39mwhere(Time(\u001b[39m59639.000000000\u001b[39m, \u001b[39mformat\u001b[39m\u001b[39m=\u001b[39m\u001b[39m'\u001b[39m\u001b[39mmjd\u001b[39m\u001b[39m'\u001b[39m) \u001b[39m<\u001b[39m\u001b[39m=\u001b[39m Time(TSA, \u001b[39mformat\u001b[39m\u001b[39m=\u001b[39m\u001b[39m'\u001b[39m\u001b[39mmjd\u001b[39m\u001b[39m'\u001b[39m) \u001b[39m<\u001b[39m\u001b[39m=\u001b[39m Time(\u001b[39m59670.00000000\u001b[39m, \u001b[39mformat\u001b[39m\u001b[39m=\u001b[39m\u001b[39m'\u001b[39m\u001b[39mmjd\u001b[39m\u001b[39m'\u001b[39m))[\u001b[39m0\u001b[39m]\n\u001b[1;32m      <a href='vscode-notebook-cell:/home/nyuad/RAAD/Data_Analysis/Location/Location_from_Timestamp.ipynb#ch0000015?line=5'>6</a>\u001b[0m \u001b[39mfor\u001b[39;00m ts \u001b[39min\u001b[39;00m TSA:\n\u001b[1;32m      <a href='vscode-notebook-cell:/home/nyuad/RAAD/Data_Analysis/Location/Location_from_Timestamp.ipynb#ch0000015?line=7'>8</a>\u001b[0m     \u001b[39mif\u001b[39;00m Time(\u001b[39m59639.000000000\u001b[39m, \u001b[39mformat\u001b[39m\u001b[39m=\u001b[39m\u001b[39m'\u001b[39m\u001b[39mmjd\u001b[39m\u001b[39m'\u001b[39m) \u001b[39m<\u001b[39m\u001b[39m=\u001b[39m Time(ts, \u001b[39mformat\u001b[39m\u001b[39m=\u001b[39m\u001b[39m'\u001b[39m\u001b[39mmjd\u001b[39m\u001b[39m'\u001b[39m) \u001b[39m<\u001b[39m\u001b[39m=\u001b[39m Time(\u001b[39m59670.00000000\u001b[39m, \u001b[39mformat\u001b[39m\u001b[39m=\u001b[39m\u001b[39m'\u001b[39m\u001b[39mmjd\u001b[39m\u001b[39m'\u001b[39m):\n",
      "\u001b[0;31mNameError\u001b[0m: name 'TSA' is not defined"
     ]
    }
   ],
   "source": [
    "# TSA  = [59621,59671]\n",
    "\n",
    "TSL = []\n",
    "np.where(np.logical_and(TSA <= 59700.00000000, TSA >= 59639.000000000))[0]\n",
    "\n",
    "for ts in TSA:\n",
    "\n",
    "    if Time('2022-03-01') <= Time(ts, format='mjd') <= Time('2022-03-01'):\n",
    "        LLATData = FileData['March']\n",
    "        \n",
    "    \n",
    "    elif Time(59670.00000000, format='mjd') <= Time(ts, format='mjd') <= Time(59700.00000000, format='mjd'):\n",
    "        LLATData = FileData['April']\n",
    "    \n",
    "    else:\n",
    "        print(\"The time value given does not exist in the range from March to April!\\nFor reference, the time in mjd should be between 59639.0 and 59700.0\")\n",
    "        continue\n",
    "\n",
    "    TData = LLATData[\"Time (ModJDate)\"]\n",
    "\n",
    "    for row in range(len(TData)):\n",
    "\n",
    "        if ts == TData[row]:\n",
    "            MaximumData = LLATData.T[row]\n",
    "            MinimumData = LLATData.T[row]\n",
    "            break\n",
    "        \n",
    "        if TData[row] >= ts:\n",
    "            MaximumData = LLATData.T[row]\n",
    "            MinimumData = LLATData.T[row-1]\n",
    "            break\n",
    "    \n",
    "    TimeRange = [MinimumData[0], MaximumData[0]]\n",
    "    LongRange = [MinimumData[2], MaximumData[2]]\n",
    "    LatRange  = [MinimumData[1], MaximumData[1]]\n",
    "    longitude = np.interp(ts, TimeRange, LongRange)\n",
    "    latitude = np.interp(ts, TimeRange, LatRange)\n",
    "    TSL.append([ts,longitude,latitude])\n",
    "\n",
    "print(TSL)"
   ]
  },
  {
   "cell_type": "code",
   "execution_count": null,
   "metadata": {},
   "outputs": [],
   "source": []
  }
 ],
 "metadata": {
  "kernelspec": {
   "display_name": "Python 3.10.5 ('RAAD')",
   "language": "python",
   "name": "python3"
  },
  "language_info": {
   "codemirror_mode": {
    "name": "ipython",
    "version": 3
   },
   "file_extension": ".py",
   "mimetype": "text/x-python",
   "name": "python",
   "nbconvert_exporter": "python",
   "pygments_lexer": "ipython3",
   "version": "3.10.5"
  },
  "orig_nbformat": 4,
  "vscode": {
   "interpreter": {
    "hash": "36e052e0085dec9500ca722c5d674a9a5be9fd8cce245806b93705a8bf4353cd"
   }
  }
 },
 "nbformat": 4,
 "nbformat_minor": 2
}

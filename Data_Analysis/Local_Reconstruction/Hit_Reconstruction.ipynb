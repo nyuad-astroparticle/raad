{
 "cells": [
  {
   "cell_type": "markdown",
   "metadata": {},
   "source": [
    "# Hit Reconstruction\n",
    "\n",
    "Reconstrcuting the jumbled mess of data from Light-1 to a very specific Hit as a function of time and location using raadpy arrays. Doing so we can create a "
   ]
  }
 ],
 "metadata": {
  "kernelspec": {
   "display_name": "Python 3.10.5 ('base')",
   "language": "python",
   "name": "python3"
  },
  "language_info": {
   "name": "python",
   "version": "3.10.5"
  },
  "orig_nbformat": 4,
  "vscode": {
   "interpreter": {
    "hash": "3fd2e6389a0fd7c635319bf7383768acfaf026bf5f56a6bed54341f1b15812d5"
   }
  }
 },
 "nbformat": 4,
 "nbformat_minor": 2
}

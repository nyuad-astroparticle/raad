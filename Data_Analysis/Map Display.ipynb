{
 "cells": [
  {
   "cell_type": "markdown",
   "id": "474164d2",
   "metadata": {},
   "source": [
    "# Map Display\n",
    "\n",
    "Here we provide an example of how to use our python library `raadpy` to display TGFs form *fermi* or *light-1* and correlate them with publically available data on lightning strikes from [https://www.blitzortung.org/](https://www.blitzortung.org/). The full code and documentation can be found on our gituhub [**nyuad-astroparticle/raad**](https://github.com/nyuad-astroparticle/raad) as well as with mock datasets that can be used to learn how to use `raadpy` for data analysis.\n",
    "\n",
    "In this document we are using data from the **Fermi** mission to get a collection of TGF (Terrestrial Gamma-Ray Flash) signals. We then load the data in `raadpy-arrays` and use the builtin function to plot. We also use the building function to collect the lightning data from the internet and correlate what lighnings happened within this time interval. "
   ]
  },
  {
   "cell_type": "code",
   "execution_count": 16,
   "id": "025c2c97",
   "metadata": {},
   "outputs": [
    {
     "name": "stdout",
     "output_type": "stream",
     "text": [
      "\u001b[93mWarning!\u001b[0m Threshold: 10.000000 s, is too small to be detected by Blitzortung! Using threshold = 6 * 60 s instead.\n",
      "\u001b[96mSearching for Lightnings between:\u001b[0m\n",
      "\t start-time: 2021-06-28 01:31:54.440\n",
      "\t end-time:   2021-06-28 01:43:54.440\n",
      "\u001b[96mFound Lightning data at: \u001b[0mhttps://www.blitzortung.org/en/archive_data.php?stations_users=0&selected_numbers=*&end_date=1624838400&end_time=6234&start_date=1624838400&start_time=5514&rawdata_image=0&north=90&west=-180&east=180&south=-90&map=0&width_orig=640&width_result=640&agespan=60&frames=12&delay=100&last_delay=1000&show_result=1\n",
      "\u001b[96mData Downloaded Successfully\u001b[0m\n",
      "    0 Lightning: -79.891498 | Mission: Blitzurtong\n",
      "        Timestamp (ISO): 2021-06-28 01:37:54.938\n",
      "        Lat:   14.9226 \t Long:  -79.8915\n",
      "        Detector_id: Blitz\n",
      "        \n",
      "    1 Lightning: -90.06834 | Mission: Blitzurtong\n",
      "        Timestamp (ISO): 2021-06-28 01:37:53.891\n",
      "        Lat:   33.1204 \t Long:  -90.0683\n",
      "        Detector_id: Blitz\n",
      "        \n",
      "    2 Lightning: -90.026664 | Mission: Blitzurtong\n",
      "        Timestamp (ISO): 2021-06-28 01:37:53.892\n",
      "        Lat:   33.2297 \t Long:  -90.0267\n",
      "        Detector_id: Blitz\n",
      "        \n",
      "    3 Lightning: -90.245875 | Mission: Blitzurtong\n",
      "        Timestamp (ISO): 2021-06-28 01:37:54.287\n",
      "        Lat:   21.2897 \t Long:  -90.2459\n",
      "        Detector_id: Blitz\n",
      "        \n",
      "    4 Lightning: -79.895168 | Mission: Blitzurtong\n",
      "        Timestamp (ISO): 2021-06-28 01:37:54.938\n",
      "        Lat:   14.9215 \t Long:  -79.8952\n",
      "        Detector_id: Blitz\n",
      "        \n",
      "    5 Lightning: -93.797868 | Mission: Blitzurtong\n",
      "        Timestamp (ISO): 2021-06-28 01:37:55.242\n",
      "        Lat:   35.4030 \t Long:  -93.7979\n",
      "        Detector_id: Blitz\n",
      "        \n",
      "    6 Lightning: -93.813384 | Mission: Blitzurtong\n",
      "        Timestamp (ISO): 2021-06-28 01:37:55.242\n",
      "        Lat:   35.4195 \t Long:  -93.8134\n",
      "        Detector_id: Blitz\n",
      "        \n",
      "    7 Lightning: -93.814553 | Mission: Blitzurtong\n",
      "        Timestamp (ISO): 2021-06-28 01:37:55.356\n",
      "        Lat:   35.5046 \t Long:  -93.8146\n",
      "        Detector_id: Blitz\n",
      "        \n",
      "\n",
      "[-0.498408370648562, 0.5482131904049226, 0.5481736129148373, 0.1525997584678862, -0.4984076553967043, -0.8023183876598949, -0.8023253017995557, -0.9163008267023542]\n"
     ]
    },
    {
     "data": {},
     "metadata": {},
     "output_type": "display_data"
    },
    {
     "data": {
      "application/vnd.holoviews_exec.v0+json": "",
      "text/html": [
       "<div id='2523'>\n",
       "\n",
       "\n",
       "\n",
       "\n",
       "\n",
       "  <div class=\"bk-root\" id=\"67962531-df2f-4a89-9da0-a463733ce523\" data-root-id=\"2523\"></div>\n",
       "</div>\n",
       "<script type=\"application/javascript\">(function(root) {\n",
       "  function embed_document(root) {\n",
       "    var docs_json = {\"2abe0fc5-a7cd-4ad9-8b81-63988cba5c05\":{\"defs\":[{\"extends\":null,\"module\":null,\"name\":\"ReactiveHTML1\",\"overrides\":[],\"properties\":[]},{\"extends\":null,\"module\":null,\"name\":\"FlexBox1\",\"overrides\":[],\"properties\":[{\"default\":\"flex-start\",\"kind\":null,\"name\":\"align_content\"},{\"default\":\"flex-start\",\"kind\":null,\"name\":\"align_items\"},{\"default\":\"row\",\"kind\":null,\"name\":\"flex_direction\"},{\"default\":\"wrap\",\"kind\":null,\"name\":\"flex_wrap\"},{\"default\":\"flex-start\",\"kind\":null,\"name\":\"justify_content\"}]},{\"extends\":null,\"module\":null,\"name\":\"TemplateActions1\",\"overrides\":[],\"properties\":[{\"default\":0,\"kind\":null,\"name\":\"open_modal\"},{\"default\":0,\"kind\":null,\"name\":\"close_modal\"}]},{\"extends\":null,\"module\":null,\"name\":\"MaterialTemplateActions1\",\"overrides\":[],\"properties\":[{\"default\":0,\"kind\":null,\"name\":\"open_modal\"},{\"default\":0,\"kind\":null,\"name\":\"close_modal\"}]}],\"roots\":{\"references\":[{\"attributes\":{},\"id\":\"2566\",\"type\":\"ResetTool\"},{\"attributes\":{},\"id\":\"2602\",\"type\":\"Selection\"},{\"attributes\":{},\"id\":\"2631\",\"type\":\"UnionRenderers\"},{\"attributes\":{\"coordinates\":null,\"group\":null,\"level\":\"underlay\",\"tile_source\":{\"id\":\"2610\"}},\"id\":\"2613\",\"type\":\"TileRenderer\"},{\"attributes\":{\"dimension\":\"lon\"},\"id\":\"2577\",\"type\":\"MercatorTickFormatter\"},{\"attributes\":{\"tools\":[{\"id\":\"2537\"},{\"id\":\"2538\"},{\"id\":\"2565\"},{\"id\":\"2566\"}]},\"id\":\"2568\",\"type\":\"Toolbar\"},{\"attributes\":{\"attribution\":\"&copy; <a href=\\\"https://www.openstreetmap.org/copyright\\\">OpenStreetMap</a> contributors\",\"url\":\"https://c.tile.openstreetmap.org/{Z}/{X}/{Y}.png\"},\"id\":\"2610\",\"type\":\"WMTSTileSource\"},{\"attributes\":{\"coordinates\":null,\"group\":null,\"text_color\":\"black\",\"text_font_size\":\"12pt\"},\"id\":\"2548\",\"type\":\"Title\"},{\"attributes\":{\"axis\":{\"id\":\"2556\"},\"coordinates\":null,\"grid_line_color\":null,\"group\":null,\"ticker\":null},\"id\":\"2559\",\"type\":\"Grid\"},{\"attributes\":{\"margin\":[5,5,5,5],\"name\":\"HSpacer10491\",\"sizing_mode\":\"stretch_width\"},\"id\":\"2524\",\"type\":\"Spacer\"},{\"attributes\":{\"axis_label\":\"Latitude\",\"coordinates\":null,\"formatter\":{\"id\":\"2579\"},\"group\":null,\"major_label_policy\":{\"id\":\"2589\"},\"ticker\":{\"id\":\"2578\"}},\"id\":\"2560\",\"type\":\"LinearAxis\"},{\"attributes\":{\"fill_alpha\":{\"value\":0.1},\"fill_color\":{\"value\":\"Blue\"},\"hatch_alpha\":{\"value\":0.1},\"hatch_color\":{\"value\":\"Blue\"},\"line_alpha\":{\"value\":0.1},\"line_color\":{\"value\":\"Blue\"},\"marker\":{\"value\":\"cross\"},\"size\":{\"value\":7},\"x\":{\"field\":\"Longitude\"},\"y\":{\"field\":\"Latitude\"}},\"id\":\"2605\",\"type\":\"Scatter\"},{\"attributes\":{\"axis\":{\"id\":\"2560\"},\"coordinates\":null,\"dimension\":1,\"grid_line_color\":null,\"group\":null,\"ticker\":null},\"id\":\"2563\",\"type\":\"Grid\"},{\"attributes\":{\"fill_alpha\":{\"value\":0.1},\"fill_color\":{\"value\":\"red\"},\"hatch_alpha\":{\"value\":0.1},\"hatch_color\":{\"value\":\"red\"},\"line_alpha\":{\"value\":0.1},\"line_color\":{\"value\":\"red\"},\"marker\":{\"value\":\"cross\"},\"size\":{\"value\":7},\"x\":{\"field\":\"Longitude\"},\"y\":{\"field\":\"Latitude\"}},\"id\":\"2621\",\"type\":\"Scatter\"},{\"attributes\":{\"angle\":{\"value\":0.0},\"fill_alpha\":{\"value\":1.0},\"fill_color\":{\"value\":\"red\"},\"hatch_alpha\":{\"value\":1.0},\"hatch_color\":{\"value\":\"red\"},\"hatch_scale\":{\"value\":12.0},\"hatch_weight\":{\"value\":1.0},\"line_alpha\":{\"value\":1.0},\"line_cap\":{\"value\":\"butt\"},\"line_color\":{\"value\":\"red\"},\"line_dash\":{\"value\":[]},\"line_dash_offset\":{\"value\":0},\"line_join\":{\"value\":\"bevel\"},\"line_width\":{\"value\":1},\"marker\":{\"value\":\"cross\"},\"size\":{\"value\":7},\"x\":{\"field\":\"Longitude\"},\"y\":{\"field\":\"Latitude\"}},\"id\":\"2625\",\"type\":\"Scatter\"},{\"attributes\":{\"end\":20037508.342789248,\"min_interval\":5,\"reset_end\":20037508.342789248,\"reset_start\":-20037508.342789248,\"start\":-20037508.342789248,\"tags\":[[[\"Latitude\",\"Latitude\",null]]]},\"id\":\"2536\",\"type\":\"Range1d\"},{\"attributes\":{\"coordinates\":null,\"data_source\":{\"id\":\"2601\"},\"glyph\":{\"id\":\"2604\"},\"group\":null,\"hover_glyph\":null,\"muted_glyph\":{\"id\":\"2606\"},\"nonselection_glyph\":{\"id\":\"2605\"},\"selection_glyph\":{\"id\":\"2609\"},\"view\":{\"id\":\"2608\"}},\"id\":\"2607\",\"type\":\"GlyphRenderer\"},{\"attributes\":{\"source\":{\"id\":\"2601\"}},\"id\":\"2608\",\"type\":\"CDSView\"},{\"attributes\":{\"end\":20037508.342789244,\"min_interval\":5,\"reset_end\":20037508.342789244,\"reset_start\":-20037508.342789244,\"start\":-20037508.342789244,\"tags\":[[[\"Longitude\",\"Longitude\",null]]]},\"id\":\"2535\",\"type\":\"Range1d\"},{\"attributes\":{\"bottom_units\":\"screen\",\"coordinates\":null,\"fill_alpha\":0.5,\"fill_color\":\"lightgrey\",\"group\":null,\"left_units\":\"screen\",\"level\":\"overlay\",\"line_alpha\":1.0,\"line_color\":\"black\",\"line_dash\":[4,4],\"line_width\":2,\"right_units\":\"screen\",\"syncable\":false,\"top_units\":\"screen\"},\"id\":\"2567\",\"type\":\"BoxAnnotation\"},{\"attributes\":{\"axis_label\":\"Longitude\",\"coordinates\":null,\"formatter\":{\"id\":\"2577\"},\"group\":null,\"major_label_policy\":{\"id\":\"2582\"},\"ticker\":{\"id\":\"2576\"}},\"id\":\"2556\",\"type\":\"LinearAxis\"},{\"attributes\":{\"children\":[{\"id\":\"2524\"},{\"id\":\"2547\"},{\"id\":\"2698\"}],\"margin\":[0,0,0,0],\"name\":\"Row10487\",\"tags\":[\"embedded\"]},\"id\":\"2523\",\"type\":\"Row\"},{\"attributes\":{\"coordinates\":null,\"group\":null,\"level\":\"underlay\",\"tile_source\":{\"id\":\"2594\"}},\"id\":\"2597\",\"type\":\"TileRenderer\"},{\"attributes\":{\"fill_alpha\":{\"value\":0.2},\"fill_color\":{\"value\":\"red\"},\"hatch_alpha\":{\"value\":0.2},\"hatch_color\":{\"value\":\"red\"},\"line_alpha\":{\"value\":0.2},\"line_color\":{\"value\":\"red\"},\"marker\":{\"value\":\"cross\"},\"size\":{\"value\":7},\"x\":{\"field\":\"Longitude\"},\"y\":{\"field\":\"Latitude\"}},\"id\":\"2622\",\"type\":\"Scatter\"},{\"attributes\":{},\"id\":\"2589\",\"type\":\"AllLabels\"},{\"attributes\":{\"below\":[{\"id\":\"2556\"}],\"center\":[{\"id\":\"2559\"},{\"id\":\"2563\"}],\"height\":900,\"left\":[{\"id\":\"2560\"}],\"margin\":[5,5,5,5],\"min_border_bottom\":10,\"min_border_left\":10,\"min_border_right\":10,\"min_border_top\":10,\"renderers\":[{\"id\":\"2597\"},{\"id\":\"2607\"},{\"id\":\"2613\"},{\"id\":\"2623\"}],\"sizing_mode\":\"fixed\",\"title\":{\"id\":\"2548\"},\"toolbar\":{\"id\":\"2568\"},\"width\":1300,\"x_range\":{\"id\":\"2535\"},\"x_scale\":{\"id\":\"2552\"},\"y_range\":{\"id\":\"2536\"},\"y_scale\":{\"id\":\"2554\"}},\"id\":\"2547\",\"subtype\":\"Figure\",\"type\":\"Plot\"},{\"attributes\":{\"data\":{\"Latitude\":{\"__ndarray__\":\"7vWZRRRGNkE=\",\"dtype\":\"float64\",\"order\":\"little\",\"shape\":[1]},\"Longitude\":{\"__ndarray__\":\"mozTiQueYsE=\",\"dtype\":\"float64\",\"order\":\"little\",\"shape\":[1]}},\"selected\":{\"id\":\"2602\"},\"selection_policy\":{\"id\":\"2629\"}},\"id\":\"2601\",\"type\":\"ColumnDataSource\"},{\"attributes\":{},\"id\":\"2618\",\"type\":\"Selection\"},{\"attributes\":{\"fill_color\":{\"value\":\"red\"},\"hatch_color\":{\"value\":\"red\"},\"line_color\":{\"value\":\"red\"},\"marker\":{\"value\":\"cross\"},\"size\":{\"value\":7},\"x\":{\"field\":\"Longitude\"},\"y\":{\"field\":\"Latitude\"}},\"id\":\"2620\",\"type\":\"Scatter\"},{\"attributes\":{},\"id\":\"2629\",\"type\":\"UnionRenderers\"},{\"attributes\":{\"angle\":{\"value\":0.0},\"fill_alpha\":{\"value\":1.0},\"fill_color\":{\"value\":\"Blue\"},\"hatch_alpha\":{\"value\":1.0},\"hatch_color\":{\"value\":\"Blue\"},\"hatch_scale\":{\"value\":12.0},\"hatch_weight\":{\"value\":1.0},\"line_alpha\":{\"value\":1.0},\"line_cap\":{\"value\":\"butt\"},\"line_color\":{\"value\":\"Blue\"},\"line_dash\":{\"value\":[]},\"line_dash_offset\":{\"value\":0},\"line_join\":{\"value\":\"bevel\"},\"line_width\":{\"value\":1},\"marker\":{\"value\":\"cross\"},\"size\":{\"value\":7},\"x\":{\"field\":\"Longitude\"},\"y\":{\"field\":\"Latitude\"}},\"id\":\"2609\",\"type\":\"Scatter\"},{\"attributes\":{\"data\":{\"Latitude\":{\"__ndarray__\":\"dQ1XVpajOUF2x2ilQtdNQerEHZSn801BS74bsimDQkGkUU1LHqM5QVVRYzbmF1BBE5HAUxwaUEFQZgEvdiVQQQ==\",\"dtype\":\"float64\",\"order\":\"little\",\"shape\":[8]},\"Longitude\":{\"__ndarray__\":\"38cIHIX2YMGbR9o3rx9jwRoVnkxrHWPBD/o8m1UpY8FIMmUtuPZgwXV251xn6mPBeP5dRD/rY8EaT5uIT+tjwQ==\",\"dtype\":\"float64\",\"order\":\"little\",\"shape\":[8]}},\"selected\":{\"id\":\"2618\"},\"selection_policy\":{\"id\":\"2631\"}},\"id\":\"2617\",\"type\":\"ColumnDataSource\"},{\"attributes\":{\"dimension\":\"lon\"},\"id\":\"2576\",\"type\":\"MercatorTicker\"},{\"attributes\":{\"source\":{\"id\":\"2617\"}},\"id\":\"2624\",\"type\":\"CDSView\"},{\"attributes\":{},\"id\":\"2565\",\"type\":\"PanTool\"},{\"attributes\":{\"dimension\":\"lat\"},\"id\":\"2579\",\"type\":\"MercatorTickFormatter\"},{\"attributes\":{\"match_aspect\":true,\"overlay\":{\"id\":\"2567\"}},\"id\":\"2538\",\"type\":\"BoxZoomTool\"},{\"attributes\":{\"coordinates\":null,\"data_source\":{\"id\":\"2617\"},\"glyph\":{\"id\":\"2620\"},\"group\":null,\"hover_glyph\":null,\"muted_glyph\":{\"id\":\"2622\"},\"nonselection_glyph\":{\"id\":\"2621\"},\"selection_glyph\":{\"id\":\"2625\"},\"view\":{\"id\":\"2624\"}},\"id\":\"2623\",\"type\":\"GlyphRenderer\"},{\"attributes\":{\"dimension\":\"lat\"},\"id\":\"2578\",\"type\":\"MercatorTicker\"},{\"attributes\":{},\"id\":\"2554\",\"type\":\"LinearScale\"},{\"attributes\":{\"attribution\":\"&copy; <a href=\\\"https://www.openstreetmap.org/copyright\\\">OpenStreetMap</a> contributors\",\"url\":\"https://c.tile.openstreetmap.org/{Z}/{X}/{Y}.png\"},\"id\":\"2594\",\"type\":\"WMTSTileSource\"},{\"attributes\":{},\"id\":\"2552\",\"type\":\"LinearScale\"},{\"attributes\":{\"fill_alpha\":{\"value\":0.2},\"fill_color\":{\"value\":\"Blue\"},\"hatch_alpha\":{\"value\":0.2},\"hatch_color\":{\"value\":\"Blue\"},\"line_alpha\":{\"value\":0.2},\"line_color\":{\"value\":\"Blue\"},\"marker\":{\"value\":\"cross\"},\"size\":{\"value\":7},\"x\":{\"field\":\"Longitude\"},\"y\":{\"field\":\"Latitude\"}},\"id\":\"2606\",\"type\":\"Scatter\"},{\"attributes\":{},\"id\":\"2582\",\"type\":\"AllLabels\"},{\"attributes\":{\"fill_color\":{\"value\":\"Blue\"},\"hatch_color\":{\"value\":\"Blue\"},\"line_color\":{\"value\":\"Blue\"},\"marker\":{\"value\":\"cross\"},\"size\":{\"value\":7},\"x\":{\"field\":\"Longitude\"},\"y\":{\"field\":\"Latitude\"}},\"id\":\"2604\",\"type\":\"Scatter\"},{\"attributes\":{\"margin\":[5,5,5,5],\"name\":\"HSpacer10492\",\"sizing_mode\":\"stretch_width\"},\"id\":\"2698\",\"type\":\"Spacer\"},{\"attributes\":{\"zoom_on_axis\":false},\"id\":\"2537\",\"type\":\"WheelZoomTool\"}],\"root_ids\":[\"2523\"]},\"title\":\"Bokeh Application\",\"version\":\"2.4.2\"}};\n",
       "    var render_items = [{\"docid\":\"2abe0fc5-a7cd-4ad9-8b81-63988cba5c05\",\"root_ids\":[\"2523\"],\"roots\":{\"2523\":\"67962531-df2f-4a89-9da0-a463733ce523\"}}];\n",
       "    root.Bokeh.embed.embed_items_notebook(docs_json, render_items);\n",
       "  }\n",
       "  if (root.Bokeh !== undefined && root.Bokeh.Panel !== undefined) {\n",
       "    embed_document(root);\n",
       "  } else {\n",
       "    var attempts = 0;\n",
       "    var timer = setInterval(function(root) {\n",
       "      if (root.Bokeh !== undefined && root.Bokeh.Panel !== undefined) {\n",
       "        clearInterval(timer);\n",
       "        embed_document(root);\n",
       "      } else if (document.readyState == \"complete\") {\n",
       "        attempts++;\n",
       "        if (attempts > 200) {\n",
       "          clearInterval(timer);\n",
       "          console.log(\"Bokeh: ERROR: Unable to run BokehJS code because BokehJS library is missing\");\n",
       "        }\n",
       "      }\n",
       "    }, 25, root)\n",
       "  }\n",
       "})(window);</script>"
      ],
      "text/plain": [
       ":Overlay\n",
       "   .WMTS.I    :WMTS   [Longitude,Latitude]\n",
       "   .Points.I  :Points   [Longitude,Latitude]\n",
       "   .WMTS.II   :WMTS   [Longitude,Latitude]\n",
       "   .Points.II :Points   [Longitude,Latitude]"
      ]
     },
     "execution_count": 16,
     "metadata": {
      "application/vnd.holoviews_exec.v0+json": {
       "id": "2523"
      }
     },
     "output_type": "execute_result"
    }
   ],
   "source": [
    "# Import our raad library\n",
    "import raadpy as  rp\n",
    "\n",
    "# Load the TGF DATA (either from fermi or Light-1)\n",
    "# Convert the data to our own TGF class\n",
    "tgf_filename    = \"../TGF_data_for_research/Fermi TGF Catalog/+2011-Fermi-TGF-Data_t1.txt\"\n",
    "\n",
    "k = 0\n",
    "\n",
    "# Load the data\n",
    "tgfs    = rp.array(filename=tgf_filename,event_type='fermi')         # Load the TGF data\n",
    "lights  = rp.download_lightnings(tgfs[k].timestamp,threshold=10)\n",
    "\n",
    "# Take a random datapoint and find the closest lightning strikes\n",
    "near = rp.get_nearby_lightning(tgfs[k],lightnings=lights,threshold=1)\n",
    "\n",
    "# Create an array with the time differences between the \n",
    "# lightning strikes and the tgf\n",
    "time_difference = [tgfs[k].timestamp - light.timestamp for light in near]\n",
    "\n",
    "# Print the closest lightnings\n",
    "print(near)\n",
    "\n",
    "# Print the time difference\n",
    "print([t.sec for t in time_difference])\n",
    "\n",
    "# Plot them in a map\n",
    "rp.map(tgfs[k],near)\n"
   ]
  },
  {
   "cell_type": "code",
   "execution_count": null,
   "id": "7f7e5e40",
   "metadata": {},
   "outputs": [],
   "source": []
  },
  {
   "cell_type": "code",
   "execution_count": null,
   "id": "69ae9b3d",
   "metadata": {},
   "outputs": [],
   "source": []
  }
 ],
 "metadata": {
  "kernelspec": {
   "display_name": "Python 3 (ipykernel)",
   "language": "python",
   "name": "python3"
  },
  "language_info": {
   "codemirror_mode": {
    "name": "ipython",
    "version": 3
   },
   "file_extension": ".py",
   "mimetype": "text/x-python",
   "name": "python",
   "nbconvert_exporter": "python",
   "pygments_lexer": "ipython3",
   "version": "3.10.2"
  }
 },
 "nbformat": 4,
 "nbformat_minor": 5
}

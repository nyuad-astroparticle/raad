{
 "cells": [
  {
   "cell_type": "code",
   "execution_count": 1,
   "metadata": {},
   "outputs": [],
   "source": [
    "import pandas as pd\n",
    "import numpy as np\n",
    "from astropy.time import Time\n",
    "from math import radians, cos, sin, asin, sqrt"
   ]
  },
  {
   "cell_type": "code",
   "execution_count": 42,
   "metadata": {},
   "outputs": [],
   "source": [
    "csvfile = \"../../Data/Location/ISS_FERMI_Light-1_Locations.csv\"\n",
    "\n",
    "data_pd = pd.read_csv(csvfile)\n",
    "headers = list(data_pd.keys())\n",
    "data    = [i for i in data_pd.to_numpy().T]\n",
    "data    = dict(zip(headers,data))"
   ]
  },
  {
   "cell_type": "code",
   "execution_count": 109,
   "metadata": {},
   "outputs": [],
   "source": [
    "# headers\n",
    "# data"
   ]
  },
  {
   "cell_type": "code",
   "execution_count": 24,
   "metadata": {},
   "outputs": [],
   "source": [
    "def haversine(lon1, lat1, lon2, lat2):  #Calculate the great circle distance between two points on the earth \n",
    "                                        #(specified in decimal degrees)\n",
    "    lon1, lat1, lon2, lat2 = map(radians, [lon1, lat1, lon2, lat2]) # convert decimal degrees to radians \n",
    "    # haversine formula \n",
    "    dlon = lon2 - lon1 \n",
    "    dlat = lat2 - lat1 \n",
    "    a = sin(dlat/2)**2 + cos(lat1) * cos(lat2) * sin(dlon/2)**2\n",
    "    c = 2 * asin(sqrt(a)) \n",
    "    r = 6371 # Radius of earth in kilometers. Use 3956 for miles.\n",
    "    return c * r"
   ]
  },
  {
   "cell_type": "code",
   "execution_count": 52,
   "metadata": {},
   "outputs": [],
   "source": [
    "distance_ISS_Light1 = [haversine(data['Lon(deg)Light-1'][i],data['Lat(deg)Light-1'][i],data['Lon(deg)ISS'][i],data['Lat(deg)ISS'][i]) for i in range(len(data['Time(ModJDate)']))]\n",
    "distance_FERMI_Light1 = [haversine(data['Lon(deg)Light-1'][i],data['Lat(deg)Light-1'][i],data['Lon(deg)FERMI'][i],data['Lat(deg)FERMI'][i]) for i in range(len(data['Time(ModJDate)']))]"
   ]
  },
  {
   "cell_type": "code",
   "execution_count": 116,
   "metadata": {},
   "outputs": [],
   "source": [
    "THRESHOLD_km   = 1000\n",
    "ISS_idx_cut     = np.where([i < THRESHOLD_km for i in distance_ISS_Light1])[0]\n",
    "ISS_time_cut    = data['Time(ModJDate)'][ISS_idx_cut]\n",
    "\n",
    "FERMI_idx_cut     = np.where([i < THRESHOLD_km for i in distance_FERMI_Light1])[0]\n",
    "FERMI_time_cut    = data['Time(ModJDate)'][FERMI_idx_cut]"
   ]
  },
  {
   "cell_type": "code",
   "execution_count": 115,
   "metadata": {},
   "outputs": [],
   "source": [
    "ISS_time = [Time(i,format=\"mjd\") for i in ISS_time_cut]\n",
    "ISS_time = [(i.mjd,i.isot) for i in ISS_time]\n",
    "\n",
    "FERMI_time = [Time(i,format=\"mjd\") for i in FERMI_time_cut]\n",
    "FERMI_time = [(i.mjd,i.isot) for i in FERMI_time]"
   ]
  },
  {
   "cell_type": "code",
   "execution_count": 117,
   "metadata": {},
   "outputs": [],
   "source": [
    "# .00300s is 5 minutes.. so 1000s for safety\n",
    "TIME_THRESHOLD = 0.01\n",
    "\n",
    "ISS_time_list = [('ISS Start here:', ISS_time[0][1])]\n",
    "ISS_val = 0 # To decide if start or end\n",
    "for i in range(len(ISS_time)-1):\n",
    "    if ((ISS_time[i+1][0] - ISS_time[i][0]) >= TIME_THRESHOLD):\n",
    "\n",
    "        if ((ISS_val % 2) == 0): # If val is even\n",
    "            k = (\"End here:\", ISS_time[i][1])\n",
    "            \n",
    "        else:\n",
    "            k = (\"Start here:\", ISS_time[i+1][1])\n",
    "        \n",
    "        ISS_time_list.append(k)\n",
    "        ISS_val = ISS_val + 1\n",
    "\n",
    "FERMI_time_list = [('FERMI Start here:', FERMI_time[0][1])]\n",
    "FERMI_val = 0 # To decide if start or end\n",
    "for i in range(len(FERMI_time)-1):\n",
    "    if ((FERMI_time[i+1][0] - FERMI_time[i][0]) >= TIME_THRESHOLD):\n",
    "\n",
    "        if ((val % 2) == 0): # If val is even\n",
    "            k = (\"End here:\", FERMI_time[i][1])\n",
    "            \n",
    "        else:\n",
    "            k = (\"Start here:\", FERMI_time[i+1][1])\n",
    "        \n",
    "        FERMI_time_list.append(k)\n",
    "        val = val + 1\n"
   ]
  },
  {
   "cell_type": "code",
   "execution_count": 119,
   "metadata": {},
   "outputs": [],
   "source": [
    "# ISS_time_list\n",
    "# FERMI_time_list"
   ]
  },
  {
   "cell_type": "code",
   "execution_count": null,
   "metadata": {},
   "outputs": [],
   "source": []
  },
  {
   "cell_type": "code",
   "execution_count": null,
   "metadata": {},
   "outputs": [],
   "source": []
  }
 ],
 "metadata": {
  "kernelspec": {
   "display_name": "RAAD",
   "language": "python",
   "name": "python3"
  },
  "language_info": {
   "codemirror_mode": {
    "name": "ipython",
    "version": 3
   },
   "file_extension": ".py",
   "mimetype": "text/x-python",
   "name": "python",
   "nbconvert_exporter": "python",
   "pygments_lexer": "ipython3",
   "version": "3.10.5"
  },
  "orig_nbformat": 4,
  "vscode": {
   "interpreter": {
    "hash": "a188e3d59dbe13d296b4a72dffd6c2166ad4df7b6cd72db83359323126f33eab"
   }
  }
 },
 "nbformat": 4,
 "nbformat_minor": 2
}

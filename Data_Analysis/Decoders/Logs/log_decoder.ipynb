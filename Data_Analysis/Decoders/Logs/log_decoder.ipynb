{
 "cells": [
  {
   "cell_type": "code",
   "execution_count": 1,
   "metadata": {},
   "outputs": [],
   "source": [
    "import numpy as np\n",
    "import pandas as pd\n",
    "import os\n",
    "import csv"
   ]
  },
  {
   "cell_type": "code",
   "execution_count": 2,
   "metadata": {},
   "outputs": [
    {
     "name": "stdout",
     "output_type": "stream",
     "text": [
      "['# Script started\\n', 'SE0>rtc read\\n', 'curr rtc time 1646297867.353394 s, 2022-03-03 08:57:47 \\n', 'OK\\n', 'SE0># Script delay (avoiding SAA)\\n', 'SE0>script delayuntil 1646297935\\n', 'OK\\n', 'SE0># Enabling the PC and payload (and switching off with the timer of 30m for the payload and 3h for the PC)\\n', 'SE0>csp txrx 4 14 600 000500302A\\n', 'Answer: 0000\\n', 'Bytes: 2\\n', 'Flags: 0x00 (frag=0, HMAC=0, XTEA=0, RDP=0, CRC32=0)\\n', 'OK\\n', 'SE0>csp txrx 4 14 600 0007000807\\n', 'Answer: 0000\\n', 'Bytes: 2\\n', 'Flags: 0x00 (frag=0, HMAC=0, XTEA=0, RDP=0, CRC32=0)\\n', 'OK\\n', 'SE0>csp txrx 4 14 600 0008000807\\n', 'Answer: 0000\\n', 'Bytes: 2\\n', 'Flags: 0x00 (frag=0, HMAC=0, XTEA=0, RDP=0, CRC32=0)\\n', 'OK\\n', 'SE0>csp txrx 4 14 600 0005010100\\n', 'Answer: 0000\\n', 'Bytes: 2\\n', 'Flags: 0x00 (frag=0, HMAC=0, XTEA=0, RDP=0, CRC32=0)\\n', 'OK\\n', 'SE0>csp txrx 4 14 600 0007011400\\n', 'Answer: 0000\\n', 'Bytes: 2\\n', 'Flags: 0x00 (frag=0, HMAC=0, XTEA=0, RDP=0, CRC32=0)\\n', 'OK\\n', 'SE0>csp txrx 4 14 600 0008011E00\\n', 'Answer: 0000\\n', 'Bytes: 2\\n', 'Flags: 0x00 (frag=0, HMAC=0, XTEA=0, RDP=0, CRC32=0)\\n', 'OK\\n', 'SE0># Delay 2 minutes\\n', 'SE0>script delay 120000\\n', 'OK\\n', 'SE0># Command ID 1 - Default Mode\\n', 'SE0>csp txrx 12 8 3000 00\\n', 'No answer received\\n', 'FAIL\\n', 'SE0># Delay 2 seconds\\n', 'SE0>script delay 2000\\n', 'OK\\n', 'SE0># Command ID 2 - Default Mode\\n', 'SE0>csp txrx 13 8 3000 00\\n', 'No answer received\\n', 'FAIL\\n', 'SE0># Clear buffers\\n', 'SE0>fs clear 32\\n', 'OK\\n', 'SE0>script delay 30000\\n', 'OK\\n', 'SE0>fs clear 33\\n', 'OK\\n', 'SE0>script delay 30000\\n', 'OK\\n', 'SE0>fs clear 34\\n', 'OK\\n', 'SE0>script delay 30000\\n', 'OK\\n', 'SE0>fs clear 35\\n', 'OK\\n', 'SE0>script delay 30000\\n', 'OK\\n', 'SE0>fs clear 36\\n', 'OK\\n', 'SE0>script delay 30000\\n', 'OK\\n', 'SE0>fs clear 37\\n', 'OK\\n', 'SE0>script delay 30000\\n', 'OK\\n', 'SE0>fs clear 38\\n', 'OK\\n', 'SE0>script delay 30000\\n', 'OK\\n', 'SE0>fs clear 39\\n', 'OK\\n', 'SE0>script delay 30000\\n', 'OK\\n', 'SE0>fs clear 40\\n', 'OK\\n', 'SE0>script delay 58000\\n', 'OK\\n', 'SE0># Command ID 9 - Noise Mode\\n', 'SE0>csp txrx 12 8 3000 08\\n', 'No answer received\\n', 'FAIL\\n', 'SE0>script delay 5000\\n', 'OK\\n', 'SE0># Command ID 20 - Noise Mode\\n', 'SE0>csp txrx 13 8 3000 01\\n', 'No answer received\\n', 'FAIL\\n', 'SE0>script delay 5000\\n', 'OK\\n', 'SE0># Command ID 3 - Operating Mode\\n', 'SE0>csp txrx 12 8 3000 02\\n', 'No answer received\\n', 'FAIL\\n', 'SE0>script delay 60000\\n', 'OK\\n', 'SE0># Command ID 18 - Operating Mode\\n', 'SE0>csp txrx 13 8 3000 06\\n', 'No answer received\\n', 'FAIL\\n', 'SE0>script delay 2000\\n', 'OK\\n', 'SE0># Command ID 1 - Default Mode\\n', 'SE0>csp txrx 12 8 3000 00\\n', 'No answer received\\n', 'FAIL\\n', 'SE0>script delay 600000\\n', 'OK\\n', 'SE0>script delay 600000\\n', 'OK\\n', 'SE0># Command ID 2 - Default Mode\\n', 'SE0>csp txrx 13 8 3000 00\\n', 'No answer received\\n', 'FAIL\\n', 'SE0>script delay 2000\\n', 'OK\\n', 'SE0># Switching the payloads OFF\\n', 'SE0>csp txrx 4 14 600 0007000000\\n', 'Answer: 0000\\n', 'Bytes: 2\\n', 'Flags: 0x00 (frag=0, HMAC=0, XTEA=0, RDP=0, CRC32=0)\\n', 'OK\\n', 'SE0>csp txrx 4 14 600 0008000300\\n', 'Answer: 0000\\n', 'Bytes: 2\\n', 'Flags: 0x00 (frag=0, HMAC=0, XTEA=0, RDP=0, CRC32=0)\\n', 'OK\\n', 'SE0># Script finished\\n', 'SE0>rtc read\\n', 'curr rtc time 1646299664.765045 s, 2022-03-03 09:27:44 \\n', 'OK\\n', 'SE0>']\n"
     ]
    }
   ],
   "source": [
    "# import data\n",
    "logfile = open(\"../../../Data/Logs/light1_first_se_log.txt\")\n",
    "# logfile = open(\"../../Data/Logs/Light1_OperationalTest_May6_ScriptLog_1.txt\")\n",
    "loglines = logfile.readlines()\n",
    "print (loglines)"
   ]
  },
  {
   "cell_type": "code",
   "execution_count": 3,
   "metadata": {},
   "outputs": [
    {
     "name": "stdout",
     "output_type": "stream",
     "text": [
      "Line: 1 , Command: SE0>rtc read\n",
      " , Time: 1646297867.353394 s, 2022-03-03 08:57:47 \n",
      "\n",
      "Line: 139 , Command: SE0>rtc read\n",
      " , Time: 1646299664.765045 s, 2022-03-03 09:27:44 \n",
      "\n"
     ]
    }
   ],
   "source": [
    "for i in range(len(loglines)): # i is a number for every line in the log file\n",
    "    k = loglines[i] \n",
    "    if \"SE0>rtc read\" in k:\n",
    "        I = i+1\n",
    "        l = loglines[I][14:]\n",
    "        print (\"Line:\" , i , \", Command:\" , k , \", Time:\" , l )\n",
    "\n",
    "# if the value is in range of the full range of file?\n",
    "# first rtc must be start of code, second rtc must be end of code"
   ]
  },
  {
   "cell_type": "code",
   "execution_count": 6,
   "metadata": {},
   "outputs": [
    {
     "name": "stdout",
     "output_type": "stream",
     "text": [
      "line:  1 , command:  SE0>rtc read\n",
      "\n",
      "line:  139 , command:  SE0>rtc read\n",
      "\n",
      "line:  142 , command:  SE0>\n"
     ]
    }
   ],
   "source": [
    "for i in range(len(loglines)): # i is a number for every line in the log file\n",
    "    k = loglines[i] \n",
    "    # l = loglines[i+1]\n",
    "    if k[0:12] in \"SE0>rtc read\":\n",
    "        # l=i+1\n",
    "        print (\"line: \" , i , \", command: \" , k )\n",
    "\n",
    "\n",
    "\n",
    "\n",
    "    # if k[0:5] in \"SE0>#\":\n",
    "    #     print (k)"
   ]
  },
  {
   "cell_type": "code",
   "execution_count": 7,
   "metadata": {},
   "outputs": [],
   "source": [
    "# Work to find the following:\n",
    "\n",
    "# \"Time,scenario\"\n",
    "# \"At time () command () was excuted.\n",
    "# \"At time () command () failed.\"\n",
    "\n",
    "# If line in SE0>:\n",
    "# print the time\n",
    "# print the command\n",
    "# print the info\n",
    "# print if command was excuted or failed"
   ]
  },
  {
   "cell_type": "code",
   "execution_count": 144,
   "metadata": {},
   "outputs": [],
   "source": [
    "def desc_finder(line:str,cmdlist,outputs,i,time,failed_idx):\n",
    "\n",
    "    # print(line)\n",
    "    status = 1\n",
    "    splt = line.split(' ')\n",
    "\n",
    "    # print (splt)\n",
    "\n",
    "    if splt[-1] == 'SE0>':\n",
    "        desc = 'LOG END'\n",
    "\n",
    "    elif 'txrx' in splt[1]:\n",
    "        node,port,msg = int(splt[2]),int(splt[3]),str(splt[5])\n",
    "        index = cmdlist.loc[(cmdlist['NODE']==node) & (cmdlist['PORT']==port) & (cmdlist['Message'].str.startswith(msg)),['ID COMMAND (Proposed)']]\n",
    "        \n",
    "        # include the power shutdown\n",
    "        if node == 4:\n",
    "            index = cmdlist.loc[(cmdlist['NODE']==node) & (cmdlist['PORT']==port),['ID COMMAND (Proposed)']]\n",
    "        \n",
    "\n",
    "        #If index did not find anything\n",
    "        if len(index) == 0:\n",
    "            # desc = ('Not Payload Command: '+ line)\n",
    "            desc = ''\n",
    "            \n",
    "        # if command found in command list\n",
    "        else:\n",
    "            c = index.to_string(index=False).split('\\n')[1].strip()\n",
    "            desc = c\n",
    "        \n",
    "\n",
    "        if i in [fid for fid in failed_idx]:\n",
    "            time = time + (float(splt[4])/1000)\n",
    "            status = -1\n",
    "        \n",
    "\n",
    "    elif splt[1] == 'delay':\n",
    "        # desc = 'Delay of: ' + splt[2] + 'ms'\n",
    "        # time = time + (float(splt[2])/1000)\n",
    "        desc = ''\n",
    "\n",
    "    elif splt[1] == 'delayuntil':\n",
    "        # desc = 'Delayuntil: ' + splt[2] + 's'\n",
    "        time = float(splt[2])\n",
    "        desc = ''\n",
    "\n",
    "    elif 'read' in splt[1]:\n",
    "        t = outputs[i][0].split(' ')[3:-1]\n",
    "        # desc = 'Read the Current Time: ' + ' '.join([str(elem) for elem in t])\n",
    "        time = float(outputs[i][0].split(' ')[3])\n",
    "        desc = ''\n",
    "\n",
    "    else:\n",
    "        # desc = 'Different Command Type: ' + line\n",
    "        desc = ''\n",
    "    \n",
    "    return desc,time,status#,scenario"
   ]
  },
  {
   "cell_type": "code",
   "execution_count": 145,
   "metadata": {},
   "outputs": [],
   "source": [
    "def decode_log(filename:str=\"../../../Data/Logs/light1-SD-1016-se-log.txt\"):\n",
    "\n",
    "    # Load the logfile\n",
    "    logfile = open(filename)\n",
    "    cmdlist = pd.read_csv(\"command_list.csv\")\n",
    "\n",
    "    # Load the lines\n",
    "    loglines = logfile.readlines()\n",
    "\n",
    "    # Close the file\n",
    "    logfile.close()\n",
    "\n",
    "    # Create an array with the lines\n",
    "    commands    = []\n",
    "    outputs     = []\n",
    "    idx         = []\n",
    "    description = []\n",
    "    times       = []\n",
    "    fails       = []\n",
    "    failed_idx = []\n",
    "\n",
    "    # Get commands and their indices\n",
    "    for i, line in enumerate(loglines):\n",
    "        if 'SE0>' in line:\n",
    "            commands.append(line)\n",
    "            idx.append(i)\n",
    "\n",
    "    # Check if the last command was empty\n",
    "    if loglines[-1] != 'SE0>':\n",
    "        commands.append('SE0>')\n",
    "        idx.append(len(loglines))\n",
    "\n",
    "    # Get the command output\n",
    "    for i in range(len(idx)-1):\n",
    "        out = []\n",
    "        if 'SE0>#' not in commands[i]:\n",
    "            for j in range(idx[i]+1,idx[i+1]):\n",
    "                out.append(loglines[j])\n",
    "        \n",
    "        outputs.append(out)\n",
    "\n",
    "    # cmdid = dict(zip(idx, commands))\n",
    "\n",
    "    # Create the dictionary\n",
    "    log = [[command,output] for command,output in zip(commands,outputs)]\n",
    "\n",
    "    # Check which commands executed correcly\n",
    "  \n",
    "\n",
    "    # Find the commands that failed\n",
    "    for i in range(len(commands)-1):\n",
    "        for output in log[i][1]:\n",
    "            if 'FAIL' in output:\n",
    "                failed_idx.append(i)\n",
    "\n",
    "\n",
    "    # Initialize time at 0s\n",
    "    time = 0\n",
    "    \n",
    "    # Give commands and use the finder function to pull the description, time ran, and if the command failed.\n",
    "    for k, id in enumerate(idx):\n",
    "        c = commands[k]\n",
    "        cmd = c.split('\\n')[0]\n",
    "        desc,time,failed = desc_finder(cmd,cmdlist,outputs,k,time,failed_idx)\n",
    "\n",
    "        if not desc == '':\n",
    "            description.append(desc)\n",
    "            times.append(time)\n",
    "            fails.append(failed)\n",
    "\n",
    "    #Name the CSV file and create it if it doesn't exist\n",
    "    tempname = 'templog.csv'\n",
    "    fileDir = os.path.join('Defined_Logs')\n",
    "\n",
    "    if not os.path.exists(fileDir):\n",
    "        os.makedirs(fileDir)\n",
    "    \n",
    "    filePath = os.path.join(fileDir, tempname)\n",
    "\n",
    "    #Name the headers of the CSV File\n",
    "    header = ['status,time,description']\n",
    "\n",
    "    #Clear the file and write from scratch\n",
    "    with open(filePath, 'w', newline='') as file:\n",
    "        writer = csv.writer(file)\n",
    "        writer.writerow(header)\n",
    "\n",
    "        for i in range(len(description)):\n",
    "            g = (fails[i], times[i-1], description[i])\n",
    "            writer.writerow(g)\n",
    "\n",
    "\n",
    "    # Create a dictionary\n",
    "    return log, commands[:-1], outputs, description, failed_idx"
   ]
  },
  {
   "cell_type": "code",
   "execution_count": 146,
   "metadata": {},
   "outputs": [],
   "source": [
    "# Get the log file and the commands\n",
    "log, commands, outputs, description, failed_idx   = decode_log()"
   ]
  },
  {
   "cell_type": "code",
   "execution_count": 50,
   "metadata": {},
   "outputs": [
    {
     "data": {
      "text/plain": [
       "[23,\n",
       " 25,\n",
       " 30,\n",
       " 57,\n",
       " 99,\n",
       " 101,\n",
       " 106,\n",
       " 175,\n",
       " 177,\n",
       " 209,\n",
       " 283,\n",
       " 326,\n",
       " 327,\n",
       " 328,\n",
       " 329,\n",
       " 334,\n",
       " 402,\n",
       " 403,\n",
       " 405,\n",
       " 410,\n",
       " 414,\n",
       " 423,\n",
       " 478,\n",
       " 479,\n",
       " 481,\n",
       " 555,\n",
       " 557,\n",
       " 589,\n",
       " 633,\n",
       " 640,\n",
       " 665,\n",
       " 667,\n",
       " 708,\n",
       " 711,\n",
       " 716,\n",
       " 784,\n",
       " 785,\n",
       " 792,\n",
       " 819,\n",
       " 861,\n",
       " 863,\n",
       " 868,\n",
       " 893,\n",
       " 895,\n",
       " 944,\n",
       " 969]"
      ]
     },
     "execution_count": 50,
     "metadata": {},
     "output_type": "execute_result"
    }
   ],
   "source": [
    "failed_idx"
   ]
  },
  {
   "cell_type": "code",
   "execution_count": 27,
   "metadata": {},
   "outputs": [
    {
     "ename": "NameError",
     "evalue": "name 'commands' is not defined",
     "output_type": "error",
     "traceback": [
      "\u001b[0;31m---------------------------------------------------------------------------\u001b[0m",
      "\u001b[0;31mNameError\u001b[0m                                 Traceback (most recent call last)",
      "\u001b[1;32m/home/raad/RAAD/Data_Analysis/Decoders/Logs/log_decoder.ipynb Cell 10'\u001b[0m in \u001b[0;36m<cell line: 5>\u001b[0;34m()\u001b[0m\n\u001b[1;32m      <a href='vscode-notebook-cell://ssh-remote%2Barneodolab.abudhabi.nyu.edu/home/raad/RAAD/Data_Analysis/Decoders/Logs/log_decoder.ipynb#ch0000009vscode-remote?line=1'>2</a>\u001b[0m failed_idx \u001b[39m=\u001b[39m []\n\u001b[1;32m      <a href='vscode-notebook-cell://ssh-remote%2Barneodolab.abudhabi.nyu.edu/home/raad/RAAD/Data_Analysis/Decoders/Logs/log_decoder.ipynb#ch0000009vscode-remote?line=3'>4</a>\u001b[0m \u001b[39m# Find the commands that failed\u001b[39;00m\n\u001b[0;32m----> <a href='vscode-notebook-cell://ssh-remote%2Barneodolab.abudhabi.nyu.edu/home/raad/RAAD/Data_Analysis/Decoders/Logs/log_decoder.ipynb#ch0000009vscode-remote?line=4'>5</a>\u001b[0m \u001b[39mfor\u001b[39;00m i \u001b[39min\u001b[39;00m \u001b[39mrange\u001b[39m(\u001b[39mlen\u001b[39m(commands)):\n\u001b[1;32m      <a href='vscode-notebook-cell://ssh-remote%2Barneodolab.abudhabi.nyu.edu/home/raad/RAAD/Data_Analysis/Decoders/Logs/log_decoder.ipynb#ch0000009vscode-remote?line=5'>6</a>\u001b[0m     \u001b[39mfor\u001b[39;00m output \u001b[39min\u001b[39;00m log[i][\u001b[39m1\u001b[39m]:\n\u001b[1;32m      <a href='vscode-notebook-cell://ssh-remote%2Barneodolab.abudhabi.nyu.edu/home/raad/RAAD/Data_Analysis/Decoders/Logs/log_decoder.ipynb#ch0000009vscode-remote?line=6'>7</a>\u001b[0m         \u001b[39mif\u001b[39;00m \u001b[39m'\u001b[39m\u001b[39mFAIL\u001b[39m\u001b[39m'\u001b[39m \u001b[39min\u001b[39;00m output:\n",
      "\u001b[0;31mNameError\u001b[0m: name 'commands' is not defined"
     ]
    }
   ],
   "source": [
    "# Check which commands executed correcly\n",
    "failed_idx = []\n",
    "\n",
    "# Find the commands that failed\n",
    "for i in range(len(commands)):\n",
    "    for output in log[i][1]:\n",
    "        if 'FAIL' in output:\n",
    "            failed_idx.append(i)\n",
    "\n",
    "print(failed_idx)"
   ]
  },
  {
   "cell_type": "code",
   "execution_count": 54,
   "metadata": {},
   "outputs": [],
   "source": [
    "# print (failed_idx)\n",
    "# print (failed_cmd,failed_output)\n",
    "# print (failed_output)"
   ]
  },
  {
   "cell_type": "code",
   "execution_count": null,
   "metadata": {},
   "outputs": [],
   "source": [
    "# Decode the file"
   ]
  },
  {
   "cell_type": "code",
   "execution_count": null,
   "metadata": {},
   "outputs": [],
   "source": [
    "# Define the command description in a dict\n",
    "# return timestamps of the scenarios and the failures (use the delays and the rtc reads to find the time)\n",
    "# id,line,command,description,output(ok,or fail),timetaken\n"
   ]
  },
  {
   "cell_type": "code",
   "execution_count": null,
   "metadata": {},
   "outputs": [],
   "source": [
    "# line = SE0>csp txrx 12 8 3000 08\n",
    "def f(line:str):\n",
    "    line[13:15]"
   ]
  }
 ],
 "metadata": {
  "interpreter": {
   "hash": "603c2dde23853942044ef1ecf9d83c9e0c7746eecc66ee3ed309f571bba3bb71"
  },
  "kernelspec": {
   "display_name": "Python 3.10.2 ('RAAD')",
   "language": "python",
   "name": "python3"
  },
  "language_info": {
   "codemirror_mode": {
    "name": "ipython",
    "version": 3
   },
   "file_extension": ".py",
   "mimetype": "text/x-python",
   "name": "python",
   "nbconvert_exporter": "python",
   "pygments_lexer": "ipython3",
   "version": "3.10.2"
  },
  "orig_nbformat": 4
 },
 "nbformat": 4,
 "nbformat_minor": 2
}

{
 "cells": [
  {
   "cell_type": "code",
   "execution_count": 4,
   "metadata": {},
   "outputs": [],
   "source": [
    "import os\n",
    "\n",
    "a = 0"
   ]
  },
  {
   "cell_type": "code",
   "execution_count": 41,
   "metadata": {},
   "outputs": [],
   "source": [
    "FileDir = os.path.join(\"Test\")\n",
    "\n",
    "if not os.path.exists(FileDir):\n",
    "    os.makedirs(FileDir)\n",
    "\n",
    "FilePath = os.path.join(FileDir, f\"Tester.bin\")\n",
    "a = a + 1\n",
    "\n",
    "with open(FilePath, \"a\") as file:\n",
    "    file.write(\"Yes! Value is now \" + str(a))\n",
    "    file.write(\":>\\n\")\n"
   ]
  },
  {
   "cell_type": "code",
   "execution_count": null,
   "metadata": {},
   "outputs": [],
   "source": []
  }
 ],
 "metadata": {
  "interpreter": {
   "hash": "fba84b2f6821df9bf9de7f49027329fd2a7cd5988eef84c28f5fd450bbe2a7ae"
  },
  "kernelspec": {
   "display_name": "Python 3.10.5 ('base')",
   "language": "python",
   "name": "python3"
  },
  "language_info": {
   "codemirror_mode": {
    "name": "ipython",
    "version": 3
   },
   "file_extension": ".py",
   "mimetype": "text/x-python",
   "name": "python",
   "nbconvert_exporter": "python",
   "pygments_lexer": "ipython3",
   "version": "3.10.5"
  },
  "orig_nbformat": 4
 },
 "nbformat": 4,
 "nbformat_minor": 2
}

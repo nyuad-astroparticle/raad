{
 "cells": [
  {
   "cell_type": "markdown",
   "metadata": {},
   "source": [
    "# Download Data from NanoAvionics\n",
    "\n",
    "The final notebook to be used to download the LIght-1 data from the NanoAvionics server. The rest of the notebooks in this directory are used for development"
   ]
  },
  {
   "cell_type": "code",
   "execution_count": 1,
   "metadata": {},
   "outputs": [],
   "source": [
    "# Import libraries\n",
    "import raadpy as rp"
   ]
  },
  {
   "cell_type": "code",
   "execution_count": 2,
   "metadata": {},
   "outputs": [
    {
     "name": "stdout",
     "output_type": "stream",
     "text": [
      "Current File:  https://light1.mcs.nanoavionics.com/pc_buff1_download?archived_ts=gte.2022-09-07T00:00:00&archived_ts=lt.2022-09-014T23:00:00 \n",
      "Entries Downloaded: 0 \n",
      "Last Sequence Number: -1 \n",
      "Iterations: 0\n",
      "Bytes per entry:  []\n"
     ]
    }
   ],
   "source": [
    "# Download the data packet specifying the timestamps\n",
    "metadata = rp.download_data_packet(\n",
    "    start    = '2022-09-07T00:00:00', \n",
    "    end      = '2022-09-014T23:00:00',\n",
    "    filepath ='../../Data/Light-1/')\n",
    "\n",
    "print(metadata)"
   ]
  },
  {
   "cell_type": "code",
   "execution_count": null,
   "metadata": {},
   "outputs": [],
   "source": []
  }
 ],
 "metadata": {
  "kernelspec": {
   "display_name": "Python 3.10.5 ('base')",
   "language": "python",
   "name": "python3"
  },
  "language_info": {
   "codemirror_mode": {
    "name": "ipython",
    "version": 3
   },
   "file_extension": ".py",
   "mimetype": "text/x-python",
   "name": "python",
   "nbconvert_exporter": "python",
   "pygments_lexer": "ipython3",
   "version": "3.10.5"
  },
  "orig_nbformat": 4,
  "vscode": {
   "interpreter": {
    "hash": "3fd2e6389a0fd7c635319bf7383768acfaf026bf5f56a6bed54341f1b15812d5"
   }
  }
 },
 "nbformat": 4,
 "nbformat_minor": 2
}

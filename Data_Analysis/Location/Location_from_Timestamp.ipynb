{
 "cells": [
  {
   "cell_type": "code",
   "execution_count": 41,
   "metadata": {},
   "outputs": [],
   "source": [
    "# import raadpy as rp\n",
    "import numpy as np\n",
    "import pandas as pd\n",
    "from astropy.time import Time\n",
    "\n",
    "import raadpy as rp"
   ]
  },
  {
   "cell_type": "code",
   "execution_count": 42,
   "metadata": {},
   "outputs": [
    {
     "data": {
      "text/html": [
       "<div>\n",
       "<style scoped>\n",
       "    .dataframe tbody tr th:only-of-type {\n",
       "        vertical-align: middle;\n",
       "    }\n",
       "\n",
       "    .dataframe tbody tr th {\n",
       "        vertical-align: top;\n",
       "    }\n",
       "\n",
       "    .dataframe thead th {\n",
       "        text-align: right;\n",
       "    }\n",
       "</style>\n",
       "<table border=\"1\" class=\"dataframe\">\n",
       "  <thead>\n",
       "    <tr style=\"text-align: right;\">\n",
       "      <th></th>\n",
       "      <th>Time (ModJDate)</th>\n",
       "      <th>Lat (deg)</th>\n",
       "      <th>Lon (deg)</th>\n",
       "      <th>Alt (km)</th>\n",
       "    </tr>\n",
       "  </thead>\n",
       "  <tbody>\n",
       "    <tr>\n",
       "      <th>0</th>\n",
       "      <td>59670.000000</td>\n",
       "      <td>41.659</td>\n",
       "      <td>-146.891</td>\n",
       "      <td>413.443984</td>\n",
       "    </tr>\n",
       "    <tr>\n",
       "      <th>1</th>\n",
       "      <td>59670.000012</td>\n",
       "      <td>41.695</td>\n",
       "      <td>-146.823</td>\n",
       "      <td>413.456363</td>\n",
       "    </tr>\n",
       "    <tr>\n",
       "      <th>2</th>\n",
       "      <td>59670.000023</td>\n",
       "      <td>41.731</td>\n",
       "      <td>-146.756</td>\n",
       "      <td>413.468733</td>\n",
       "    </tr>\n",
       "    <tr>\n",
       "      <th>3</th>\n",
       "      <td>59670.000035</td>\n",
       "      <td>41.768</td>\n",
       "      <td>-146.688</td>\n",
       "      <td>413.481094</td>\n",
       "    </tr>\n",
       "    <tr>\n",
       "      <th>4</th>\n",
       "      <td>59670.000046</td>\n",
       "      <td>41.804</td>\n",
       "      <td>-146.620</td>\n",
       "      <td>413.493445</td>\n",
       "    </tr>\n",
       "    <tr>\n",
       "      <th>...</th>\n",
       "      <td>...</td>\n",
       "      <td>...</td>\n",
       "      <td>...</td>\n",
       "      <td>...</td>\n",
       "    </tr>\n",
       "    <tr>\n",
       "      <th>2591996</th>\n",
       "      <td>59699.999954</td>\n",
       "      <td>-46.030</td>\n",
       "      <td>-65.185</td>\n",
       "      <td>417.114124</td>\n",
       "    </tr>\n",
       "    <tr>\n",
       "      <th>2591997</th>\n",
       "      <td>59699.999965</td>\n",
       "      <td>-46.001</td>\n",
       "      <td>-65.106</td>\n",
       "      <td>417.094757</td>\n",
       "    </tr>\n",
       "    <tr>\n",
       "      <th>2591998</th>\n",
       "      <td>59699.999977</td>\n",
       "      <td>-45.972</td>\n",
       "      <td>-65.028</td>\n",
       "      <td>417.075361</td>\n",
       "    </tr>\n",
       "    <tr>\n",
       "      <th>2591999</th>\n",
       "      <td>59699.999988</td>\n",
       "      <td>-45.942</td>\n",
       "      <td>-64.949</td>\n",
       "      <td>417.055938</td>\n",
       "    </tr>\n",
       "    <tr>\n",
       "      <th>2592000</th>\n",
       "      <td>59700.000000</td>\n",
       "      <td>-45.913</td>\n",
       "      <td>-64.871</td>\n",
       "      <td>417.036486</td>\n",
       "    </tr>\n",
       "  </tbody>\n",
       "</table>\n",
       "<p>2592001 rows × 4 columns</p>\n",
       "</div>"
      ],
      "text/plain": [
       "         Time (ModJDate)  Lat (deg)  Lon (deg)    Alt (km)\n",
       "0           59670.000000     41.659   -146.891  413.443984\n",
       "1           59670.000012     41.695   -146.823  413.456363\n",
       "2           59670.000023     41.731   -146.756  413.468733\n",
       "3           59670.000035     41.768   -146.688  413.481094\n",
       "4           59670.000046     41.804   -146.620  413.493445\n",
       "...                  ...        ...        ...         ...\n",
       "2591996     59699.999954    -46.030    -65.185  417.114124\n",
       "2591997     59699.999965    -46.001    -65.106  417.094757\n",
       "2591998     59699.999977    -45.972    -65.028  417.075361\n",
       "2591999     59699.999988    -45.942    -64.949  417.055938\n",
       "2592000     59700.000000    -45.913    -64.871  417.036486\n",
       "\n",
       "[2592001 rows x 4 columns]"
      ]
     },
     "execution_count": 42,
     "metadata": {},
     "output_type": "execute_result"
    }
   ],
   "source": [
    "LocationFile = '../../Data/Location/LIGHT-1_LLA_April.csv'\n",
    "LLATData = pd.read_csv(LocationFile)\n",
    "\n",
    "\n",
    "\n",
    "pd.options.display.max_rows = 20\n",
    "\n",
    "LLATData"
   ]
  },
  {
   "cell_type": "code",
   "execution_count": 54,
   "metadata": {},
   "outputs": [
    {
     "name": "stdout",
     "output_type": "stream",
     "text": [
      "Time (ModJDate)    59670.000012\n",
      "Lat (deg)             41.695000\n",
      "Lon (deg)           -146.823000\n",
      "Alt (km)             413.456363\n",
      "Name: 1, dtype: float64 \n",
      "\n",
      " Time (ModJDate)    59670.000000\n",
      "Lat (deg)             41.659000\n",
      "Lon (deg)           -146.891000\n",
      "Alt (km)             413.443984\n",
      "Name: 0, dtype: float64\n"
     ]
    },
    {
     "data": {
      "text/plain": [
       "59670.00001157"
      ]
     },
     "execution_count": 54,
     "metadata": {},
     "output_type": "execute_result"
    }
   ],
   "source": [
    "# GivenTimestamp = E.get_mjd()\n",
    "GivenTimestamp = 59670.000006\n",
    "\n",
    "TData = LLATData[\"Time (ModJDate)\"]\n",
    "\n",
    "OneTime1 = True\n",
    "\n",
    "for i in range(len(TData)):\n",
    "    # if TData[i] <= GivenTimestamp:\n",
    "    #     MaximumData = LLATData.T[i]\n",
    "    \n",
    "    if TData[i] >= GivenTimestamp and OneTime1 == True:\n",
    "        MaximumData = LLATData.T[i]\n",
    "        MinimumData = LLATData.T[i-1]\n",
    "        OneTime1 = False\n",
    "\n",
    "if MaximumData[0] == GivenTimestamp or MinimumData[0] == GivenTimestamp:\n",
    "    MinimumData = MaximumData\n",
    "\n",
    "print(MaximumData,'\\n\\n',MinimumData)\n",
    "\n",
    "MaximumData[0]"
   ]
  },
  {
   "cell_type": "code",
   "execution_count": 72,
   "metadata": {},
   "outputs": [
    {
     "name": "stdout",
     "output_type": "stream",
     "text": [
      "-146.8557363821078\n",
      "-146.8557363821078\n"
     ]
    }
   ],
   "source": [
    "# def MiddlePoint(initial, final):\n",
    "#     gradient = \n",
    "\n",
    "longitude = MinimumData[2]+((MaximumData[2]-MinimumData[2])*((GivenTimestamp-MinimumData[0])/(MaximumData[0]-MinimumData[0])))\n",
    "print(longitude)\n",
    "\n",
    "TimeRange = [MinimumData[0], MaximumData[0]]\n",
    "LongRange = [MinimumData[2], MaximumData[2]]\n",
    "longitude2 = np.interp(GivenTimestamp, TimeRange, LongRange)\n",
    "print(longitude2)"
   ]
  },
  {
   "cell_type": "code",
   "execution_count": null,
   "metadata": {},
   "outputs": [],
   "source": []
  },
  {
   "cell_type": "code",
   "execution_count": 58,
   "metadata": {},
   "outputs": [
    {
     "data": {
      "text/plain": [
       "6.000002031214535e-06"
      ]
     },
     "execution_count": 58,
     "metadata": {},
     "output_type": "execute_result"
    }
   ],
   "source": [
    "GivenTimestamp-MinimumData[0]"
   ]
  },
  {
   "cell_type": "code",
   "execution_count": null,
   "metadata": {},
   "outputs": [],
   "source": [
    "time = E.get_mjd()\n",
    "\n",
    "def f(EV:rp.event):\n",
    "    time = EV.get_mjd()"
   ]
  },
  {
   "cell_type": "code",
   "execution_count": null,
   "metadata": {},
   "outputs": [],
   "source": [
    "def g(a):\n",
    "    return a+2"
   ]
  },
  {
   "cell_type": "code",
   "execution_count": null,
   "metadata": {},
   "outputs": [],
   "source": []
  }
 ],
 "metadata": {
  "kernelspec": {
   "display_name": "Python 3.9.7 ('base')",
   "language": "python",
   "name": "python3"
  },
  "language_info": {
   "codemirror_mode": {
    "name": "ipython",
    "version": 3
   },
   "file_extension": ".py",
   "mimetype": "text/x-python",
   "name": "python",
   "nbconvert_exporter": "python",
   "pygments_lexer": "ipython3",
   "version": "3.10.2"
  },
  "orig_nbformat": 4,
  "vscode": {
   "interpreter": {
    "hash": "3361b699532a8e81d21f8a9ec5a617dbbd09ee2434e5921209b8f81e74f96411"
   }
  }
 },
 "nbformat": 4,
 "nbformat_minor": 2
}

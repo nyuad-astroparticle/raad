{
 "cells": [
  {
   "cell_type": "markdown",
   "id": "474164d2",
   "metadata": {},
   "source": [
    "# Map Display\n",
    "\n",
    "Here we provide an example of how to use our python library `raadpy` to display TGFs form *fermi* or *light-1* and correlate them with publically available data on lightning strikes from [https://www.blitzortung.org/](https://www.blitzortung.org/). The full code and documentation can be found on our gituhub [**nyuad-astroparticle/raad**](https://github.com/nyuad-astroparticle/raad) as well as with mock datasets that can be used to learn how to use `raadpy` for data analysis.\n",
    "\n",
    "In this document we are using data from the **Fermi** mission to get a collection of TGF (Terrestrial Gamma-Ray Flash) signals. We then load the data in `raadpy-arrays` and use the builtin function to plot. We also use the building function to collect the lightning data from the internet and correlate what lighnings happened within this time interval. "
   ]
  },
  {
   "cell_type": "code",
   "execution_count": 15,
   "id": "025c2c97",
   "metadata": {},
   "outputs": [
    {
     "name": "stdout",
     "output_type": "stream",
     "text": [
      "\u001b[93mWarning!\u001b[0m Threshold: 10.000000 s, is too small to be detected by Blitzortung! Using threshold = 6 * 60 s instead.\n",
      "\u001b[96mSearching for Lightnings between:\u001b[0m\n",
      "\t start-time: 2021-06-28 01:31:54.440\n",
      "\t end-time:   2021-06-28 01:43:54.440\n",
      "\u001b[96mFound Lightning data at: \u001b[0mhttps://www.blitzortung.org/en/archive_data.php?stations_users=0&selected_numbers=*&end_date=1624838400&end_time=6234&start_date=1624838400&start_time=5514&rawdata_image=0&north=90&west=-180&east=180&south=-90&map=0&width_orig=640&width_result=640&agespan=60&frames=12&delay=100&last_delay=1000&show_result=1\n",
      "\u001b[96mData Downloaded Successfully\u001b[0m\n",
      "    0 Lightning: -79.891498 | Mission: Blitzurtong\n",
      "        Timestamp (ISO): 2021-06-28 01:37:54.938\n",
      "        Lat:   14.9226 \t Long:  -79.8915\n",
      "        Detector_id: Blitz\n",
      "        \n",
      "    1 Lightning: -90.06834 | Mission: Blitzurtong\n",
      "        Timestamp (ISO): 2021-06-28 01:37:53.891\n",
      "        Lat:   33.1204 \t Long:  -90.0683\n",
      "        Detector_id: Blitz\n",
      "        \n",
      "    2 Lightning: -90.026664 | Mission: Blitzurtong\n",
      "        Timestamp (ISO): 2021-06-28 01:37:53.892\n",
      "        Lat:   33.2297 \t Long:  -90.0267\n",
      "        Detector_id: Blitz\n",
      "        \n",
      "    3 Lightning: -90.245875 | Mission: Blitzurtong\n",
      "        Timestamp (ISO): 2021-06-28 01:37:54.287\n",
      "        Lat:   21.2897 \t Long:  -90.2459\n",
      "        Detector_id: Blitz\n",
      "        \n",
      "    4 Lightning: -79.895168 | Mission: Blitzurtong\n",
      "        Timestamp (ISO): 2021-06-28 01:37:54.938\n",
      "        Lat:   14.9215 \t Long:  -79.8952\n",
      "        Detector_id: Blitz\n",
      "        \n",
      "    5 Lightning: -93.797868 | Mission: Blitzurtong\n",
      "        Timestamp (ISO): 2021-06-28 01:37:55.242\n",
      "        Lat:   35.4030 \t Long:  -93.7979\n",
      "        Detector_id: Blitz\n",
      "        \n",
      "    6 Lightning: -93.813384 | Mission: Blitzurtong\n",
      "        Timestamp (ISO): 2021-06-28 01:37:55.242\n",
      "        Lat:   35.4195 \t Long:  -93.8134\n",
      "        Detector_id: Blitz\n",
      "        \n",
      "    7 Lightning: -93.814553 | Mission: Blitzurtong\n",
      "        Timestamp (ISO): 2021-06-28 01:37:55.356\n",
      "        Lat:   35.5046 \t Long:  -93.8146\n",
      "        Detector_id: Blitz\n",
      "        \n",
      "\n",
      "[-0.498408370648562, 0.5482131904049226, 0.5481736129148373, 0.1525997584678862, -0.4984076553967043, -0.8023183876598949, -0.8023253017995557, -0.9163008267023542]\n"
     ]
    },
    {
     "data": {},
     "metadata": {},
     "output_type": "display_data"
    },
    {
     "data": {
      "application/vnd.holoviews_exec.v0+json": "",
      "text/html": [
       "<div id='2306'>\n",
       "\n",
       "\n",
       "\n",
       "\n",
       "\n",
       "  <div class=\"bk-root\" id=\"1e2e1e98-a789-4f87-af3a-96b9236efb04\" data-root-id=\"2306\"></div>\n",
       "</div>\n",
       "<script type=\"application/javascript\">(function(root) {\n",
       "  function embed_document(root) {\n",
       "    var docs_json = {\"c1c70665-9a8e-45fe-bd24-04d0a80229a7\":{\"defs\":[{\"extends\":null,\"module\":null,\"name\":\"ReactiveHTML1\",\"overrides\":[],\"properties\":[]},{\"extends\":null,\"module\":null,\"name\":\"FlexBox1\",\"overrides\":[],\"properties\":[{\"default\":\"flex-start\",\"kind\":null,\"name\":\"align_content\"},{\"default\":\"flex-start\",\"kind\":null,\"name\":\"align_items\"},{\"default\":\"row\",\"kind\":null,\"name\":\"flex_direction\"},{\"default\":\"wrap\",\"kind\":null,\"name\":\"flex_wrap\"},{\"default\":\"flex-start\",\"kind\":null,\"name\":\"justify_content\"}]},{\"extends\":null,\"module\":null,\"name\":\"TemplateActions1\",\"overrides\":[],\"properties\":[{\"default\":0,\"kind\":null,\"name\":\"open_modal\"},{\"default\":0,\"kind\":null,\"name\":\"close_modal\"}]},{\"extends\":null,\"module\":null,\"name\":\"MaterialTemplateActions1\",\"overrides\":[],\"properties\":[{\"default\":0,\"kind\":null,\"name\":\"open_modal\"},{\"default\":0,\"kind\":null,\"name\":\"close_modal\"}]}],\"roots\":{\"references\":[{\"attributes\":{\"fill_alpha\":{\"value\":0.2},\"fill_color\":{\"value\":\"red\"},\"hatch_alpha\":{\"value\":0.2},\"hatch_color\":{\"value\":\"red\"},\"line_alpha\":{\"value\":0.2},\"line_color\":{\"value\":\"red\"},\"marker\":{\"value\":\"cross\"},\"size\":{\"value\":7},\"x\":{\"field\":\"Longitude\"},\"y\":{\"field\":\"Latitude\"}},\"id\":\"2405\",\"type\":\"Scatter\"},{\"attributes\":{\"attribution\":\"&copy; <a href=\\\"https://www.openstreetmap.org/copyright\\\">OpenStreetMap</a> contributors\",\"url\":\"https://c.tile.openstreetmap.org/{Z}/{X}/{Y}.png\"},\"id\":\"2393\",\"type\":\"WMTSTileSource\"},{\"attributes\":{\"end\":20037508.342789244,\"min_interval\":5,\"reset_end\":20037508.342789244,\"reset_start\":-20037508.342789244,\"start\":-20037508.342789244,\"tags\":[[[\"Longitude\",\"Longitude\",null]]]},\"id\":\"2318\",\"type\":\"Range1d\"},{\"attributes\":{\"coordinates\":null,\"group\":null,\"text_color\":\"black\",\"text_font_size\":\"12pt\"},\"id\":\"2331\",\"type\":\"Title\"},{\"attributes\":{},\"id\":\"2365\",\"type\":\"AllLabels\"},{\"attributes\":{},\"id\":\"2335\",\"type\":\"LinearScale\"},{\"attributes\":{\"coordinates\":null,\"data_source\":{\"id\":\"2384\"},\"glyph\":{\"id\":\"2387\"},\"group\":null,\"hover_glyph\":null,\"muted_glyph\":{\"id\":\"2389\"},\"nonselection_glyph\":{\"id\":\"2388\"},\"selection_glyph\":{\"id\":\"2392\"},\"view\":{\"id\":\"2391\"}},\"id\":\"2390\",\"type\":\"GlyphRenderer\"},{\"attributes\":{\"axis\":{\"id\":\"2339\"},\"coordinates\":null,\"grid_line_color\":null,\"group\":null,\"ticker\":null},\"id\":\"2342\",\"type\":\"Grid\"},{\"attributes\":{\"fill_color\":{\"value\":\"red\"},\"hatch_color\":{\"value\":\"red\"},\"line_color\":{\"value\":\"red\"},\"marker\":{\"value\":\"cross\"},\"size\":{\"value\":7},\"x\":{\"field\":\"Longitude\"},\"y\":{\"field\":\"Latitude\"}},\"id\":\"2403\",\"type\":\"Scatter\"},{\"attributes\":{\"fill_alpha\":{\"value\":0.2},\"fill_color\":{\"value\":\"Blue\"},\"hatch_alpha\":{\"value\":0.2},\"hatch_color\":{\"value\":\"Blue\"},\"line_alpha\":{\"value\":0.2},\"line_color\":{\"value\":\"Blue\"},\"marker\":{\"value\":\"cross\"},\"size\":{\"value\":7},\"x\":{\"field\":\"Longitude\"},\"y\":{\"field\":\"Latitude\"}},\"id\":\"2389\",\"type\":\"Scatter\"},{\"attributes\":{},\"id\":\"2348\",\"type\":\"PanTool\"},{\"attributes\":{\"data\":{\"Latitude\":{\"__ndarray__\":\"dQ1XVpajOUF2x2ilQtdNQerEHZSn801BS74bsimDQkGkUU1LHqM5QVVRYzbmF1BBE5HAUxwaUEFQZgEvdiVQQQ==\",\"dtype\":\"float64\",\"order\":\"little\",\"shape\":[8]},\"Longitude\":{\"__ndarray__\":\"38cIHIX2YMGbR9o3rx9jwRoVnkxrHWPBD/o8m1UpY8FIMmUtuPZgwXV251xn6mPBeP5dRD/rY8EaT5uIT+tjwQ==\",\"dtype\":\"float64\",\"order\":\"little\",\"shape\":[8]}},\"selected\":{\"id\":\"2401\"},\"selection_policy\":{\"id\":\"2414\"}},\"id\":\"2400\",\"type\":\"ColumnDataSource\"},{\"attributes\":{},\"id\":\"2349\",\"type\":\"ResetTool\"},{\"attributes\":{\"fill_color\":{\"value\":\"Blue\"},\"hatch_color\":{\"value\":\"Blue\"},\"line_color\":{\"value\":\"Blue\"},\"marker\":{\"value\":\"cross\"},\"size\":{\"value\":7},\"x\":{\"field\":\"Longitude\"},\"y\":{\"field\":\"Latitude\"}},\"id\":\"2387\",\"type\":\"Scatter\"},{\"attributes\":{\"angle\":{\"value\":0.0},\"fill_alpha\":{\"value\":1.0},\"fill_color\":{\"value\":\"Blue\"},\"hatch_alpha\":{\"value\":1.0},\"hatch_color\":{\"value\":\"Blue\"},\"hatch_scale\":{\"value\":12.0},\"hatch_weight\":{\"value\":1.0},\"line_alpha\":{\"value\":1.0},\"line_cap\":{\"value\":\"butt\"},\"line_color\":{\"value\":\"Blue\"},\"line_dash\":{\"value\":[]},\"line_dash_offset\":{\"value\":0},\"line_join\":{\"value\":\"bevel\"},\"line_width\":{\"value\":1},\"marker\":{\"value\":\"cross\"},\"size\":{\"value\":7},\"x\":{\"field\":\"Longitude\"},\"y\":{\"field\":\"Latitude\"}},\"id\":\"2392\",\"type\":\"Scatter\"},{\"attributes\":{\"axis_label\":\"Latitude\",\"coordinates\":null,\"formatter\":{\"id\":\"2362\"},\"group\":null,\"major_label_policy\":{\"id\":\"2372\"},\"ticker\":{\"id\":\"2361\"}},\"id\":\"2343\",\"type\":\"LinearAxis\"},{\"attributes\":{\"fill_alpha\":{\"value\":0.1},\"fill_color\":{\"value\":\"red\"},\"hatch_alpha\":{\"value\":0.1},\"hatch_color\":{\"value\":\"red\"},\"line_alpha\":{\"value\":0.1},\"line_color\":{\"value\":\"red\"},\"marker\":{\"value\":\"cross\"},\"size\":{\"value\":7},\"x\":{\"field\":\"Longitude\"},\"y\":{\"field\":\"Latitude\"}},\"id\":\"2404\",\"type\":\"Scatter\"},{\"attributes\":{\"fill_alpha\":{\"value\":0.1},\"fill_color\":{\"value\":\"Blue\"},\"hatch_alpha\":{\"value\":0.1},\"hatch_color\":{\"value\":\"Blue\"},\"line_alpha\":{\"value\":0.1},\"line_color\":{\"value\":\"Blue\"},\"marker\":{\"value\":\"cross\"},\"size\":{\"value\":7},\"x\":{\"field\":\"Longitude\"},\"y\":{\"field\":\"Latitude\"}},\"id\":\"2388\",\"type\":\"Scatter\"},{\"attributes\":{},\"id\":\"2401\",\"type\":\"Selection\"},{\"attributes\":{\"below\":[{\"id\":\"2339\"}],\"center\":[{\"id\":\"2342\"},{\"id\":\"2346\"}],\"height\":900,\"left\":[{\"id\":\"2343\"}],\"margin\":[5,5,5,5],\"min_border_bottom\":10,\"min_border_left\":10,\"min_border_right\":10,\"min_border_top\":10,\"renderers\":[{\"id\":\"2380\"},{\"id\":\"2390\"},{\"id\":\"2396\"},{\"id\":\"2406\"}],\"sizing_mode\":\"fixed\",\"title\":{\"id\":\"2331\"},\"toolbar\":{\"id\":\"2351\"},\"width\":1300,\"x_range\":{\"id\":\"2318\"},\"x_scale\":{\"id\":\"2335\"},\"y_range\":{\"id\":\"2319\"},\"y_scale\":{\"id\":\"2337\"}},\"id\":\"2330\",\"subtype\":\"Figure\",\"type\":\"Plot\"},{\"attributes\":{\"coordinates\":null,\"group\":null,\"level\":\"underlay\",\"tile_source\":{\"id\":\"2393\"}},\"id\":\"2396\",\"type\":\"TileRenderer\"},{\"attributes\":{\"axis\":{\"id\":\"2343\"},\"coordinates\":null,\"dimension\":1,\"grid_line_color\":null,\"group\":null,\"ticker\":null},\"id\":\"2346\",\"type\":\"Grid\"},{\"attributes\":{\"coordinates\":null,\"group\":null,\"level\":\"underlay\",\"tile_source\":{\"id\":\"2377\"}},\"id\":\"2380\",\"type\":\"TileRenderer\"},{\"attributes\":{},\"id\":\"2412\",\"type\":\"UnionRenderers\"},{\"attributes\":{\"bottom_units\":\"screen\",\"coordinates\":null,\"fill_alpha\":0.5,\"fill_color\":\"lightgrey\",\"group\":null,\"left_units\":\"screen\",\"level\":\"overlay\",\"line_alpha\":1.0,\"line_color\":\"black\",\"line_dash\":[4,4],\"line_width\":2,\"right_units\":\"screen\",\"syncable\":false,\"top_units\":\"screen\"},\"id\":\"2350\",\"type\":\"BoxAnnotation\"},{\"attributes\":{\"angle\":{\"value\":0.0},\"fill_alpha\":{\"value\":1.0},\"fill_color\":{\"value\":\"red\"},\"hatch_alpha\":{\"value\":1.0},\"hatch_color\":{\"value\":\"red\"},\"hatch_scale\":{\"value\":12.0},\"hatch_weight\":{\"value\":1.0},\"line_alpha\":{\"value\":1.0},\"line_cap\":{\"value\":\"butt\"},\"line_color\":{\"value\":\"red\"},\"line_dash\":{\"value\":[]},\"line_dash_offset\":{\"value\":0},\"line_join\":{\"value\":\"bevel\"},\"line_width\":{\"value\":1},\"marker\":{\"value\":\"cross\"},\"size\":{\"value\":7},\"x\":{\"field\":\"Longitude\"},\"y\":{\"field\":\"Latitude\"}},\"id\":\"2408\",\"type\":\"Scatter\"},{\"attributes\":{\"dimension\":\"lon\"},\"id\":\"2360\",\"type\":\"MercatorTickFormatter\"},{\"attributes\":{\"source\":{\"id\":\"2384\"}},\"id\":\"2391\",\"type\":\"CDSView\"},{\"attributes\":{\"dimension\":\"lon\"},\"id\":\"2359\",\"type\":\"MercatorTicker\"},{\"attributes\":{\"axis_label\":\"Longitude\",\"coordinates\":null,\"formatter\":{\"id\":\"2360\"},\"group\":null,\"major_label_policy\":{\"id\":\"2365\"},\"ticker\":{\"id\":\"2359\"}},\"id\":\"2339\",\"type\":\"LinearAxis\"},{\"attributes\":{\"attribution\":\"&copy; <a href=\\\"https://www.openstreetmap.org/copyright\\\">OpenStreetMap</a> contributors\",\"url\":\"https://c.tile.openstreetmap.org/{Z}/{X}/{Y}.png\"},\"id\":\"2377\",\"type\":\"WMTSTileSource\"},{\"attributes\":{\"tools\":[{\"id\":\"2320\"},{\"id\":\"2321\"},{\"id\":\"2348\"},{\"id\":\"2349\"}]},\"id\":\"2351\",\"type\":\"Toolbar\"},{\"attributes\":{},\"id\":\"2337\",\"type\":\"LinearScale\"},{\"attributes\":{\"dimension\":\"lat\"},\"id\":\"2361\",\"type\":\"MercatorTicker\"},{\"attributes\":{\"match_aspect\":true,\"overlay\":{\"id\":\"2350\"}},\"id\":\"2321\",\"type\":\"BoxZoomTool\"},{\"attributes\":{\"margin\":[5,5,5,5],\"name\":\"HSpacer09825\",\"sizing_mode\":\"stretch_width\"},\"id\":\"2481\",\"type\":\"Spacer\"},{\"attributes\":{\"end\":20037508.342789248,\"min_interval\":5,\"reset_end\":20037508.342789248,\"reset_start\":-20037508.342789248,\"start\":-20037508.342789248,\"tags\":[[[\"Latitude\",\"Latitude\",null]]]},\"id\":\"2319\",\"type\":\"Range1d\"},{\"attributes\":{},\"id\":\"2385\",\"type\":\"Selection\"},{\"attributes\":{\"zoom_on_axis\":false},\"id\":\"2320\",\"type\":\"WheelZoomTool\"},{\"attributes\":{\"coordinates\":null,\"data_source\":{\"id\":\"2400\"},\"glyph\":{\"id\":\"2403\"},\"group\":null,\"hover_glyph\":null,\"muted_glyph\":{\"id\":\"2405\"},\"nonselection_glyph\":{\"id\":\"2404\"},\"selection_glyph\":{\"id\":\"2408\"},\"view\":{\"id\":\"2407\"}},\"id\":\"2406\",\"type\":\"GlyphRenderer\"},{\"attributes\":{},\"id\":\"2372\",\"type\":\"AllLabels\"},{\"attributes\":{\"dimension\":\"lat\"},\"id\":\"2362\",\"type\":\"MercatorTickFormatter\"},{\"attributes\":{},\"id\":\"2414\",\"type\":\"UnionRenderers\"},{\"attributes\":{\"margin\":[5,5,5,5],\"name\":\"HSpacer09824\",\"sizing_mode\":\"stretch_width\"},\"id\":\"2307\",\"type\":\"Spacer\"},{\"attributes\":{\"children\":[{\"id\":\"2307\"},{\"id\":\"2330\"},{\"id\":\"2481\"}],\"margin\":[0,0,0,0],\"name\":\"Row09820\",\"tags\":[\"embedded\"]},\"id\":\"2306\",\"type\":\"Row\"},{\"attributes\":{\"data\":{\"Latitude\":{\"__ndarray__\":\"7vWZRRRGNkE=\",\"dtype\":\"float64\",\"order\":\"little\",\"shape\":[1]},\"Longitude\":{\"__ndarray__\":\"mozTiQueYsE=\",\"dtype\":\"float64\",\"order\":\"little\",\"shape\":[1]}},\"selected\":{\"id\":\"2385\"},\"selection_policy\":{\"id\":\"2412\"}},\"id\":\"2384\",\"type\":\"ColumnDataSource\"},{\"attributes\":{\"source\":{\"id\":\"2400\"}},\"id\":\"2407\",\"type\":\"CDSView\"}],\"root_ids\":[\"2306\"]},\"title\":\"Bokeh Application\",\"version\":\"2.4.2\"}};\n",
       "    var render_items = [{\"docid\":\"c1c70665-9a8e-45fe-bd24-04d0a80229a7\",\"root_ids\":[\"2306\"],\"roots\":{\"2306\":\"1e2e1e98-a789-4f87-af3a-96b9236efb04\"}}];\n",
       "    root.Bokeh.embed.embed_items_notebook(docs_json, render_items);\n",
       "  }\n",
       "  if (root.Bokeh !== undefined && root.Bokeh.Panel !== undefined) {\n",
       "    embed_document(root);\n",
       "  } else {\n",
       "    var attempts = 0;\n",
       "    var timer = setInterval(function(root) {\n",
       "      if (root.Bokeh !== undefined && root.Bokeh.Panel !== undefined) {\n",
       "        clearInterval(timer);\n",
       "        embed_document(root);\n",
       "      } else if (document.readyState == \"complete\") {\n",
       "        attempts++;\n",
       "        if (attempts > 200) {\n",
       "          clearInterval(timer);\n",
       "          console.log(\"Bokeh: ERROR: Unable to run BokehJS code because BokehJS library is missing\");\n",
       "        }\n",
       "      }\n",
       "    }, 25, root)\n",
       "  }\n",
       "})(window);</script>"
      ],
      "text/plain": [
       ":Overlay\n",
       "   .WMTS.I    :WMTS   [Longitude,Latitude]\n",
       "   .Points.I  :Points   [Longitude,Latitude]\n",
       "   .WMTS.II   :WMTS   [Longitude,Latitude]\n",
       "   .Points.II :Points   [Longitude,Latitude]"
      ]
     },
     "execution_count": 15,
     "metadata": {
      "application/vnd.holoviews_exec.v0+json": {
       "id": "2306"
      }
     },
     "output_type": "execute_result"
    }
   ],
   "source": [
    "# Import our raad library\n",
    "import raadpy as  rp\n",
    "\n",
    "# Load the TGF DATA (either from fermi or Light-1)\n",
    "# Convert the data to our own TGF class\n",
    "tgf_filename    = \"../TGF_data_for_research/Fermi TGF Catalog/+2011-Fermi-TGF-Data_t1.txt\"\n",
    "light_filename  = \"../TGF_data_for_research/Data_from_Blitzurtong/2021-06-28.txt\" \n",
    "\n",
    "k = 0\n",
    "\n",
    "# Load the data\n",
    "tgfs    = rp.array(filename=tgf_filename,event_type='fermi')         # Load the TGF data\n",
    "lights  = rp.download_lightnings(tgfs[k].timestamp,threshold=10)\n",
    "\n",
    "# Take a random datapoint and find the closest lightning strikes\n",
    "near = rp.get_nearby_lightning(tgfs[k],lightnings=lights,threshold=1)\n",
    "\n",
    "# Create an array with the time differences between the \n",
    "# lightning strikes and the tgf\n",
    "time_difference = [tgfs[k].timestamp - light.timestamp for light in near]\n",
    "\n",
    "# Print the closest lightnings\n",
    "print(near)\n",
    "\n",
    "# Print the time difference\n",
    "print([t.sec for t in time_difference])\n",
    "\n",
    "# Plot them in a map\n",
    "rp.map(tgfs[k],near)\n"
   ]
  },
  {
   "cell_type": "code",
   "execution_count": null,
   "id": "7f7e5e40",
   "metadata": {},
   "outputs": [],
   "source": []
  },
  {
   "cell_type": "code",
   "execution_count": null,
   "id": "69ae9b3d",
   "metadata": {},
   "outputs": [],
   "source": []
  }
 ],
 "metadata": {
  "kernelspec": {
   "display_name": "Python 3 (ipykernel)",
   "language": "python",
   "name": "python3"
  },
  "language_info": {
   "codemirror_mode": {
    "name": "ipython",
    "version": 3
   },
   "file_extension": ".py",
   "mimetype": "text/x-python",
   "name": "python",
   "nbconvert_exporter": "python",
   "pygments_lexer": "ipython3",
   "version": "3.10.2"
  }
 },
 "nbformat": 4,
 "nbformat_minor": 5
}

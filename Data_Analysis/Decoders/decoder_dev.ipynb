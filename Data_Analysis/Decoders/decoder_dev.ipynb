{
 "cells": [
  {
   "cell_type": "markdown",
   "metadata": {},
   "source": [
    "# Decoder DEV\n",
    "\n",
    "This is a temporary notebook to use the interpreter to quickly develop a decoder for the data from the satellite in python. It will soon be deleted and replaced by the python scripts that do the decoding, which will also be incorporated into the raadpy library"
   ]
  },
  {
   "cell_type": "code",
   "execution_count": 123,
   "metadata": {},
   "outputs": [],
   "source": [
    "# Import necessary libraries\n",
    "import numpy as np\n",
    "import matplotlib.pyplot as plt\n",
    "import os\n",
    "\n",
    "# Define useful constants\n",
    "data_dir        = '../../Data/RAW/'        # Filename with directories\n",
    "BYTE            = 8                        # Byte length\n",
    "\n",
    "ORBIT_STRUCT    = {\n",
    "    'timestamp'     : 32,\n",
    "    'temperature'   : 8,\n",
    "    'rate0'         : 12,\n",
    "    'rate1'         : 12,\n",
    "    'rate2'         : 12,\n",
    "    'rate3'         : 12,\n",
    "    'ratev'         : 8,\n",
    "    'hv_level'      : 12,\n",
    "    'veto_level'    : 12,\n",
    "    'id_bit'        : 1,\n",
    "    'pps_active'    : 1,\n",
    "    'suspended'     : 1,\n",
    "    'power_on'      : 1,\n",
    "    'scenario'      : 4,\n",
    "}"
   ]
  },
  {
   "cell_type": "code",
   "execution_count": 124,
   "metadata": {},
   "outputs": [],
   "source": [
    "# Take the orbit buffer and analyze the data\n",
    "orbit_fname = data_dir+'/SD-915/Light1_2022-05-20_Buff1.dat'    # Filename with data\n",
    "file = open(orbit_fname,'rb')                                   # Open the file in read binary mode\n",
    "\n",
    "# Read the first 16 bytes\n",
    "# for i in range(235):\n",
    "#     entry = file.read(16)\n",
    "# # entry = file.read(16)\n",
    "# # entry = file.read(16)\n",
    "\n",
    "# file.close()\n",
    "# entry = file.read(16)\n",
    "# entry"
   ]
  },
  {
   "cell_type": "code",
   "execution_count": 125,
   "metadata": {},
   "outputs": [
    {
     "data": {
      "text/plain": [
       "b'\\x00\\x00\\x00\\x00A\\x00\\x00\\x00\\x00\\x00\\x00\\x00\\x00\\x00\\x00\\x08'"
      ]
     },
     "execution_count": 125,
     "metadata": {},
     "output_type": "execute_result"
    }
   ],
   "source": [
    "entry = file.read()[:16]\n",
    "entry "
   ]
  },
  {
   "cell_type": "code",
   "execution_count": 126,
   "metadata": {},
   "outputs": [],
   "source": [
    "# We create a function that given a bytestring extracts the ith bit:\n",
    "def get_bit(i:int,string):\n",
    "    '''\n",
    "    Gets the ith bit from a python bytestring from the left\n",
    "\n",
    "    Input:\n",
    "    i: int --> index (frist bit is 0)\n",
    "    string --> the bytestring \n",
    "    '''\n",
    "\n",
    "    # Which byte does the bit lie into?\n",
    "    byte_idx    = i//BYTE               # Integer division\n",
    "    assert(byte_idx < len(string))      # Assert that the index is in the bytestring\n",
    "    byte        = string[byte_idx]      # Get the appropriate byte\n",
    "    bit_idx     = i - byte_idx * BYTE   # Get the index within the byte\n",
    "\n",
    "    # Get the ith bit\n",
    "    return (byte & (1 << (BYTE - bit_idx - 1))) >> (BYTE - bit_idx - 1)\n",
    "\n",
    "# Helper function to give the index of the nth bit in a Bytestring\n",
    "def get_bit_idx(n:int):\n",
    "    return BYTE - 1 - n%BYTE + (n//BYTE) * BYTE\n",
    "\n",
    "# Get range of bits\n",
    "def get_bits(start:int,length:int,string):\n",
    "    '''\n",
    "    Gets length bits after and including index start\n",
    "\n",
    "    Input:\n",
    "    start:  int --> Start index included\n",
    "    length: int --> Length of bits to obtain\n",
    "    string      --> The bytestring\n",
    "    '''\n",
    "\n",
    "    # Collect the bytes and add them up\n",
    "    digit_sum = 0\n",
    "    for i in range(start,start+length):\n",
    "        digit_sum += 2**(i-start) * get_bit(get_bit_idx(i),string)\n",
    "\n",
    "    return digit_sum\n",
    "\n",
    "# Create a dictionary of orbits from a file\n",
    "def get_dict(filename:str,struct=ORBIT_STRUCT):\n",
    "    # Open the file in read binary mode\n",
    "    file = open(filename,'rb')\n",
    "\n",
    "    # Initialize the dictionary\n",
    "    data = dict(zip(struct.keys(),[np.array(list()) for _ in range(len(ORBIT_STRUCT.keys()))]))\n",
    "\n",
    "    while True:\n",
    "        # Get the next 16 bits to an event\n",
    "        event = file.read(16)\n",
    "\n",
    "        # Check if you reach EOF\n",
    "        if event == b'': break\n",
    "\n",
    "        # Keep track of the number of bits read\n",
    "        bits_read = 0\n",
    "\n",
    "        # If not create an orbit\n",
    "        for name,length in struct.items():\n",
    "            data[name] = np.append(data[name],[get_bits(bits_read,length,event)])\n",
    "            bits_read += length\n",
    "        \n",
    "    # Return the dictionary\n",
    "    return data"
   ]
  },
  {
   "cell_type": "code",
   "execution_count": 127,
   "metadata": {},
   "outputs": [
    {
     "data": {
      "text/plain": [
       "dict_keys(['timestamp', 'temperature', 'rate0', 'rate1', 'rate2', 'rate3', 'ratev', 'hv_level', 'veto_level', 'id_bit', 'pps_active', 'suspended', 'power_on', 'scenario'])"
      ]
     },
     "execution_count": 127,
     "metadata": {},
     "output_type": "execute_result"
    }
   ],
   "source": [
    "data = get_dict(orbit_fname)\n",
    "data.keys()"
   ]
  },
  {
   "cell_type": "code",
   "execution_count": 130,
   "metadata": {},
   "outputs": [
    {
     "data": {
      "text/plain": [
       "{'timestamp': array([0., 0., 0., ..., 0., 0., 0.]),\n",
       " 'temperature': array([65., 70., 66., ..., 86., 88., 86.]),\n",
       " 'rate0': array([ 0.,  0.,  0., ..., 13., 11.,  0.]),\n",
       " 'rate1': array([ 0.,  0.,  0., ..., 14., 10.,  0.]),\n",
       " 'rate2': array([ 0.,  0.,  0., ..., 15., 16.,  1.]),\n",
       " 'rate3': array([ 0.,  0.,  0., ..., 12.,  9.,  1.]),\n",
       " 'ratev': array([ 0.,  0.,  0., ..., 20., 14.,  1.]),\n",
       " 'hv_level': array([   0.,    0., 3000., ..., 3855.,    0.,    0.]),\n",
       " 'veto_level': array([   0.,    0., 1900., ..., 2319.,    0.,    0.]),\n",
       " 'id_bit': array([0., 1., 0., ..., 1., 0., 1.]),\n",
       " 'pps_active': array([0., 0., 0., ..., 0., 0., 0.]),\n",
       " 'suspended': array([0., 0., 0., ..., 1., 1., 1.]),\n",
       " 'power_on': array([1., 1., 0., ..., 0., 0., 0.]),\n",
       " 'scenario': array([ 0.,  0.,  3., ..., 12., 12., 12.])}"
      ]
     },
     "execution_count": 130,
     "metadata": {},
     "output_type": "execute_result"
    }
   ],
   "source": [
    "data"
   ]
  },
  {
   "cell_type": "code",
   "execution_count": 1,
   "metadata": {},
   "outputs": [
    {
     "data": {
      "text/plain": [
       "7880"
      ]
     },
     "execution_count": 1,
     "metadata": {},
     "output_type": "execute_result"
    }
   ],
   "source": [
    "int('0000000000000000000000000001111011001000',2)"
   ]
  },
  {
   "cell_type": "code",
   "execution_count": 7,
   "metadata": {},
   "outputs": [
    {
     "data": {
      "text/plain": [
       "'0b111100100111000000000000000000000000'"
      ]
     },
     "execution_count": 7,
     "metadata": {},
     "output_type": "execute_result"
    }
   ],
   "source": [
    "bin(859496775680)\n",
    "bin(65078820864)"
   ]
  },
  {
   "cell_type": "code",
   "execution_count": 3,
   "metadata": {},
   "outputs": [
    {
     "data": {
      "text/plain": [
       "5486280704"
      ]
     },
     "execution_count": 3,
     "metadata": {},
     "output_type": "execute_result"
    }
   ],
   "source": [
    "int('0000000101000111000000100000000000000000',2)"
   ]
  },
  {
   "cell_type": "code",
   "execution_count": 8,
   "metadata": {},
   "outputs": [
    {
     "ename": "SyntaxError",
     "evalue": "leading zeros in decimal integer literals are not permitted; use an 0o prefix for octal integers (1388446476.py, line 3)",
     "output_type": "error",
     "traceback": [
      "\u001b[0;36m  Input \u001b[0;32mIn [8]\u001b[0;36m\u001b[0m\n\u001b[0;31m    11001000 00011110 00000000 00000000 00000000\u001b[0m\n\u001b[0m             ^\u001b[0m\n\u001b[0;31mSyntaxError\u001b[0m\u001b[0;31m:\u001b[0m leading zeros in decimal integer literals are not permitted; use an 0o prefix for octal integers\n"
     ]
    }
   ],
   "source": [
    "859496775680\n",
    "5486280704\n",
    "11001000 00011110 00000000 00000000 00000000\n",
    "10011000 00100001 00000000 00000000 00000000\n",
    "00001111 00100111 00000000 00000000 00000000"
   ]
  },
  {
   "cell_type": "code",
   "execution_count": 9,
   "metadata": {},
   "outputs": [
    {
     "data": {
      "text/plain": [
       "'0b1000111000000'"
      ]
     },
     "execution_count": 9,
     "metadata": {},
     "output_type": "execute_result"
    }
   ],
   "source": [
    "bin(859496775680)"
   ]
  },
  {
   "cell_type": "code",
   "execution_count": null,
   "metadata": {},
   "outputs": [],
   "source": [
    "01000111 000000"
   ]
  }
 ],
 "metadata": {
  "kernelspec": {
   "display_name": "Python 3.10.4 ('RAAD')",
   "language": "python",
   "name": "python3"
  },
  "language_info": {
   "codemirror_mode": {
    "name": "ipython",
    "version": 3
   },
   "file_extension": ".py",
   "mimetype": "text/x-python",
   "name": "python",
   "nbconvert_exporter": "python",
   "pygments_lexer": "ipython3",
   "version": "3.10.4"
  },
  "orig_nbformat": 4,
  "vscode": {
   "interpreter": {
    "hash": "3fd2e6389a0fd7c635319bf7383768acfaf026bf5f56a6bed54341f1b15812d5"
   }
  }
 },
 "nbformat": 4,
 "nbformat_minor": 2
}

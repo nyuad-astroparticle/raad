{
 "cells": [
  {
   "cell_type": "markdown",
   "metadata": {},
   "source": [
    "# Download all the Cubesat data\n",
    "\n",
    "Using ONLY sequence numbers because NA is only providing us with a sequence number (yey?)"
   ]
  },
  {
   "cell_type": "code",
   "execution_count": 1,
   "metadata": {},
   "outputs": [],
   "source": [
    "# Import libraries\n",
    "import raadpy as rp\n",
    "import numpy as np\n",
    "import matplotlib.pyplot as plt\n",
    "from tqdm.notebook import tqdm"
   ]
  },
  {
   "cell_type": "code",
   "execution_count": 4,
   "metadata": {},
   "outputs": [],
   "source": [
    "# Download based on sequence number\n",
    "def download_seq_nr(fileName:str,start:int=-1,end:int=None,MAX:int=5000):\n",
    "    # Input processing\n",
    "    if end is None: end = float('inf')\n",
    "    \n",
    "    # Sequence number and other stuff init\n",
    "    seq         = start\n",
    "    host        = \"https://light1.mcs.nanoavionics.com\"\n",
    "    url         = f'{host}/{fileName}_download?'\n",
    "    \n",
    "    # Initialize array to hold the buffer raw data\n",
    "    data        = [] \n",
    "\n",
    "    # Do unless interrupted\n",
    "    while seq < end:\n",
    "        # Find the query for NA Server\n",
    "        query       = f'seq_nr=gt.{seq}&seq_nr=lte.{seq+MAX}'\n",
    "        new_data    = rp.download_range(url+query,token=rp.TOKEN,limit=-1)\n",
    "        \n",
    "        # Update variables\n",
    "        data        = data + new_data\n",
    "        seq         = seq + MAX\n",
    "\n",
    "        # Exit condition with searching one last time\n",
    "        if len(new_data) == 0:\n",
    "            data = rp.sort(data)    # Sort by \"entry_nr\"\n",
    "            break\n",
    "\n",
    "    return data\n",
    "\n",
    "# Download script packet\n",
    "def download_data(filepath:str='./',buffers=range(1,8),MAX:int=5000):\n",
    "    # List that holds all the filenames\n",
    "    filenames = []\n",
    "\n",
    "    # First go ahead and download all the buffers\n",
    "    for buffer in tqdm(buffers,desc='Downloading Buffer'):\n",
    "        # Download the data of the buffer\n",
    "        fileName    = \"pc_buff\"+str(buffer)\n",
    "        data        = download_seq_nr(fileName,MAX=MAX)\n",
    "\n",
    "        # Save the data of the buffer\n",
    "        fname   = rp.save_raw_data(data,filepath=filepath,buffer=buffer)\n",
    "        filenames.append(fname)\n",
    "\n",
    "    # Download the script log\n",
    "    log         = download_seq_nr('pc_se0_log')\n",
    "    log         = rp.log_to_ascii(log,fileName=filepath+'light1-se-log.txt')\n",
    "    decoded_log = rp.log_expand(text=log)\n",
    "\n",
    "    # Extract the metadata from the logfile\n",
    "    metadata = rp.log_metadata(decoded_log=decoded_log)\n",
    "\n",
    "    # Save the datafile as a json on the same directory\n",
    "    with open(filepath + \"metadata.json\",\"w\") as meta_file: rp.json.dump(metadata,meta_file,indent=4)\n",
    "\n",
    "    return metadata"
   ]
  },
  {
   "cell_type": "code",
   "execution_count": 5,
   "metadata": {},
   "outputs": [
    {
     "ename": "TypeError",
     "evalue": "object of type 'bool' has no len()",
     "output_type": "error",
     "traceback": [
      "\u001b[0;31m---------------------------------------------------------------------------\u001b[0m",
      "\u001b[0;31mTypeError\u001b[0m                                 Traceback (most recent call last)",
      "Cell \u001b[0;32mIn [5], line 1\u001b[0m\n\u001b[0;32m----> 1\u001b[0m download_data()\n",
      "Cell \u001b[0;32mIn [4], line 40\u001b[0m, in \u001b[0;36mdownload_data\u001b[0;34m(filepath, buffers, MAX)\u001b[0m\n\u001b[1;32m     37\u001b[0m \u001b[39mfor\u001b[39;00m buffer \u001b[39min\u001b[39;00m tqdm(buffers,desc\u001b[39m=\u001b[39m\u001b[39m'\u001b[39m\u001b[39mDownloading Buffer\u001b[39m\u001b[39m'\u001b[39m):\n\u001b[1;32m     38\u001b[0m     \u001b[39m# Download the data of the buffer\u001b[39;00m\n\u001b[1;32m     39\u001b[0m     fileName    \u001b[39m=\u001b[39m \u001b[39m\"\u001b[39m\u001b[39mpc_buff\u001b[39m\u001b[39m\"\u001b[39m\u001b[39m+\u001b[39m\u001b[39mstr\u001b[39m(buffer)\n\u001b[0;32m---> 40\u001b[0m     data        \u001b[39m=\u001b[39m download_seq_nr(fileName,MAX\u001b[39m=\u001b[39;49mMAX)\n\u001b[1;32m     42\u001b[0m     \u001b[39m# Save the data of the buffer\u001b[39;00m\n\u001b[1;32m     43\u001b[0m     fname   \u001b[39m=\u001b[39m rp\u001b[39m.\u001b[39msave_raw_data(data,filepath\u001b[39m=\u001b[39mfilepath,buffer\u001b[39m=\u001b[39mbuffer)\n",
      "Cell \u001b[0;32mIn [4], line 25\u001b[0m, in \u001b[0;36mdownload_seq_nr\u001b[0;34m(fileName, start, end, MAX)\u001b[0m\n\u001b[1;32m     22\u001b[0m seq         \u001b[39m=\u001b[39m seq \u001b[39m+\u001b[39m MAX\n\u001b[1;32m     24\u001b[0m \u001b[39m# Exit condition with searching one last time\u001b[39;00m\n\u001b[0;32m---> 25\u001b[0m \u001b[39mif\u001b[39;00m \u001b[39mlen\u001b[39;49m(new_data \u001b[39m==\u001b[39;49m \u001b[39m0\u001b[39;49m):\n\u001b[1;32m     26\u001b[0m     data \u001b[39m=\u001b[39m rp\u001b[39m.\u001b[39msort(data)    \u001b[39m# Sort by \"entry_nr\"\u001b[39;00m\n\u001b[1;32m     27\u001b[0m     \u001b[39mbreak\u001b[39;00m\n",
      "\u001b[0;31mTypeError\u001b[0m: object of type 'bool' has no len()"
     ]
    }
   ],
   "source": [
    "download_data()"
   ]
  }
 ],
 "metadata": {
  "kernelspec": {
   "display_name": "Python 3.10.6 ('base')",
   "language": "python",
   "name": "python3"
  },
  "language_info": {
   "codemirror_mode": {
    "name": "ipython",
    "version": 3
   },
   "file_extension": ".py",
   "mimetype": "text/x-python",
   "name": "python",
   "nbconvert_exporter": "python",
   "pygments_lexer": "ipython3",
   "version": "3.10.6"
  },
  "orig_nbformat": 4,
  "vscode": {
   "interpreter": {
    "hash": "5cf15d210532a4fff46503574f56be48a4f12464b62874e7bd21532277ac077e"
   }
  }
 },
 "nbformat": 4,
 "nbformat_minor": 2
}

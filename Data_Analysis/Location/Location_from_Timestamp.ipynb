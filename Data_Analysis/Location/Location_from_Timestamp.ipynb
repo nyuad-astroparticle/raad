{
 "cells": [
  {
   "cell_type": "markdown",
   "metadata": {},
   "source": [
    "# <span style=\"color:#72A98F\">Location from Timestamp Notebook</span>\n",
    "\n",
    "Hello Person! In this notebook I will be using the *[LLAT](../../Data/Location/LIGHT-1_LLA_April.csv)* (Latitude Longitude Altitude Time) file to find the location at a given **Event Timestamp**."
   ]
  },
  {
   "cell_type": "markdown",
   "metadata": {},
   "source": [
    "## <span style=\"color:#72A98F\">Importing libraries and giving constant values</span>"
   ]
  },
  {
   "cell_type": "code",
   "execution_count": 550,
   "metadata": {},
   "outputs": [
    {
     "name": "stdout",
     "output_type": "stream",
     "text": [
      "[59678.48507599 59660.22503572 59680.7529531  59640.46854309\n",
      " 59699.05686317 59663.64185502 59698.63756515 59655.30442825\n",
      " 59651.70049262 59678.38364635 59644.12207649 59686.61490206\n",
      " 59639.65815073 59696.31337055 59679.13745842 59698.52329381\n",
      " 59664.07165138 59682.28423664 59642.11299305 59657.6979114\n",
      " 59675.57190001 59685.54646937 59661.60020785 59666.11568572\n",
      " 59685.16154879 59675.00730588 59685.81349888 59687.77986764\n",
      " 59665.04174617 59647.75696875 59664.69960179 59654.42235472\n",
      " 59658.31059699 59686.99028133 59643.93364677 59685.94241153\n",
      " 59649.21596758 59688.73677833 59686.32844729 59642.21398576\n",
      " 59664.6360992  59659.28033657 59685.93947833 59666.43314172\n",
      " 59685.74991019 59652.84380055 59653.28844601 59662.36843412\n",
      " 59674.88477252 59643.0732479  59646.01863218 59688.85920744\n",
      " 59651.81781238 59688.4358495  59671.87762289 59639.18239765\n",
      " 59657.31357518 59676.18058897 59678.86595932 59673.54658931\n",
      " 59681.16889873 59684.24190701 59691.74496711 59678.77080081\n",
      " 59694.94675921 59686.66177644 59653.99415565 59698.41843216\n",
      " 59679.66952825 59690.38202002 59658.55592415 59676.19438002\n",
      " 59672.42210962 59690.0408253  59639.84811628 59675.83001344\n",
      " 59666.07028455 59641.45985473 59673.74353987 59685.71161948\n",
      " 59662.16744154 59645.07529638 59688.60582989 59683.5936989\n",
      " 59673.6204278  59643.63099388 59672.02298113 59672.93928115\n",
      " 59689.67340993 59639.47796448 59680.8547152  59673.05891934\n",
      " 59649.59029872 59672.6282508  59694.22709303 59697.29367535\n",
      " 59680.52176207 59671.3364249  59675.14224083 59671.5337315 ]\n"
     ]
    }
   ],
   "source": [
    "import numpy as np\n",
    "import pandas as pd\n",
    "from astropy.time import Time\n",
    "import raadpy as rp\n",
    "import os\n",
    "from datetime import datetime\n",
    "import calendar\n",
    "\n",
    "#Random Values from March to April\n",
    "TSA = np.random.uniform(low=59639.000000000, high=59700.00000000, size=100)\n",
    "\n",
    "#Random Values in March alone\n",
    "# TSA = np.random.uniform(low=59639.000000000, high=59670.000000000, size=10)\n",
    "\n",
    "\n",
    "print(TSA)"
   ]
  },
  {
   "cell_type": "markdown",
   "metadata": {},
   "source": [
    "## <span style=\"color:#72A98F\">Function For Finding Timestamp Locations for an Array of Timestamps"
   ]
  },
  {
   "cell_type": "code",
   "execution_count": 565,
   "metadata": {},
   "outputs": [],
   "source": [
    "def Location_from_Timestamp(TimestampArray, LocationFolder):\n",
    "\n",
    "    # type(TimestampArray)\n",
    "    arr = os.listdir(LocationFolder)\n",
    "\n",
    "    months = [calendar.month_name[i] for i in range(1, 13)]\n",
    "    FilesFound = []\n",
    "\n",
    "    Columns = ['Time','Lon','Lat']\n",
    "    ColumnTitles  = {}\n",
    "    ColumnNumbers = {}\n",
    "\n",
    "    MinTSMonth,MaxTSMonth = int(Time(np.amin(TSA), format='mjd').iso[6]),int(Time(np.amax(TSA), format='mjd').iso[6])\n",
    "    FilesRequired = months[MinTSMonth-1:MaxTSMonth]\n",
    "    print('Files Required are:', FilesRequired)\n",
    "\n",
    "    for m in FilesRequired:\n",
    "        k = [(i) for i in arr if m in i ]\n",
    "        FilesFound.append(k)\n",
    "\n",
    "    \n",
    "    FileData={}\n",
    "\n",
    "    for i in range(len(FilesRequired)):\n",
    "        if len(FilesFound[i]) != 0:\n",
    "            print(FilesRequired[i] + \" file is found and opened!\", flush=True)\n",
    "            FileData[FilesRequired[i]] = pd.read_csv('../../Data/Location/'+FilesFound[i][0])\n",
    "            \n",
    "        else:\n",
    "            print(FilesRequired[i] + \" file is NOT found, this time range will not be searched! ＼(º □ º l|l)/\", flush=True)\n",
    "    \n",
    "    print('')\n",
    "\n",
    "    for c in range(len(Columns)):\n",
    "\n",
    "        Ckey = [[b,c] for b in FileData[[[FilesRequired[u]] for u in range(len(FilesFound)) if len(FilesFound[u]) != 0][0][0]].keys() if Columns[c] in b ]\n",
    "        ColumnNumbers[Columns[c]] = Ckey[0][1]\n",
    "        ColumnTitles[Columns[c]]  = Ckey[0][0]\n",
    "            \n",
    "    # print('Column Dictionary Numbers:', ColumnNumbers)\n",
    "    # print('Column Dictionary Names:', ColumnTitles, '\\n')\n",
    "    \n",
    "\n",
    "    #Part 2\n",
    "    Values = {}\n",
    "\n",
    "    for i in range(len(FilesRequired)):\n",
    "\n",
    "        if len(FilesFound[i]) != 0:\n",
    "            MonthStart = datetime.strptime(FilesRequired[i], '%B').month\n",
    "            MonthEnd   = datetime.strptime(FilesRequired[i], '%B').month + 1\n",
    "\n",
    "            Values[FilesRequired[i]] = np.where(np.logical_and(TimestampArray <= Time('2022-'+str(MonthEnd)+'-01').mjd, TimestampArray >= Time('2022-'+str(MonthStart)+'-01').mjd))[0]\n",
    "\n",
    "        else:\n",
    "            continue\n",
    "    \n",
    "\n",
    "    #Part 3\n",
    "    TSL=[]\n",
    "\n",
    "    print('Finding',len(TimestampArray) ,'Values!\\n', flush=True)\n",
    "\n",
    "    for i in range(len(FilesFound)):\n",
    "\n",
    "        if len(FilesFound[i]) != 0:\n",
    "\n",
    "            for j in Values[FilesRequired[i]]:\n",
    "\n",
    "                ts = np.float64(TimestampArray[j])\n",
    "\n",
    "                ResultMin = FileData[FilesRequired[i]][FileData[FilesRequired[i]][ColumnTitles[Columns[0]]] <= ts].nlargest(1, ColumnTitles[Columns[0]])\n",
    "                ResultMax = FileData[FilesRequired[i]][FileData[FilesRequired[i]][ColumnTitles[Columns[0]]] >= ts].nsmallest(1, ColumnTitles[Columns[0]])\n",
    "                \n",
    "                TimeRange = [np.float64(ResultMin.iloc[:,(ColumnNumbers['Time'])]), np.float64(ResultMax.iloc[:,(ColumnNumbers['Time'])])]\n",
    "                LongRange = [np.float64(ResultMin.iloc[:,(ColumnNumbers['Lon'])]), np.float64(ResultMax.iloc[:,(ColumnNumbers['Lon'])])]\n",
    "                LatRange  = [np.float64(ResultMin.iloc[:,(ColumnNumbers['Lat'])]), np.float64(ResultMax.iloc[:,(ColumnNumbers['Lat'])])]\n",
    "                longitude = np.interp(ts, TimeRange, LongRange)\n",
    "                latitude = np.interp(ts, TimeRange, LatRange)\n",
    "                TSL.append([ts,longitude,latitude])\n",
    "        \n",
    "        else:\n",
    "            continue\n",
    "\n",
    "    print(TSL)\n",
    "\n",
    "    print(\"\\nDone! (￣^￣ )ゞ\")"
   ]
  },
  {
   "cell_type": "code",
   "execution_count": 566,
   "metadata": {},
   "outputs": [
    {
     "name": "stdout",
     "output_type": "stream",
     "text": [
      "Files Required are: ['March', 'April']\n",
      "March file is found and opened!\n",
      "April file is found and opened!\n",
      "\n",
      "Finding 100 Values!\n",
      "\n",
      "[[59660.22503572161, 51.558394537250955, -116.57343702683495], [59640.46854308693, 23.53412165122072, -24.122611513618992], [59663.641855016984, 39.19133399034773, 115.59395622047283], [59655.304428245945, -45.48398977089214, 93.4932262547102], [59651.700492617536, -42.06476931568924, -19.703786485190786], [59644.12207649006, 38.22435282790697, -42.800061937441875], [59639.65815072632, -42.97842914962444, 65.33058704489085], [59664.07165138344, 8.469661657345855, -175.05085330741574], [59642.11299304821, -14.595042248308717, -77.6976329536808], [59657.697911400326, 0.46379160537918235, -8.88438239620293], [59661.60020784564, -34.77419986944776, -144.20630249256683], [59666.11568571878, -49.307829345811676, 83.9479137248934], [59665.04174617022, 28.631962905180696, -151.35229957720276], [59647.75696875046, -25.240810184833208, -129.51549045171888], [59664.69960179257, -49.84669759232987, -120.4642725523341], [59654.42235472082, 31.842702323463733, 138.7288367840148], [59658.31059698866, -5.716571454714219, -48.94912603196643], [59643.93364677492, 50.374305590863706, 59.731670346324286], [59649.21596757941, 51.79559891181378, -55.64410881862242], [59642.21398576028, -4.7388509685255125, 80.90530656601801], [59664.636099203984, -48.29469641096721, -90.37049547263253], [59659.28033657365, -23.90183189459737, -27.938567261089858], [59666.43314172157, -50.97233841938295, -69.8552926449364], [59652.843800554474, -26.69891492974327, 170.46791492974327], [59653.28844601022, -0.9385126392226235, -14.832520489960501], [59662.36843412247, -18.30969586251524, -83.37567684692634], [59643.07324790223, -37.68623860671413, -94.7158579100712], [59646.018632177205, -26.41653921438539, 147.8708992478158], [59651.817812375484, -41.65761257678434, -152.94072103765137], [59639.18239765133, 15.044135870661364, 94.37713402088413], [59657.31357517708, 8.75165813867423, 138.35912453197935], [59653.994155646404, 9.768597553067965, 78.37982585966834], [59658.55592414599, 43.307238016189324, 168.86606178972232], [59639.84811628411, -50.31005308621479, -28.487058563623467], [59666.07028454803, 24.181078240789653, -172.5092616126095], [59641.45985473151, -47.384884978263315, 114.36224247422759], [59662.167441536156, 16.247566301170696, -38.17400171491314], [59645.07529638133, -15.197640217072363, -82.27431936931644], [59643.63099387914, -5.405428366059435, -77.1157676559961], [59639.47796448137, 9.962568939701912, -173.63500760582653], [59649.590298721, 17.686652752077702, 92.32536959353281], [59678.485075989, 21.752711668487752, -38.28768159704136], [59680.75295309655, 40.20039509385481, -28.25456015807125], [59699.056863169724, 36.1250559953454, 9.701718850825896], [59698.63756515398, -29.593959639484634, -25.352151688375063], [59678.38364635271, -0.21730209991184654, 160.70162501170248], [59686.61490205756, -6.920427083385693, 33.602898080103344], [59696.313370549484, 19.267456813709735, 62.73882184975307], [59679.137458415884, 50.78229416924331, 139.31268815985493], [59698.52329381187, -43.87768524351814, 120.73572658252047], [59682.284236639396, 42.11560008243572, 38.38515444823042], [59675.571900005736, -50.56175451398846, -143.5649231653511], [59685.54646937075, -26.653188667224196, -144.12714209983645], [59685.16154879165, -23.375863639876524, 0.12305965594394874], [59675.00730587558, 0.41361750267896225, 136.49020059012634], [59685.813498884156, 16.213186499045072, 154.64414919923607], [59687.77986764499, -38.85857336433888, 1.1289887147252697], [59686.99028133241, 36.41241151941178, -144.74449894162126], [59685.94241153014, 17.678449151913508, 108.76324420564367], [59688.73677832984, -9.619030379952035, -20.766036783172055], [59686.328447293665, 19.066477049923627, -31.25929471332921], [59685.93947833358, 4.881316277149736, 99.16339972504687], [59685.74991019244, 19.1977838946678, -179.40914000650247], [59674.884772516394, 26.666234272102066, -155.71011113794265], [59688.85920744464, 17.19835803615842, -87.33606778461912], [59688.43584949658, -39.18053961497174, -138.20002553187743], [59671.87762288976, 40.35151763554691, -20.435832797646036], [59676.18058896816, 51.748660144903404, 153.41767149678017], [59678.865959318566, 0.2171361678572304, 164.1898608243698], [59673.5465893092, 49.39767468489199, 64.08346391798608], [59681.168898729615, -46.13933717569464, -13.769815064823339], [59684.241907007236, -30.499449045981905, -155.80572328224233], [59691.744967109735, 42.11030678625983, -94.704088006998], [59678.77080081079, -6.018692590146795, 23.602841828338914], [59694.94675920727, 41.93383593431637, 83.85069009815315], [59686.66177644409, 51.77703038181791, -76.90851909089538], [59698.41843216493, 47.92647219287522, -91.03319454422426], [59679.66952825092, 0.7307083867668043, 49.361676432870496], [59690.382020021745, 35.181258717155224, -56.855321710459705], [59676.19438001758, 11.702316424229123, -127.64852048241414], [59672.42210961825, -46.95668283294891, -55.16304849884672], [59690.04082529789, -45.06052077860907, -17.741066399860642], [59675.830013440805, -49.259768898629254, 129.05653995616836], [59673.74353986732, 38.756226887994856, 19.48134832360797], [59685.71161948221, 7.598836604788548, -7.326839087543525], [59688.60582989335, 0.905148597413231, 18.78030687241419], [59683.593698903125, -8.286270209185444, 60.38465995479723], [59673.62042780047, 16.987899420753394, 89.80551845181236], [59672.02298113087, -29.036634313082445, -5.763656732712058], [59672.93928115437, -39.551120363697365, 132.45916887071226], [59689.673409933384, 29.052440426143384, -165.29132303358952], [59680.854715204114, -19.87971290724445, 139.6581381796526], [59673.05891934484, -49.57162720668508, 16.69782243008286], [59672.62825080055, 4.195346426071694, -69.86969664041997], [59694.22709303049, -10.973277638744287, -66.53716765239771], [59697.29367534805, -46.77084780053068, 136.78554340159204], [59680.52176207115, -51.79575703133254, -171.45070313325385], [59671.336424899295, -18.768433106739813, 24.07345351460815], [59675.14224083394, 27.458573495018452, 110.92396554831593], [59671.53373150291, 0.0534920891235738, -32.58153499591277]]\n",
      "\n",
      "Done! (￣^￣ )ゞ\n"
     ]
    }
   ],
   "source": [
    "Location_from_Timestamp(TimestampArray = TSA, LocationFolder = '../../Data/Location/')"
   ]
  },
  {
   "cell_type": "markdown",
   "metadata": {},
   "source": [
    "## <span style=\"color:#72A98F\">*Ignore what's below this point*</span>"
   ]
  },
  {
   "cell_type": "markdown",
   "metadata": {},
   "source": [
    "### Notes"
   ]
  },
  {
   "cell_type": "code",
   "execution_count": 3,
   "metadata": {},
   "outputs": [],
   "source": [
    "#NOTES\n",
    "\n",
    "# time = E.get_mjd()\n",
    "\n",
    "# def f(EV:rp.event):\n",
    "#     time = EV.get_mjd()\n",
    "\n",
    "# k = [(i) for i in arr if \"June\" in i ]\n",
    "# k\n",
    "\n",
    "# def g(a):\n",
    "#     return a+\n",
    "\n",
    "# import numpy as np\n",
    "# x = np.random.rand()\n",
    "# y = np.random.rand(10)\n",
    "# np.where(x < y)[0]"
   ]
  },
  {
   "cell_type": "markdown",
   "metadata": {},
   "source": [
    "### Old Code"
   ]
  },
  {
   "cell_type": "code",
   "execution_count": 2,
   "metadata": {},
   "outputs": [
    {
     "name": "stdout",
     "output_type": "stream",
     "text": [
      "This time lies in March!\n"
     ]
    },
    {
     "data": {
      "text/plain": [
       "[[59639, -157.984, -31.383]]"
      ]
     },
     "execution_count": 2,
     "metadata": {},
     "output_type": "execute_result"
    }
   ],
   "source": [
    "# # GivenTimestamp = E.get_mjd()\n",
    "# # A remake of this line above will be used to actually get the timestamp ^\n",
    "# # But for now, we will name a value that exists in the range of april.\n",
    "# GivenTimestamp = 59639\n",
    "\n",
    "# #If the timestamp lies somewhere in March this will use the March file!\n",
    "# if Time(59639.00000000, format='mjd') <= Time(GivenTimestamp, format='mjd') <= Time(59670.00000000, format='mjd'):\n",
    "#     print(\"This time lies in March!\")\n",
    "#     LocationFile = '../../Data/Location/LIGHT-1_LLA_March.csv'\n",
    "#     LLATData = pd.read_csv(LocationFile)\n",
    "    \n",
    "# #If the timestamp lies somewhere in April this will use the April file!\n",
    "# elif Time(59670.00000000, format='mjd') <= Time(GivenTimestamp, format='mjd') <= Time(59700.00000000, format='mjd'):\n",
    "#     print(\"This time lies in April!\")\n",
    "#     LocationFile = '../../Data/Location/LIGHT-1_LLA_April.csv'\n",
    "#     LLATData = pd.read_csv(LocationFile)\n",
    "    \n",
    "# #If the timestamp reached does not exist in the range useable, this will skip that specific value only.\n",
    "# else:\n",
    "#     print(\"The time value given does not exist in the range from March to April!\\nFor reference, the time in mjd should be between 59639.0 and 59700.0\")\n",
    "\n",
    "# #Read the time column only\n",
    "# TData = LLATData[\"Time (ModJDate)\"]\n",
    "\n",
    "# #Count the rows and look through them.\n",
    "# for row in range(len(TData)):\n",
    "\n",
    "#     #\n",
    "#     if GivenTimestamp == TData[row]:\n",
    "#         MaximumData = LLATData.T[row]\n",
    "#         MinimumData = LLATData.T[row]\n",
    "#         break\n",
    "    \n",
    "#     if TData[row] >= GivenTimestamp:\n",
    "#         MaximumData = LLATData.T[row]\n",
    "#         MinimumData = LLATData.T[row-1]\n",
    "#         break\n",
    "\n",
    "# TimeRange = [MinimumData[0], MaximumData[0]]\n",
    "# LongRange = [MinimumData[2], MaximumData[2]]\n",
    "# LatRange  = [MinimumData[1], MaximumData[1]]\n",
    "# longitude2 = np.interp(GivenTimestamp, TimeRange, LongRange)\n",
    "# latitude2 = np.interp(GivenTimestamp, TimeRange, LatRange)\n",
    "\n",
    "# TS = [] #For the values to be added together.\n",
    "# TS.append([GivenTimestamp, longitude2, latitude2])\n",
    "# TS"
   ]
  },
  {
   "cell_type": "code",
   "execution_count": 24,
   "metadata": {},
   "outputs": [
    {
     "ename": "NameError",
     "evalue": "name 'TSA' is not defined",
     "output_type": "error",
     "traceback": [
      "\u001b[0;31m---------------------------------------------------------------------------\u001b[0m",
      "\u001b[0;31mNameError\u001b[0m                                 Traceback (most recent call last)",
      "\u001b[1;32m/home/nyuad/RAAD/Data_Analysis/Location/Location_from_Timestamp.ipynb Cell 16'\u001b[0m in \u001b[0;36m<cell line: 3>\u001b[0;34m()\u001b[0m\n\u001b[1;32m      <a href='vscode-notebook-cell:/home/nyuad/RAAD/Data_Analysis/Location/Location_from_Timestamp.ipynb#ch0000015?line=0'>1</a>\u001b[0m \u001b[39m# TSA  = [59621,59671]\u001b[39;00m\n\u001b[1;32m      <a href='vscode-notebook-cell:/home/nyuad/RAAD/Data_Analysis/Location/Location_from_Timestamp.ipynb#ch0000015?line=1'>2</a>\u001b[0m TSL \u001b[39m=\u001b[39m []\n\u001b[0;32m----> <a href='vscode-notebook-cell:/home/nyuad/RAAD/Data_Analysis/Location/Location_from_Timestamp.ipynb#ch0000015?line=2'>3</a>\u001b[0m np\u001b[39m.\u001b[39mwhere(Time(\u001b[39m59639.000000000\u001b[39m, \u001b[39mformat\u001b[39m\u001b[39m=\u001b[39m\u001b[39m'\u001b[39m\u001b[39mmjd\u001b[39m\u001b[39m'\u001b[39m) \u001b[39m<\u001b[39m\u001b[39m=\u001b[39m Time(TSA, \u001b[39mformat\u001b[39m\u001b[39m=\u001b[39m\u001b[39m'\u001b[39m\u001b[39mmjd\u001b[39m\u001b[39m'\u001b[39m) \u001b[39m<\u001b[39m\u001b[39m=\u001b[39m Time(\u001b[39m59670.00000000\u001b[39m, \u001b[39mformat\u001b[39m\u001b[39m=\u001b[39m\u001b[39m'\u001b[39m\u001b[39mmjd\u001b[39m\u001b[39m'\u001b[39m))[\u001b[39m0\u001b[39m]\n\u001b[1;32m      <a href='vscode-notebook-cell:/home/nyuad/RAAD/Data_Analysis/Location/Location_from_Timestamp.ipynb#ch0000015?line=5'>6</a>\u001b[0m \u001b[39mfor\u001b[39;00m ts \u001b[39min\u001b[39;00m TSA:\n\u001b[1;32m      <a href='vscode-notebook-cell:/home/nyuad/RAAD/Data_Analysis/Location/Location_from_Timestamp.ipynb#ch0000015?line=7'>8</a>\u001b[0m     \u001b[39mif\u001b[39;00m Time(\u001b[39m59639.000000000\u001b[39m, \u001b[39mformat\u001b[39m\u001b[39m=\u001b[39m\u001b[39m'\u001b[39m\u001b[39mmjd\u001b[39m\u001b[39m'\u001b[39m) \u001b[39m<\u001b[39m\u001b[39m=\u001b[39m Time(ts, \u001b[39mformat\u001b[39m\u001b[39m=\u001b[39m\u001b[39m'\u001b[39m\u001b[39mmjd\u001b[39m\u001b[39m'\u001b[39m) \u001b[39m<\u001b[39m\u001b[39m=\u001b[39m Time(\u001b[39m59670.00000000\u001b[39m, \u001b[39mformat\u001b[39m\u001b[39m=\u001b[39m\u001b[39m'\u001b[39m\u001b[39mmjd\u001b[39m\u001b[39m'\u001b[39m):\n",
      "\u001b[0;31mNameError\u001b[0m: name 'TSA' is not defined"
     ]
    }
   ],
   "source": [
    "# # TimestampArray  = [59621,59671]\n",
    "\n",
    "# TSL = []\n",
    "# np.where(np.logical_and(TimestampArray <= 59700.00000000, TimestampArray >= 59639.000000000))[0]\n",
    "\n",
    "# for ts in TimestampArray:\n",
    "\n",
    "#     if Time('2022-03-01') <= Time(ts, format='mjd') <= Time('2022-03-01'):\n",
    "#         LLATData = FileData['March']\n",
    "        \n",
    "    \n",
    "#     elif Time(59670.00000000, format='mjd') <= Time(ts, format='mjd') <= Time(59700.00000000, format='mjd'):\n",
    "#         LLATData = FileData['April']\n",
    "    \n",
    "#     else:\n",
    "#         print(\"The time value given does not exist in the range from March to April!\\nFor reference, the time in mjd should be between 59639.0 and 59700.0\")\n",
    "#         continue\n",
    "\n",
    "#     TData = LLATData[\"Time (ModJDate)\"]\n",
    "\n",
    "#     for row in range(len(TData)):\n",
    "\n",
    "#         if ts == TData[row]:\n",
    "#             MaximumData = LLATData.T[row]\n",
    "#             MinimumData = LLATData.T[row]\n",
    "#             break\n",
    "        \n",
    "#         if TData[row] >= ts:\n",
    "#             MaximumData = LLATData.T[row]\n",
    "#             MinimumData = LLATData.T[row-1]\n",
    "#             break\n",
    "    \n",
    "#     TimeRange = [MinimumData[0], MaximumData[0]]\n",
    "#     LongRange = [MinimumData[2], MaximumData[2]]\n",
    "#     LatRange  = [MinimumData[1], MaximumData[1]]\n",
    "#     longitude = np.interp(ts, TimeRange, LongRange)\n",
    "#     latitude = np.interp(ts, TimeRange, LatRange)\n",
    "#     TSL.append([ts,longitude,latitude])\n",
    "\n",
    "# print(TSL)"
   ]
  },
  {
   "cell_type": "code",
   "execution_count": 3,
   "metadata": {},
   "outputs": [
    {
     "name": "stdout",
     "output_type": "stream",
     "text": [
      "The time value given does not exist in the range from March to April!\n",
      "For reference, the time in mjd should be between 59639.0 and 59700.0\n"
     ]
    },
    {
     "ename": "KeyError",
     "evalue": "'Time (ModJDate)'",
     "output_type": "error",
     "traceback": [
      "\u001b[0;31m---------------------------------------------------------------------------\u001b[0m",
      "\u001b[0;31mKeyError\u001b[0m                                  Traceback (most recent call last)",
      "File \u001b[0;32m~/miniconda3/envs/RAAD/lib/python3.10/site-packages/pandas/core/indexes/base.py:3621\u001b[0m, in \u001b[0;36mIndex.get_loc\u001b[0;34m(self, key, method, tolerance)\u001b[0m\n\u001b[1;32m   <a href='file:///home/nyuad/miniconda3/envs/RAAD/lib/python3.10/site-packages/pandas/core/indexes/base.py?line=3619'>3620</a>\u001b[0m \u001b[39mtry\u001b[39;00m:\n\u001b[0;32m-> <a href='file:///home/nyuad/miniconda3/envs/RAAD/lib/python3.10/site-packages/pandas/core/indexes/base.py?line=3620'>3621</a>\u001b[0m     \u001b[39mreturn\u001b[39;00m \u001b[39mself\u001b[39;49m\u001b[39m.\u001b[39;49m_engine\u001b[39m.\u001b[39;49mget_loc(casted_key)\n\u001b[1;32m   <a href='file:///home/nyuad/miniconda3/envs/RAAD/lib/python3.10/site-packages/pandas/core/indexes/base.py?line=3621'>3622</a>\u001b[0m \u001b[39mexcept\u001b[39;00m \u001b[39mKeyError\u001b[39;00m \u001b[39mas\u001b[39;00m err:\n",
      "File \u001b[0;32m~/miniconda3/envs/RAAD/lib/python3.10/site-packages/pandas/_libs/index.pyx:136\u001b[0m, in \u001b[0;36mpandas._libs.index.IndexEngine.get_loc\u001b[0;34m()\u001b[0m\n",
      "File \u001b[0;32m~/miniconda3/envs/RAAD/lib/python3.10/site-packages/pandas/_libs/index.pyx:163\u001b[0m, in \u001b[0;36mpandas._libs.index.IndexEngine.get_loc\u001b[0;34m()\u001b[0m\n",
      "File \u001b[0;32mpandas/_libs/hashtable_class_helper.pxi:5198\u001b[0m, in \u001b[0;36mpandas._libs.hashtable.PyObjectHashTable.get_item\u001b[0;34m()\u001b[0m\n",
      "File \u001b[0;32mpandas/_libs/hashtable_class_helper.pxi:5206\u001b[0m, in \u001b[0;36mpandas._libs.hashtable.PyObjectHashTable.get_item\u001b[0;34m()\u001b[0m\n",
      "\u001b[0;31mKeyError\u001b[0m: 'Time (ModJDate)'",
      "\nThe above exception was the direct cause of the following exception:\n",
      "\u001b[0;31mKeyError\u001b[0m                                  Traceback (most recent call last)",
      "\u001b[1;32m/home/nyuad/RAAD/Data_Analysis/Location/Location_from_Timestamp.ipynb Cell 8'\u001b[0m in \u001b[0;36m<cell line: 4>\u001b[0;34m()\u001b[0m\n\u001b[1;32m     <a href='vscode-notebook-cell:/home/nyuad/RAAD/Data_Analysis/Location/Location_from_Timestamp.ipynb#ch0000006?line=18'>19</a>\u001b[0m     \u001b[39mcontinue\u001b[39;00m \u001b[39m#Skips the values not in the range!\u001b[39;00m\n\u001b[1;32m     <a href='vscode-notebook-cell:/home/nyuad/RAAD/Data_Analysis/Location/Location_from_Timestamp.ipynb#ch0000006?line=20'>21</a>\u001b[0m \u001b[39m#Telling it to take the time column\u001b[39;00m\n\u001b[0;32m---> <a href='vscode-notebook-cell:/home/nyuad/RAAD/Data_Analysis/Location/Location_from_Timestamp.ipynb#ch0000006?line=21'>22</a>\u001b[0m TData \u001b[39m=\u001b[39m LLATData[\u001b[39m\"\u001b[39;49m\u001b[39mTime (ModJDate)\u001b[39;49m\u001b[39m\"\u001b[39;49m]\n\u001b[1;32m     <a href='vscode-notebook-cell:/home/nyuad/RAAD/Data_Analysis/Location/Location_from_Timestamp.ipynb#ch0000006?line=23'>24</a>\u001b[0m \u001b[39m#Start the loop that looks through the file.\u001b[39;00m\n\u001b[1;32m     <a href='vscode-notebook-cell:/home/nyuad/RAAD/Data_Analysis/Location/Location_from_Timestamp.ipynb#ch0000006?line=24'>25</a>\u001b[0m \u001b[39mfor\u001b[39;00m row \u001b[39min\u001b[39;00m \u001b[39mrange\u001b[39m(\u001b[39mlen\u001b[39m(TData)):\n\u001b[1;32m     <a href='vscode-notebook-cell:/home/nyuad/RAAD/Data_Analysis/Location/Location_from_Timestamp.ipynb#ch0000006?line=25'>26</a>\u001b[0m \n\u001b[1;32m     <a href='vscode-notebook-cell:/home/nyuad/RAAD/Data_Analysis/Location/Location_from_Timestamp.ipynb#ch0000006?line=26'>27</a>\u001b[0m     \u001b[39m#If the timestamp exists in the data file, use the location already given, and leave the loop. (Condition 1)\u001b[39;00m\n",
      "File \u001b[0;32m~/miniconda3/envs/RAAD/lib/python3.10/site-packages/pandas/core/frame.py:3505\u001b[0m, in \u001b[0;36mDataFrame.__getitem__\u001b[0;34m(self, key)\u001b[0m\n\u001b[1;32m   <a href='file:///home/nyuad/miniconda3/envs/RAAD/lib/python3.10/site-packages/pandas/core/frame.py?line=3502'>3503</a>\u001b[0m \u001b[39mif\u001b[39;00m \u001b[39mself\u001b[39m\u001b[39m.\u001b[39mcolumns\u001b[39m.\u001b[39mnlevels \u001b[39m>\u001b[39m \u001b[39m1\u001b[39m:\n\u001b[1;32m   <a href='file:///home/nyuad/miniconda3/envs/RAAD/lib/python3.10/site-packages/pandas/core/frame.py?line=3503'>3504</a>\u001b[0m     \u001b[39mreturn\u001b[39;00m \u001b[39mself\u001b[39m\u001b[39m.\u001b[39m_getitem_multilevel(key)\n\u001b[0;32m-> <a href='file:///home/nyuad/miniconda3/envs/RAAD/lib/python3.10/site-packages/pandas/core/frame.py?line=3504'>3505</a>\u001b[0m indexer \u001b[39m=\u001b[39m \u001b[39mself\u001b[39;49m\u001b[39m.\u001b[39;49mcolumns\u001b[39m.\u001b[39;49mget_loc(key)\n\u001b[1;32m   <a href='file:///home/nyuad/miniconda3/envs/RAAD/lib/python3.10/site-packages/pandas/core/frame.py?line=3505'>3506</a>\u001b[0m \u001b[39mif\u001b[39;00m is_integer(indexer):\n\u001b[1;32m   <a href='file:///home/nyuad/miniconda3/envs/RAAD/lib/python3.10/site-packages/pandas/core/frame.py?line=3506'>3507</a>\u001b[0m     indexer \u001b[39m=\u001b[39m [indexer]\n",
      "File \u001b[0;32m~/miniconda3/envs/RAAD/lib/python3.10/site-packages/pandas/core/indexes/base.py:3623\u001b[0m, in \u001b[0;36mIndex.get_loc\u001b[0;34m(self, key, method, tolerance)\u001b[0m\n\u001b[1;32m   <a href='file:///home/nyuad/miniconda3/envs/RAAD/lib/python3.10/site-packages/pandas/core/indexes/base.py?line=3620'>3621</a>\u001b[0m     \u001b[39mreturn\u001b[39;00m \u001b[39mself\u001b[39m\u001b[39m.\u001b[39m_engine\u001b[39m.\u001b[39mget_loc(casted_key)\n\u001b[1;32m   <a href='file:///home/nyuad/miniconda3/envs/RAAD/lib/python3.10/site-packages/pandas/core/indexes/base.py?line=3621'>3622</a>\u001b[0m \u001b[39mexcept\u001b[39;00m \u001b[39mKeyError\u001b[39;00m \u001b[39mas\u001b[39;00m err:\n\u001b[0;32m-> <a href='file:///home/nyuad/miniconda3/envs/RAAD/lib/python3.10/site-packages/pandas/core/indexes/base.py?line=3622'>3623</a>\u001b[0m     \u001b[39mraise\u001b[39;00m \u001b[39mKeyError\u001b[39;00m(key) \u001b[39mfrom\u001b[39;00m \u001b[39merr\u001b[39;00m\n\u001b[1;32m   <a href='file:///home/nyuad/miniconda3/envs/RAAD/lib/python3.10/site-packages/pandas/core/indexes/base.py?line=3623'>3624</a>\u001b[0m \u001b[39mexcept\u001b[39;00m \u001b[39mTypeError\u001b[39;00m:\n\u001b[1;32m   <a href='file:///home/nyuad/miniconda3/envs/RAAD/lib/python3.10/site-packages/pandas/core/indexes/base.py?line=3624'>3625</a>\u001b[0m     \u001b[39m# If we have a listlike key, _check_indexing_error will raise\u001b[39;00m\n\u001b[1;32m   <a href='file:///home/nyuad/miniconda3/envs/RAAD/lib/python3.10/site-packages/pandas/core/indexes/base.py?line=3625'>3626</a>\u001b[0m     \u001b[39m#  InvalidIndexError. Otherwise we fall through and re-raise\u001b[39;00m\n\u001b[1;32m   <a href='file:///home/nyuad/miniconda3/envs/RAAD/lib/python3.10/site-packages/pandas/core/indexes/base.py?line=3626'>3627</a>\u001b[0m     \u001b[39m#  the TypeError.\u001b[39;00m\n\u001b[1;32m   <a href='file:///home/nyuad/miniconda3/envs/RAAD/lib/python3.10/site-packages/pandas/core/indexes/base.py?line=3627'>3628</a>\u001b[0m     \u001b[39mself\u001b[39m\u001b[39m.\u001b[39m_check_indexing_error(key)\n",
      "\u001b[0;31mKeyError\u001b[0m: 'Time (ModJDate)'"
     ]
    }
   ],
   "source": [
    "# TimestampArray  = [59621,59671]\n",
    "# TSL = []\n",
    "\n",
    "# for ts in TimestampArray:\n",
    "\n",
    "#     #If the timestamp lies somewhere in March this will use the March file!\n",
    "#     if Time(59639.000000000, format='mjd') <= Time(ts, format='mjd') <= Time(59670.00000000, format='mjd'):\n",
    "#         LocationFile = '../../Data/Location/LIGHT-1_LLA_March.csv'\n",
    "#         LLATData = pd.read_csv(LocationFile)\n",
    "        \n",
    "    \n",
    "#     #If the timestamp lies somewhere in April this will use the April file!\n",
    "#     elif Time(59670.00000000, format='mjd') <= Time(ts, format='mjd') <= Time(59700.00000000, format='mjd'):\n",
    "#         LocationFile = '../../Data/Location/LIGHT-1_LLA_April.csv'\n",
    "#         LLATData = pd.read_csv(LocationFile)\n",
    "    \n",
    "#     #If the timestamp reached does not exist in the range useable, this will skip that specific value only.\n",
    "#     else:\n",
    "#         print(\"The time value given does not exist in the range from March to April!\\nFor reference, the time in mjd should be between 59639.0 and 59700.0\")\n",
    "#         continue #Skips the values not in the range!\n",
    "\n",
    "#     #Telling it to take the time column\n",
    "#     TData = LLATData[\"Time (ModJDate)\"]\n",
    "\n",
    "#     #Start the loop that looks through the file.\n",
    "#     for row in range(len(TData)):\n",
    "\n",
    "#         #If the timestamp exists in the data file, use the location already given, and leave the loop. (Condition 1)\n",
    "#         if ts == TData[row]:\n",
    "#             MaximumData = LLATData.T[row]\n",
    "#             MinimumData = LLATData.T[row]\n",
    "#             break\n",
    "        \n",
    "#         #If the timestamp does not exist in the file, then take the values before and after it, then leave the loop. (Condition 2)\n",
    "#         if TData[row] >= ts:\n",
    "#             MaximumData = LLATData.T[row]\n",
    "#             MinimumData = LLATData.T[row-1]\n",
    "#             break\n",
    "    \n",
    "#     #If Condition 1 is met, this part will not affect any values.\n",
    "#     #Otherwise, if Condition 2 is met, this part will interpolate the values linearly. \n",
    "#     #(Hopefully using different interpolation methods later!)\n",
    "#     TimeRange = [MinimumData[0], MaximumData[0]]\n",
    "#     LongRange = [MinimumData[2], MaximumData[2]]\n",
    "#     LatRange  = [MinimumData[1], MaximumData[1]]\n",
    "#     longitude = np.interp(ts, TimeRange, LongRange)\n",
    "#     latitude = np.interp(ts, TimeRange, LatRange)\n",
    "\n",
    "#     #Append the values into an array.\n",
    "#     TSL.append([ts,longitude,latitude])\n",
    "\n",
    "# print(TSL)"
   ]
  }
 ],
 "metadata": {
  "kernelspec": {
   "display_name": "Python 3.10.5 ('RAAD')",
   "language": "python",
   "name": "python3"
  },
  "language_info": {
   "codemirror_mode": {
    "name": "ipython",
    "version": 3
   },
   "file_extension": ".py",
   "mimetype": "text/x-python",
   "name": "python",
   "nbconvert_exporter": "python",
   "pygments_lexer": "ipython3",
   "version": "3.10.5"
  },
  "orig_nbformat": 4,
  "vscode": {
   "interpreter": {
    "hash": "c8ee6f3c79bc09d894ab301ee71ab966af44a654c7bf0ef6cf52c1d3dd578222"
   }
  }
 },
 "nbformat": 4,
 "nbformat_minor": 2
}

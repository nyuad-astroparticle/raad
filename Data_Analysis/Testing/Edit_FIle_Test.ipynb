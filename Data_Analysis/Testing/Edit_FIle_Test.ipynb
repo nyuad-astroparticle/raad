{
 "cells": [
  {
   "cell_type": "code",
   "execution_count": 34,
   "metadata": {},
   "outputs": [],
   "source": [
    "import os\n",
    "import csv\n",
    "\n",
    "a = 0\n",
    "\n",
    "FileDir = os.path.join(\"Test\")\n",
    "\n",
    "if not os.path.exists(FileDir):\n",
    "    os.makedirs(FileDir)"
   ]
  },
  {
   "cell_type": "code",
   "execution_count": 2,
   "metadata": {},
   "outputs": [],
   "source": [
    "FileBIN = os.path.join(FileDir, f\"Tester.bin\")\n",
    "a = a + 1\n",
    "\n",
    "with open(FileBIN, \"a\") as bf:\n",
    "    bf.write(\"Yes! Value is now \" + str(a))\n",
    "    bf.write(\":>\\n\")"
   ]
  },
  {
   "cell_type": "code",
   "execution_count": 49,
   "metadata": {},
   "outputs": [
    {
     "ename": "TypeError",
     "evalue": "initial_value must be str or None, not bytes",
     "output_type": "error",
     "traceback": [
      "\u001b[0;31m---------------------------------------------------------------------------\u001b[0m",
      "\u001b[0;31mTypeError\u001b[0m                                 Traceback (most recent call last)",
      "\u001b[1;32m/home/nyuad/RAAD/Data_Analysis/Testing/Edit_FIle_Test.ipynb Cell 3'\u001b[0m in \u001b[0;36m<cell line: 11>\u001b[0;34m()\u001b[0m\n\u001b[1;32m     <a href='vscode-notebook-cell:/home/nyuad/RAAD/Data_Analysis/Testing/Edit_FIle_Test.ipynb#ch0000002?line=11'>12</a>\u001b[0m ctb \u001b[39m=\u001b[39m csvfile\u001b[39m.\u001b[39mread(\u001b[39m1024\u001b[39m)\n\u001b[1;32m     <a href='vscode-notebook-cell:/home/nyuad/RAAD/Data_Analysis/Testing/Edit_FIle_Test.ipynb#ch0000002?line=12'>13</a>\u001b[0m csvfile\u001b[39m.\u001b[39mseek(\u001b[39m0\u001b[39m)\n\u001b[0;32m---> <a href='vscode-notebook-cell:/home/nyuad/RAAD/Data_Analysis/Testing/Edit_FIle_Test.ipynb#ch0000002?line=13'>14</a>\u001b[0m has_header \u001b[39m=\u001b[39m csv\u001b[39m.\u001b[39;49mSniffer()\u001b[39m.\u001b[39;49mhas_header(ctb)\n\u001b[1;32m     <a href='vscode-notebook-cell:/home/nyuad/RAAD/Data_Analysis/Testing/Edit_FIle_Test.ipynb#ch0000002?line=14'>15</a>\u001b[0m dialect \u001b[39m=\u001b[39m csv\u001b[39m.\u001b[39mSniffer()\u001b[39m.\u001b[39msniff(ctb)\n\u001b[1;32m     <a href='vscode-notebook-cell:/home/nyuad/RAAD/Data_Analysis/Testing/Edit_FIle_Test.ipynb#ch0000002?line=15'>16</a>\u001b[0m reader \u001b[39m=\u001b[39m csv\u001b[39m.\u001b[39mreader(csvfile, dialect)\n",
      "File \u001b[0;32m~/miniconda3/envs/RAAD/lib/python3.10/csv.py:393\u001b[0m, in \u001b[0;36mSniffer.has_header\u001b[0;34m(self, sample)\u001b[0m\n\u001b[1;32m    <a href='file:///home/nyuad/miniconda3/envs/RAAD/lib/python3.10/csv.py?line=382'>383</a>\u001b[0m \u001b[39mdef\u001b[39;00m \u001b[39mhas_header\u001b[39m(\u001b[39mself\u001b[39m, sample):\n\u001b[1;32m    <a href='file:///home/nyuad/miniconda3/envs/RAAD/lib/python3.10/csv.py?line=383'>384</a>\u001b[0m     \u001b[39m# Creates a dictionary of types of data in each column. If any\u001b[39;00m\n\u001b[1;32m    <a href='file:///home/nyuad/miniconda3/envs/RAAD/lib/python3.10/csv.py?line=384'>385</a>\u001b[0m     \u001b[39m# column is of a single type (say, integers), *except* for the first\u001b[39;00m\n\u001b[0;32m   (...)\u001b[0m\n\u001b[1;32m    <a href='file:///home/nyuad/miniconda3/envs/RAAD/lib/python3.10/csv.py?line=389'>390</a>\u001b[0m     \u001b[39m# Finally, a 'vote' is taken at the end for each column, adding or\u001b[39;00m\n\u001b[1;32m    <a href='file:///home/nyuad/miniconda3/envs/RAAD/lib/python3.10/csv.py?line=390'>391</a>\u001b[0m     \u001b[39m# subtracting from the likelihood of the first row being a header.\u001b[39;00m\n\u001b[0;32m--> <a href='file:///home/nyuad/miniconda3/envs/RAAD/lib/python3.10/csv.py?line=392'>393</a>\u001b[0m     rdr \u001b[39m=\u001b[39m reader(StringIO(sample), \u001b[39mself\u001b[39m\u001b[39m.\u001b[39msniff(sample))\n\u001b[1;32m    <a href='file:///home/nyuad/miniconda3/envs/RAAD/lib/python3.10/csv.py?line=394'>395</a>\u001b[0m     header \u001b[39m=\u001b[39m \u001b[39mnext\u001b[39m(rdr) \u001b[39m# assume first row is header\u001b[39;00m\n\u001b[1;32m    <a href='file:///home/nyuad/miniconda3/envs/RAAD/lib/python3.10/csv.py?line=396'>397</a>\u001b[0m     columns \u001b[39m=\u001b[39m \u001b[39mlen\u001b[39m(header)\n",
      "\u001b[0;31mTypeError\u001b[0m: initial_value must be str or None, not bytes"
     ]
    }
   ],
   "source": [
    "FileCSV = os.path.join(FileDir, f\"Tester 2.csv\")\n",
    "\n",
    "Titles = ['Name', 'ID']\n",
    "Data = ['Becky', '5']\n",
    "\n",
    "# with open(FileCSV, 'ar', newline='') as cf:\n",
    "#     writer = csv.writer(cf)\n",
    "#     writer.writerow(Titles)\n",
    "#     writer.writerow(Data)\n",
    "\n",
    "with open(FileCSV, 'rb') as csvfile:\n",
    "    ctb = csvfile.read(1024)\n",
    "    csvfile.seek(0)\n",
    "    has_header = csv.Sniffer().has_header(ctb)\n",
    "    dialect = csv.Sniffer().sniff(ctb)\n",
    "    reader = csv.reader(csvfile, dialect)\n",
    "    if has_header:\n",
    "        next(reader)\n",
    "    for row in reader:\n",
    "        print(row)\n",
    "\n",
    "# a = a + 1"
   ]
  },
  {
   "cell_type": "code",
   "execution_count": 54,
   "metadata": {},
   "outputs": [
    {
     "name": "stdout",
     "output_type": "stream",
     "text": [
      "False\n",
      "False\n"
     ]
    }
   ],
   "source": [
    "NewFileCheck =  os.path.exists(os.path.join(FileDir, f\"New file.csv\"))\n",
    "\n",
    "print(NewFileCheck)\n",
    "\n",
    "NewFile =       os.path.join(FileDir, f\"New file.csv\")\n",
    "\n",
    "NewFileCheck =  os.path.exists(os.path.join(FileDir, f\"New file.csv\"))\n",
    "\n",
    "print(NewFileCheck)"
   ]
  },
  {
   "cell_type": "code",
   "execution_count": 30,
   "metadata": {},
   "outputs": [
    {
     "ename": "TypeError",
     "evalue": "Jay.Store() missing 3 required positional arguments: 'self', 'fileVer', and 'boo'",
     "output_type": "error",
     "traceback": [
      "\u001b[0;31m---------------------------------------------------------------------------\u001b[0m",
      "\u001b[0;31mTypeError\u001b[0m                                 Traceback (most recent call last)",
      "\u001b[1;32m/home/nyuad/RAAD/Data_Analysis/Testing/Edit_FIle_Test.ipynb Cell 4'\u001b[0m in \u001b[0;36m<cell line: 7>\u001b[0;34m()\u001b[0m\n\u001b[1;32m      <a href='vscode-notebook-cell:/home/nyuad/RAAD/Data_Analysis/Testing/Edit_FIle_Test.ipynb#ch0000003?line=3'>4</a>\u001b[0m     \u001b[39mdef\u001b[39;00m \u001b[39mStore\u001b[39m(\u001b[39mself\u001b[39m, fileVer, boo):\n\u001b[1;32m      <a href='vscode-notebook-cell:/home/nyuad/RAAD/Data_Analysis/Testing/Edit_FIle_Test.ipynb#ch0000003?line=4'>5</a>\u001b[0m         \u001b[39mself\u001b[39m\u001b[39m.\u001b[39mboo \u001b[39m=\u001b[39m boo\n\u001b[0;32m----> <a href='vscode-notebook-cell:/home/nyuad/RAAD/Data_Analysis/Testing/Edit_FIle_Test.ipynb#ch0000003?line=6'>7</a>\u001b[0m bu \u001b[39m=\u001b[39m Jay\u001b[39m.\u001b[39;49mStore()\n",
      "\u001b[0;31mTypeError\u001b[0m: Jay.Store() missing 3 required positional arguments: 'self', 'fileVer', and 'boo'"
     ]
    }
   ],
   "source": []
  },
  {
   "cell_type": "code",
   "execution_count": null,
   "metadata": {},
   "outputs": [],
   "source": []
  },
  {
   "cell_type": "code",
   "execution_count": null,
   "metadata": {},
   "outputs": [],
   "source": []
  }
 ],
 "metadata": {
  "interpreter": {
   "hash": "fba84b2f6821df9bf9de7f49027329fd2a7cd5988eef84c28f5fd450bbe2a7ae"
  },
  "kernelspec": {
   "display_name": "Python 3.10.5 ('base')",
   "language": "python",
   "name": "python3"
  },
  "language_info": {
   "codemirror_mode": {
    "name": "ipython",
    "version": 3
   },
   "file_extension": ".py",
   "mimetype": "text/x-python",
   "name": "python",
   "nbconvert_exporter": "python",
   "pygments_lexer": "ipython3",
   "version": "3.10.5"
  },
  "orig_nbformat": 4
 },
 "nbformat": 4,
 "nbformat_minor": 2
}

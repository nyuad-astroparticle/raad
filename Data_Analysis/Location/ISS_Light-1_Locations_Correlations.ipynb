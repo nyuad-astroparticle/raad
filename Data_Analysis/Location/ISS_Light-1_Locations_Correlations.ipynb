{
 "cells": [
  {
   "cell_type": "code",
   "execution_count": 1,
   "metadata": {},
   "outputs": [
    {
     "name": "stdout",
     "output_type": "stream",
     "text": [
      "\u001b[93mWarning!\u001b[95m Cupy not found! GPU accelleration is not available\u001b[0m\n",
      "\n"
     ]
    }
   ],
   "source": [
    "import pandas as pd\n",
    "import numpy as np\n",
    "from astropy.time import Time\n",
    "from math import radians, cos, sin, asin, sqrt\n",
    "import re\n",
    "import raadpy as rp"
   ]
  },
  {
   "cell_type": "code",
   "execution_count": 2,
   "metadata": {},
   "outputs": [],
   "source": [
    "def haversine(lon1, lat1, lon2, lat2):  #Calculate the great circle distance between two points on the earth \n",
    "                                        #(specified in decimal degrees)\n",
    "    lon1, lat1, lon2, lat2 = map(radians, [lon1, lat1, lon2, lat2]) # convert decimal degrees to radians \n",
    "    # haversine formula \n",
    "    dlon = lon2 - lon1 \n",
    "    dlat = lat2 - lat1 \n",
    "    a = sin(dlat/2)**2 + cos(lat1) * cos(lat2) * sin(dlon/2)**2\n",
    "    c = 2 * asin(sqrt(a)) \n",
    "    r = 6371 # Radius of earth in kilometers. Use 3956 for miles.\n",
    "    return c * r"
   ]
  },
  {
   "cell_type": "code",
   "execution_count": 3,
   "metadata": {},
   "outputs": [],
   "source": [
    "# File of locations of all satellites. Location points per five minutes.\n",
    "Location_File_All_Sats = \"../../Data/Location/ISS_FERMI_Light-1_Locations.csv\"\n",
    "Locations_data_pd = pd.read_csv(Location_File_All_Sats)\n",
    "Locations_headers = list(Locations_data_pd.keys())\n",
    "Locations_data    = [i for i in Locations_data_pd.to_numpy().T]\n",
    "Locations_data    = dict(zip(Locations_headers,Locations_data))\n",
    "\n",
    "# Distance between all sats using great circle distance:\n",
    "distance_ISS_Light1 = [haversine(Locations_data['Lon(deg)Light-1'][i],Locations_data['Lat(deg)Light-1'][i],Locations_data['Lon(deg)ISS'][i],Locations_data['Lat(deg)ISS'][i]) for i in range(len(Locations_data['Time(ModJDate)']))]\n",
    "distance_ISS_Light1 = np.array(distance_ISS_Light1).T\n",
    "distance_FERMI_Light1 = [haversine(Locations_data['Lon(deg)Light-1'][i],Locations_data['Lat(deg)Light-1'][i],Locations_data['Lon(deg)FERMI'][i],Locations_data['Lat(deg)FERMI'][i]) for i in range(len(Locations_data['Time(ModJDate)']))]\n",
    "distance_FERMI_Light1 = np.array(distance_FERMI_Light1).T\n",
    "\n",
    "# Add distances between sats to dict:\n",
    "Locations_data.update({\"ISS_Light-1_Distance(km)\": distance_ISS_Light1})\n",
    "Locations_data.update({\"FERMI_Light-1_Distance(km)\": distance_FERMI_Light1})"
   ]
  },
  {
   "cell_type": "code",
   "execution_count": 86,
   "metadata": {},
   "outputs": [],
   "source": [
    "# Filter data line index and time by distance from Light-1:\n",
    "THRESHOLD_km   = 1000     # Distance threshold (km)\n",
    "\n",
    "ISS_idx_cut     = np.where([i <= THRESHOLD_km for i in distance_ISS_Light1])[0]\n",
    "ISS_time_cut    = Locations_data['Time(ModJDate)'][ISS_idx_cut]\n",
    "\n",
    "FERMI_idx_cut     = np.where([i <= THRESHOLD_km for i in distance_FERMI_Light1])[0]\n",
    "FERMI_time_cut    = Locations_data['Time(ModJDate)'][FERMI_idx_cut]\n",
    "\n",
    "# Format time in MJD and ISOT:\n",
    "ISS_time = [Time(i,format=\"mjd\") for i in ISS_time_cut]\n",
    "ISS_time = [(i.mjd,i.isot) for i in ISS_time]\n",
    "\n",
    "FERMI_time = [Time(i,format=\"mjd\") for i in FERMI_time_cut]\n",
    "FERMI_time = [(i.mjd,i.isot) for i in FERMI_time]"
   ]
  },
  {
   "cell_type": "code",
   "execution_count": 88,
   "metadata": {},
   "outputs": [],
   "source": [
    "# In MJD: .00300 is 5 minutes.. so 0.01 for safety. \n",
    "# This is the threshold that distinguishes two satelite orbit overlaping durations from each other.\n",
    "TIME_THRESHOLD = 0.01\n",
    "\n",
    "num = 0 #for time pronted out: 0 for MJD, 1 for UTC\n",
    "ISS_time_list = [('Start here:', ISS_time[0][num])]\n",
    "ISS_val = 0 # To decide if correlation started at this time or ended at this time.\n",
    "for i in range(len(ISS_time)-1):\n",
    "    if ((ISS_time[i+1][0] - ISS_time[i][0]) >= TIME_THRESHOLD): #must stay in MJD for calculation\n",
    "\n",
    "        if ((ISS_val % 2) == 0): # If val is even or odd\n",
    "            k = (\"End here:\", ISS_time[i][num])\n",
    "            \n",
    "        else:\n",
    "            k = (\"Start here:\", ISS_time[i+1][num])\n",
    "        \n",
    "        ISS_time_list.append(k)\n",
    "        ISS_val = ISS_val + 1\n",
    "k = (\"End here:\", ISS_time[-1][num])\n",
    "ISS_time_list.append(k)\n",
    "\n",
    "\n",
    "FERMI_time_list = [('Start here:', FERMI_time[0][num])]\n",
    "FERMI_val = 0 # To decide if start or end\n",
    "for i in range(len(FERMI_time)-1):\n",
    "    if ((FERMI_time[i+1][0] - FERMI_time[i][0]) >= TIME_THRESHOLD):\n",
    "\n",
    "        if ((FERMI_val % 2) == 0): # If val is even or odd\n",
    "            k = (\"End here:\", FERMI_time[i][num])\n",
    "            \n",
    "        else:\n",
    "            k = (\"Start here:\", FERMI_time[i+1][num])\n",
    "        \n",
    "        FERMI_time_list.append(k)\n",
    "        FERMI_val = FERMI_val + 1\n",
    "k = (\"End here:\", FERMI_time[-1][num])\n",
    "FERMI_time_list.append(k)"
   ]
  },
  {
   "cell_type": "code",
   "execution_count": 47,
   "metadata": {},
   "outputs": [],
   "source": [
    "# ISS_time_list\n",
    "# FERMI_time_list"
   ]
  },
  {
   "cell_type": "code",
   "execution_count": 89,
   "metadata": {},
   "outputs": [],
   "source": [
    "FERMI_Data_During_Light1_Mission = \"../../Data/Other_Sat_Data/FERMI_all_Data_During_Light-1_Mission.csv\"\n",
    "\n",
    "FERMI_data_pd = pd.read_csv(FERMI_Data_During_Light1_Mission)\n",
    "FERMI_Headers = list(FERMI_data_pd.keys())\n",
    "FERMI_data    = [i for i in FERMI_data_pd.to_numpy().T]\n",
    "FERMI_data    = dict(zip(FERMI_Headers,FERMI_data))"
   ]
  },
  {
   "cell_type": "code",
   "execution_count": 90,
   "metadata": {},
   "outputs": [
    {
     "name": "stdout",
     "output_type": "stream",
     "text": [
      "(59892.6063671, 'SGR221109606 ', 16)\n"
     ]
    }
   ],
   "source": [
    "# FERMI_time = [Time(i,format=\"mjd\") for i in FERMI_time_cut]\n",
    "# FERMI_time = [(i.mjd,i.isot) for i in FERMI_time]\n",
    "new_time_threshold = 0.003\n",
    "for i in range(len(FERMI_time_list)-1):\n",
    "    if 'Start' in FERMI_time_list[i][0] and 'End' in FERMI_time_list[i+1][0]:\n",
    "        for k in range(len(FERMI_data['Trigger_Time(MJD)'])-1):\n",
    "            # print (k)\n",
    "            if  (FERMI_time_list[i][1] - new_time_threshold) < FERMI_data['Trigger_Time(MJD)'][k] < (FERMI_time_list[i+1][1] + new_time_threshold):\n",
    "                \n",
    "                Print_line = (FERMI_data['Trigger_Time(MJD)'][k],FERMI_data['Name'][k],FERMI_data['Trigger_Timescale(ms)'][k])\n",
    "                print (Print_line)\n",
    "\n",
    "# now add distance"
   ]
  },
  {
   "cell_type": "code",
   "execution_count": null,
   "metadata": {},
   "outputs": [],
   "source": [
    "# maybe corrilate FERMI data with ASIM later (LIKE WE HAVE IT!!)\n",
    "# We have it now!"
   ]
  },
  {
   "cell_type": "code",
   "execution_count": 4,
   "metadata": {},
   "outputs": [],
   "source": [
    "# 1\n",
    "# New!\n",
    "# ASIM Data:\n",
    "\n",
    "# ASIM's time and location data of TGF detections:\n",
    "Location_File_ASIM     = \"../../Data/Other_Sat_Data/ASIM_TGF_during_Light-1 - Modified.csv\"\n",
    "Locations_ASIM_pd      = pd.read_csv(Location_File_ASIM)\n",
    "Locations_ASIM_headers = list(Locations_ASIM_pd.keys())\n",
    "Locations_ASIM_data    = [i for i in Locations_ASIM_pd.to_numpy().T]\n",
    "Locations_ASIM_data    = dict(zip(Locations_ASIM_headers,Locations_ASIM_data))\n"
   ]
  },
  {
   "cell_type": "code",
   "execution_count": 5,
   "metadata": {},
   "outputs": [
    {
     "data": {
      "text/plain": [
       "array(['2022-04-06 10:55:03.747481', '2022-04-06 16:25:16.880516',\n",
       "       '2022-04-07 13:03:46.122768', '2022-04-11 21:31:12.294797',\n",
       "       '2022-04-13 01:22:35.161010', '2022-04-13 11:27:57.522841',\n",
       "       '2022-04-13 11:29:01.091045', '2022-04-14 11:30:11.402743',\n",
       "       '2022-04-16 19:56:49.742407', '2022-04-16 19:56:51.052508',\n",
       "       '2022-04-16 22:17:01.720787', '2022-04-17 04:28:45.779490',\n",
       "       '2022-04-17 16:05:39.988726', '2022-04-18 15:15:10.343197',\n",
       "       '2022-04-18 19:45:56.878735', '2022-04-19 02:50:13.216817',\n",
       "       '2022-04-19 18:16:43.899827', '2022-04-20 21:22:15.579322',\n",
       "       '2022-04-23 09:44:02.969030', '2022-04-23 18:15:25.252330',\n",
       "       '2022-04-24 20:31:37.097618', '2022-04-27 16:36:54.711633',\n",
       "       '2022-04-29 19:33:44.594455', '2022-05-02 12:42:31.156357',\n",
       "       '2022-05-03 13:29:57.257710', '2022-05-04 14:59:22.639297',\n",
       "       '2022-05-04 14:59:22.849948', '2022-05-04 15:00:07.976305',\n",
       "       '2022-05-04 15:00:38.245823', '2022-05-05 13:30:00.407279',\n",
       "       '2022-05-12 00:53:47.861363', '2022-05-20 08:34:35.802290',\n",
       "       '2022-05-21 07:45:12.619453', '2022-05-21 07:45:41.152001',\n",
       "       '2022-05-21 20:15:25.415605', '2022-05-22 20:14:53.903507',\n",
       "       '2022-05-23 07:45:20.741813', '2022-05-23 13:15:08.953801',\n",
       "       '2022-05-24 19:28:03.944872', '2022-05-30 04:38:45.961051',\n",
       "       '2022-06-02 10:52:22.368635', '2022-06-02 13:51:59.332942',\n",
       "       '2022-06-03 14:32:00.877342', '2022-06-05 23:05:17.982406',\n",
       "       '2022-06-09 13:02:12.140514', '2022-06-10 23:51:37.587703',\n",
       "       '2022-06-13 22:07:25.236512', '2022-06-14 08:59:59.417871',\n",
       "       '2022-06-17 09:48:10.063417', '2022-06-18 07:24:02.700211',\n",
       "       '2022-06-18 19:49:53.233189', '2022-06-18 19:50:40.770187',\n",
       "       '2022-06-18 21:18:47.054882', '2022-06-19 18:16:40.528392',\n",
       "       '2022-06-20 19:50:36.983473', '2022-06-21 06:35:27.417288',\n",
       "       '2022-06-21 06:35:27.417288', '2022-06-21 06:35:27.418198',\n",
       "       '2022-06-22 19:10:15.565575', '2022-06-23 18:14:16.035253',\n",
       "       '2022-06-23 18:57:43.128336', '2022-06-26 06:40:32.528543',\n",
       "       '2022-06-27 11:56:02.656121', '2022-06-27 11:56:02.656121',\n",
       "       '2022-06-27 11:56:02.656367', '2022-06-28 22:41:37.546941',\n",
       "       '2022-06-29 15:13:47.912269', '2022-06-29 19:44:45.082398',\n",
       "       '2022-07-01 04:16:00.061013', '2022-07-01 16:42:13.233430',\n",
       "       '2022-07-03 18:15:05.680913', '2022-07-03 21:13:47.070781',\n",
       "       '2022-07-10 00:15:41.535479', '2022-07-10 11:40:27.576573',\n",
       "       '2022-07-10 18:50:38.461576', '2022-07-12 14:13:50.156742',\n",
       "       '2022-07-12 14:13:50.156742', '2022-07-12 14:13:50.157281',\n",
       "       '2022-07-15 14:01:43.821318', '2022-07-17 21:49:26.486812',\n",
       "       '2022-07-20 05:15:51.028558', '2022-07-21 18:33:30.298080',\n",
       "       '2022-07-23 13:12:42.300925', '2022-07-23 18:31:25.233804',\n",
       "       '2022-07-24 14:46:19.689985', '2022-07-25 20:57:33.773087',\n",
       "       '2022-07-26 12:25:07.165470', '2022-07-26 20:12:28.314501',\n",
       "       '2022-07-26 20:13:09.121832', '2022-07-30 16:57:33.652254',\n",
       "       '2022-08-01 18:37:06.453914', '2022-08-02 17:48:54.339953',\n",
       "       '2022-08-09 17:28:48.422559', '2022-08-14 21:07:23.125072',\n",
       "       '2022-08-15 21:56:01.588218', '2022-08-18 18:57:33.568258',\n",
       "       '2022-08-20 20:24:30.829304', '2022-08-22 09:36:49.357778',\n",
       "       '2022-08-24 17:53:07.574377', '2022-08-25 10:07:39.466347',\n",
       "       '2022-08-30 03:16:04.822293', '2022-08-30 22:22:59.175449',\n",
       "       '2022-09-02 02:21:57.566270', '2022-09-03 02:12:14.150013',\n",
       "       '2022-09-03 10:00:04.579239', '2022-09-05 09:54:28.092576',\n",
       "       '2022-09-06 04:01:07.817389', '2022-09-06 09:14:18.485945',\n",
       "       '2022-09-06 11:35:59.763287', '2022-09-08 09:59:26.379028',\n",
       "       '2022-09-08 12:17:09.152477', '2022-09-09 11:27:19.208134',\n",
       "       '2022-09-10 09:59:18.089784', '2022-09-11 11:27:22.818615',\n",
       "       '2022-09-11 20:05:00.000377', '2022-09-13 09:48:53.951853',\n",
       "       '2022-09-15 19:11:41.322862', '2022-09-16 20:42:57.054294',\n",
       "       '2022-09-18 02:49:15.322701', '2022-09-18 11:30:40.648953',\n",
       "       '2022-09-19 13:42:58.823483', '2022-09-19 19:51:44.113969',\n",
       "       '2022-09-22 01:15:48.144020', '2022-09-22 16:01:38.871982',\n",
       "       '2022-09-23 01:57:03.780706', '2022-09-23 17:28:53.660162',\n",
       "       '2022-09-23 18:14:06.842343', '2022-09-23 23:39:45.334309',\n",
       "       '2022-09-24 02:31:46.688634', '2022-09-25 06:32:53.653785',\n",
       "       '2022-09-26 11:16:01.423703', '2022-09-27 00:17:34.932974',\n",
       "       '2022-09-29 03:23:59.540604', '2022-09-29 16:38:35.511131',\n",
       "       '2022-09-29 17:16:24.795842', '2022-10-03 12:32:27.673097',\n",
       "       '2022-10-04 15:50:10.709918', '2022-10-04 19:36:02.894107',\n",
       "       '2022-10-05 08:46:10.159789', '2022-10-05 12:35:41.018690',\n",
       "       '2022-10-05 12:35:41.018690', '2022-10-05 12:35:41.020124',\n",
       "       '2022-10-08 00:10:36.684186', '2022-10-08 11:46:47.438070',\n",
       "       '2022-10-08 11:46:47.522684', '2022-10-08 23:22:53.841018',\n",
       "       '2022-10-09 00:06:58.711738', '2022-10-09 04:14:01.722618',\n",
       "       '2022-10-09 11:01:24.160654', '2022-10-10 22:36:50.014662',\n",
       "       '2022-10-11 23:15:21.914897', '2022-10-12 01:50:48.613761',\n",
       "       '2022-10-12 21:52:37.348774', '2022-10-14 10:03:10.256119',\n",
       "       '2022-10-14 12:35:27.843083', '2022-10-14 20:58:59.503795',\n",
       "       '2022-10-14 22:27:46.333780', '2022-10-16 10:09:32.936424',\n",
       "       '2022-10-16 20:54:29.207338', '2022-10-18 06:54:27.962431',\n",
       "       '2022-10-18 14:44:47.273942', '2022-10-20 09:22:13.258231',\n",
       "       '2022-10-25 23:57:24.956709', '2022-10-26 17:46:34.964786',\n",
       "       '2022-10-27 11:29:46.608415', '2022-10-30 04:34:46.668094',\n",
       "       '2022-10-31 23:58:20.372752', '2022-11-03 03:02:23.320931',\n",
       "       '2022-11-05 03:41:06.152667', '2022-11-11 07:30:42.967944',\n",
       "       '2022-11-13 16:47:17.966958', '2022-11-13 16:48:10.399520',\n",
       "       '2022-11-16 19:54:40.685041', '2022-11-16 23:46:40.930591',\n",
       "       '2022-11-21 17:25:14.215750', '2022-11-21 21:22:07.060555',\n",
       "       '2022-11-23 18:10:35.590535', '2022-11-24 16:32:42.113848',\n",
       "       '2022-11-26 18:58:50.980710', '2022-11-28 13:22:27.770659',\n",
       "       '2022-11-28 21:51:48.856326', '2022-11-29 11:10:17.408520',\n",
       "       '2022-11-29 11:11:30.547436', '2022-11-30 10:21:31.685673',\n",
       "       '2022-11-30 13:16:31.710340', '2022-12-01 12:40:07.178322',\n",
       "       '2022-12-05 16:30:18.969136', '2022-12-05 16:30:37.219695',\n",
       "       '2022-12-06 03:20:33.763797', '2022-12-06 04:49:35.183230',\n",
       "       '2022-12-09 18:48:41.288367', '2022-12-11 02:28:52.359580',\n",
       "       '2022-12-11 09:26:18.910719', '2022-12-12 10:07:15.653434',\n",
       "       '2022-12-12 10:07:15.653434', '2022-12-12 10:07:15.656554',\n",
       "       '2022-12-12 10:13:48.339960', '2022-12-18 14:46:58.926650',\n",
       "       '2022-12-20 06:59:30.169274', '2022-12-20 14:00:45.842089',\n",
       "       '2022-12-21 00:41:01.072551', '2022-12-21 12:25:55.988381',\n",
       "       '2022-12-23 18:30:39.245449', '2022-12-23 19:17:27.771901',\n",
       "       '2022-12-25 22:18:05.700952', '2022-12-26 20:03:26.884961',\n",
       "       '2022-12-27 10:47:32.106810', '2023-01-01 21:29:08.208560',\n",
       "       '2023-01-03 12:09:59.819472', '2023-01-03 18:17:00.854236',\n",
       "       '2023-01-04 07:32:06.490223', '2023-01-04 17:30:13.960699'],\n",
       "      dtype=object)"
      ]
     },
     "execution_count": 5,
     "metadata": {},
     "output_type": "execute_result"
    }
   ],
   "source": [
    "# 2\n",
    "# IMPORTANT!!\n",
    "# RUN ONCE ONLY! \n",
    "# Then it comment out!\n",
    "# Adding the space so time can be read by astropy.\n",
    "\n",
    "# for i in range(len(Locations_ASIM_pd['####'])):\n",
    "#     timeasim = Locations_ASIM_data['yyyy-MM-ddHH:mm:ss.SSSSSS'][i]\n",
    "#     timeasim = timeasim[0:10]+' '+timeasim[10:] # fixing some issues\n",
    "#     # print (timeasim)\n",
    "#     Locations_ASIM_data['yyyy-MM-ddHH:mm:ss.SSSSSS'][i] = timeasim\n",
    "# Locations_ASIM_data['yyyy-MM-ddHH:mm:ss.SSSSSS']"
   ]
  },
  {
   "cell_type": "code",
   "execution_count": 6,
   "metadata": {},
   "outputs": [],
   "source": [
    "# 3\n",
    "# Add ASIM time in MJD to list:\n",
    "\n",
    "MJD_Time_ASIM = [Time(i,format=\"iso\").mjd for i in Locations_ASIM_data['yyyy-MM-ddHH:mm:ss.SSSSSS']]\n",
    "Locations_ASIM_data.update({\"ASIM-Time-MJD\": MJD_Time_ASIM })"
   ]
  },
  {
   "cell_type": "code",
   "execution_count": 7,
   "metadata": {},
   "outputs": [],
   "source": [
    "# 4\n",
    "# Checking if Light-1 was ON during the detection of a TGF by ASIM:\n",
    "\n",
    "# Open light-1 operations log file (when it was ON and OFF):\n",
    "Light1_log        = '../../Data/METADATA/orbit_meta.csv'\n",
    "Light1_log_pd     = pd.read_csv(Light1_log)\n",
    "Light1_log_header = list(Light1_log_pd.keys())\n",
    "Light1_log_data   = [i for i in Light1_log_pd.to_numpy().T]\n",
    "Light1_log_data   = dict(zip(Light1_log_header,Light1_log_data))\n",
    "\n",
    "# Define a function to check if data in rows are of iso format to point out corrupted lines\n",
    "def is_iso_format(date_str):\n",
    "    iso_regex = re.compile(r'\\d{4}-\\d{2}-\\d{2} \\d{2}:\\d{2}:\\d{2}(\\.\\d+)?(Z|[+-]\\d{2}:\\d{2})?')\n",
    "    return bool(iso_regex.match(date_str))"
   ]
  },
  {
   "cell_type": "code",
   "execution_count": 8,
   "metadata": {},
   "outputs": [],
   "source": [
    "# Use is_iso_format function to sort useful data from not useful\n",
    "\n",
    "Light1_log_status_MJD_list = [] # list of script start and end times in MJD (useful and corrupt)\n",
    "\n",
    "for i in range(len(Light1_log_data['start_time'])):\n",
    "    if is_iso_format(str(Light1_log_data['start_time'][i])) == True:\n",
    "        Log_Start_Time_MJD = Time(Light1_log_data['start_time'][i],format='iso').mjd # turn that date data into MJD format\n",
    "    else: \n",
    "        Log_Start_Time_MJD = 'Corrupt' # call it corrupt\n",
    "\n",
    "    if is_iso_format(str(Light1_log_data['end_time'][i])) == True:\n",
    "        Log_End_Time_MJD = Time(Light1_log_data['end_time'][i],format='iso').mjd\n",
    "    else: \n",
    "        Log_End_Time_MJD = 'Corrupt'\n",
    "\n",
    "    Light1_log_status_MJD = (i,Log_Start_Time_MJD,Log_End_Time_MJD)\n",
    "    Light1_log_status_MJD_list.append(Light1_log_status_MJD)"
   ]
  },
  {
   "cell_type": "code",
   "execution_count": 9,
   "metadata": {},
   "outputs": [],
   "source": [
    "# Arrays to be used for the calculations\n",
    "Locations_ASIM_data_np = np.array(Locations_ASIM_data[\"ASIM-Time-MJD\"])\n",
    "Light1_log_status_MJD_list_np = np.array(Light1_log_status_MJD_list)"
   ]
  },
  {
   "cell_type": "code",
   "execution_count": 10,
   "metadata": {},
   "outputs": [],
   "source": [
    "# Find the times where both ASIM detected a TGF and Light1 was ON\n",
    "\n",
    "Light1_ON_ASIM_TGF_List = []\n",
    "\n",
    "for ASIM_time in range(len(Locations_ASIM_data[\"ASIM-Time-MJD\"])):\n",
    "    for Light1_time in Light1_log_status_MJD_list:\n",
    "        if not isinstance(Light1_time[1],str) and not isinstance(Light1_time[2],str):  # Ignore the corrupt lines which are in str format\n",
    "            if Light1_time[1] <= Locations_ASIM_data[\"ASIM-Time-MJD\"][ASIM_time] <=  Light1_time[2]: # If ASIM detected a TGF during the time of one of Light1's scripts where it was ON..\n",
    "                line_to_print = (Locations_ASIM_data['####'][ASIM_time],Locations_ASIM_data['ASIM-Time-MJD'][ASIM_time],Locations_ASIM_data['Lat'][ASIM_time],Locations_ASIM_data['Lon'][ASIM_time],Light1_time[0],Light1_time[1],Light1_time[2])\n",
    "                # print (line_to_print)\n",
    "                Light1_ON_ASIM_TGF_List.append(line_to_print)"
   ]
  },
  {
   "cell_type": "code",
   "execution_count": 16,
   "metadata": {},
   "outputs": [],
   "source": [
    "# Light1_ON_ASIM_TGF_List"
   ]
  },
  {
   "cell_type": "code",
   "execution_count": 19,
   "metadata": {},
   "outputs": [
    {
     "data": {
      "text/plain": [
       "['2022-05-21 20:15:25.416',\n",
       " '2022-05-22 20:14:53.904',\n",
       " '2022-06-03 14:32:00.877',\n",
       " '2022-06-13 22:07:25.237',\n",
       " '2022-06-14 08:59:59.418',\n",
       " '2022-06-17 09:48:10.063',\n",
       " '2022-06-18 07:24:02.700',\n",
       " '2022-06-20 19:50:36.983',\n",
       " '2022-06-22 19:10:15.566',\n",
       " '2022-06-23 18:14:16.035',\n",
       " '2022-06-29 15:13:47.912',\n",
       " '2022-06-29 19:44:45.082',\n",
       " '2022-07-03 18:15:05.681',\n",
       " '2022-07-03 21:13:47.071',\n",
       " '2022-07-10 00:15:41.535',\n",
       " '2022-07-15 14:01:43.821',\n",
       " '2022-07-23 18:31:25.234',\n",
       " '2022-07-26 20:12:28.315',\n",
       " '2022-07-26 20:13:09.122',\n",
       " '2022-07-30 16:57:33.652',\n",
       " '2022-08-02 17:48:54.340',\n",
       " '2022-08-14 21:07:23.125',\n",
       " '2022-08-20 20:24:30.829',\n",
       " '2022-08-22 09:36:49.358',\n",
       " '2022-08-30 03:16:04.822',\n",
       " '2022-09-03 02:12:14.150',\n",
       " '2022-09-06 09:14:18.486',\n",
       " '2022-09-08 12:17:09.152',\n",
       " '2022-09-11 20:05:00.000',\n",
       " '2022-09-22 16:01:38.872',\n",
       " '2022-09-23 01:57:03.781',\n",
       " '2022-09-23 18:14:06.842',\n",
       " '2022-09-25 06:32:53.654',\n",
       " '2022-09-27 00:17:34.933',\n",
       " '2022-09-29 03:23:59.541',\n",
       " '2022-10-08 00:10:36.684',\n",
       " '2022-10-08 11:46:47.438',\n",
       " '2022-10-08 11:46:47.523',\n",
       " '2022-10-09 00:06:58.712',\n",
       " '2022-10-09 11:01:24.161',\n",
       " '2022-10-12 01:50:48.614',\n",
       " '2022-10-14 12:35:27.843',\n",
       " '2022-11-29 11:10:17.409',\n",
       " '2022-11-29 11:11:30.547',\n",
       " '2022-12-06 03:20:33.764',\n",
       " '2022-12-06 04:49:35.183',\n",
       " '2022-12-09 18:48:41.288',\n",
       " '2022-12-11 09:26:18.911',\n",
       " '2022-12-20 06:59:30.169',\n",
       " '2022-12-20 14:00:45.842',\n",
       " '2022-12-21 00:41:01.073',\n",
       " '2022-12-21 12:25:55.988']"
      ]
     },
     "execution_count": 19,
     "metadata": {},
     "output_type": "execute_result"
    }
   ],
   "source": [
    "# Printing out TGF time only (for viewing)\n",
    "TGF_TIME_ONLY = [Time(i[1],format='mjd').iso for i in Light1_ON_ASIM_TGF_List]\n",
    "TGF_TIME_ONLY"
   ]
  },
  {
   "cell_type": "code",
   "execution_count": 20,
   "metadata": {},
   "outputs": [],
   "source": [
    "# times = [TGF_TIME_ONLY]"
   ]
  },
  {
   "cell_type": "code",
   "execution_count": 154,
   "metadata": {},
   "outputs": [
    {
     "ename": "DatabaseError",
     "evalue": "Execution failed on sql 'SELECT * FROM `LIGHT-1_Position_Data`.PositionData WHERE `Time (ModJDate)` BETWEEN [59744.37487752 59747.40833407] AND [59744.375109   59747.40856555];': (1064, \"You have an error in your SQL syntax; check the manual that corresponds to your MySQL server version for the right syntax to use near '[59744.37487752 59747.40833407] AND [59744.375109   59747.40856555]' at line 1\")",
     "output_type": "error",
     "traceback": [
      "\u001b[0;31m---------------------------------------------------------------------------\u001b[0m",
      "\u001b[0;31mProgrammingError\u001b[0m                          Traceback (most recent call last)",
      "File \u001b[0;32m~/miniconda3/envs/RAAD/lib/python3.10/site-packages/pandas/io/sql.py:2020\u001b[0m, in \u001b[0;36mSQLiteDatabase.execute\u001b[0;34m(self, *args, **kwargs)\u001b[0m\n\u001b[1;32m   2019\u001b[0m \u001b[39mtry\u001b[39;00m:\n\u001b[0;32m-> 2020\u001b[0m     cur\u001b[39m.\u001b[39;49mexecute(\u001b[39m*\u001b[39;49margs, \u001b[39m*\u001b[39;49m\u001b[39m*\u001b[39;49mkwargs)\n\u001b[1;32m   2021\u001b[0m     \u001b[39mreturn\u001b[39;00m cur\n",
      "File \u001b[0;32m~/miniconda3/envs/RAAD/lib/python3.10/site-packages/pymysql/cursors.py:148\u001b[0m, in \u001b[0;36mCursor.execute\u001b[0;34m(self, query, args)\u001b[0m\n\u001b[1;32m    146\u001b[0m query \u001b[39m=\u001b[39m \u001b[39mself\u001b[39m\u001b[39m.\u001b[39mmogrify(query, args)\n\u001b[0;32m--> 148\u001b[0m result \u001b[39m=\u001b[39m \u001b[39mself\u001b[39;49m\u001b[39m.\u001b[39;49m_query(query)\n\u001b[1;32m    149\u001b[0m \u001b[39mself\u001b[39m\u001b[39m.\u001b[39m_executed \u001b[39m=\u001b[39m query\n",
      "File \u001b[0;32m~/miniconda3/envs/RAAD/lib/python3.10/site-packages/pymysql/cursors.py:310\u001b[0m, in \u001b[0;36mCursor._query\u001b[0;34m(self, q)\u001b[0m\n\u001b[1;32m    309\u001b[0m \u001b[39mself\u001b[39m\u001b[39m.\u001b[39m_clear_result()\n\u001b[0;32m--> 310\u001b[0m conn\u001b[39m.\u001b[39;49mquery(q)\n\u001b[1;32m    311\u001b[0m \u001b[39mself\u001b[39m\u001b[39m.\u001b[39m_do_get_result()\n",
      "File \u001b[0;32m~/miniconda3/envs/RAAD/lib/python3.10/site-packages/pymysql/connections.py:548\u001b[0m, in \u001b[0;36mConnection.query\u001b[0;34m(self, sql, unbuffered)\u001b[0m\n\u001b[1;32m    547\u001b[0m \u001b[39mself\u001b[39m\u001b[39m.\u001b[39m_execute_command(COMMAND\u001b[39m.\u001b[39mCOM_QUERY, sql)\n\u001b[0;32m--> 548\u001b[0m \u001b[39mself\u001b[39m\u001b[39m.\u001b[39m_affected_rows \u001b[39m=\u001b[39m \u001b[39mself\u001b[39;49m\u001b[39m.\u001b[39;49m_read_query_result(unbuffered\u001b[39m=\u001b[39;49munbuffered)\n\u001b[1;32m    549\u001b[0m \u001b[39mreturn\u001b[39;00m \u001b[39mself\u001b[39m\u001b[39m.\u001b[39m_affected_rows\n",
      "File \u001b[0;32m~/miniconda3/envs/RAAD/lib/python3.10/site-packages/pymysql/connections.py:775\u001b[0m, in \u001b[0;36mConnection._read_query_result\u001b[0;34m(self, unbuffered)\u001b[0m\n\u001b[1;32m    774\u001b[0m     result \u001b[39m=\u001b[39m MySQLResult(\u001b[39mself\u001b[39m)\n\u001b[0;32m--> 775\u001b[0m     result\u001b[39m.\u001b[39;49mread()\n\u001b[1;32m    776\u001b[0m \u001b[39mself\u001b[39m\u001b[39m.\u001b[39m_result \u001b[39m=\u001b[39m result\n",
      "File \u001b[0;32m~/miniconda3/envs/RAAD/lib/python3.10/site-packages/pymysql/connections.py:1156\u001b[0m, in \u001b[0;36mMySQLResult.read\u001b[0;34m(self)\u001b[0m\n\u001b[1;32m   1155\u001b[0m \u001b[39mtry\u001b[39;00m:\n\u001b[0;32m-> 1156\u001b[0m     first_packet \u001b[39m=\u001b[39m \u001b[39mself\u001b[39;49m\u001b[39m.\u001b[39;49mconnection\u001b[39m.\u001b[39;49m_read_packet()\n\u001b[1;32m   1158\u001b[0m     \u001b[39mif\u001b[39;00m first_packet\u001b[39m.\u001b[39mis_ok_packet():\n",
      "File \u001b[0;32m~/miniconda3/envs/RAAD/lib/python3.10/site-packages/pymysql/connections.py:725\u001b[0m, in \u001b[0;36mConnection._read_packet\u001b[0;34m(self, packet_type)\u001b[0m\n\u001b[1;32m    724\u001b[0m         \u001b[39mself\u001b[39m\u001b[39m.\u001b[39m_result\u001b[39m.\u001b[39munbuffered_active \u001b[39m=\u001b[39m \u001b[39mFalse\u001b[39;00m\n\u001b[0;32m--> 725\u001b[0m     packet\u001b[39m.\u001b[39;49mraise_for_error()\n\u001b[1;32m    726\u001b[0m \u001b[39mreturn\u001b[39;00m packet\n",
      "File \u001b[0;32m~/miniconda3/envs/RAAD/lib/python3.10/site-packages/pymysql/protocol.py:221\u001b[0m, in \u001b[0;36mMysqlPacket.raise_for_error\u001b[0;34m(self)\u001b[0m\n\u001b[1;32m    220\u001b[0m     \u001b[39mprint\u001b[39m(\u001b[39m\"\u001b[39m\u001b[39merrno =\u001b[39m\u001b[39m\"\u001b[39m, errno)\n\u001b[0;32m--> 221\u001b[0m err\u001b[39m.\u001b[39;49mraise_mysql_exception(\u001b[39mself\u001b[39;49m\u001b[39m.\u001b[39;49m_data)\n",
      "File \u001b[0;32m~/miniconda3/envs/RAAD/lib/python3.10/site-packages/pymysql/err.py:143\u001b[0m, in \u001b[0;36mraise_mysql_exception\u001b[0;34m(data)\u001b[0m\n\u001b[1;32m    142\u001b[0m     errorclass \u001b[39m=\u001b[39m InternalError \u001b[39mif\u001b[39;00m errno \u001b[39m<\u001b[39m \u001b[39m1000\u001b[39m \u001b[39melse\u001b[39;00m OperationalError\n\u001b[0;32m--> 143\u001b[0m \u001b[39mraise\u001b[39;00m errorclass(errno, errval)\n",
      "\u001b[0;31mProgrammingError\u001b[0m: (1064, \"You have an error in your SQL syntax; check the manual that corresponds to your MySQL server version for the right syntax to use near '[59744.37487752 59747.40833407] AND [59744.375109   59747.40856555]' at line 1\")",
      "\nThe above exception was the direct cause of the following exception:\n",
      "\u001b[0;31mDatabaseError\u001b[0m                             Traceback (most recent call last)",
      "\u001b[1;32m/home/nyuad/RAAD/Data_Analysis/Location/ISS_Light-1_Locations_Correlations.ipynb Cell 20\u001b[0m in \u001b[0;36m<cell line: 3>\u001b[0;34m()\u001b[0m\n\u001b[1;32m      <a href='vscode-notebook-cell:/home/nyuad/RAAD/Data_Analysis/Location/ISS_Light-1_Locations_Correlations.ipynb#ch0000049?line=0'>1</a>\u001b[0m \u001b[39m# test_asim_time = rp.Time(TGF_TIME_ONLY,format='mjd').T\u001b[39;00m\n\u001b[1;32m      <a href='vscode-notebook-cell:/home/nyuad/RAAD/Data_Analysis/Location/ISS_Light-1_Locations_Correlations.ipynb#ch0000049?line=1'>2</a>\u001b[0m test_asim_time \u001b[39m=\u001b[39m rp\u001b[39m.\u001b[39mTime([\u001b[39m59744.37499326\u001b[39m, \u001b[39m59747.40844981\u001b[39m],\u001b[39mformat\u001b[39m\u001b[39m=\u001b[39m\u001b[39m'\u001b[39m\u001b[39mmjd\u001b[39m\u001b[39m'\u001b[39m)\u001b[39m.\u001b[39mT \n\u001b[0;32m----> <a href='vscode-notebook-cell:/home/nyuad/RAAD/Data_Analysis/Location/ISS_Light-1_Locations_Correlations.ipynb#ch0000049?line=2'>3</a>\u001b[0m loc \u001b[39m=\u001b[39m rp\u001b[39m.\u001b[39;49mget_light1_position(test_asim_time)\n",
      "File \u001b[0;32m~/RAAD/raadpy/src/raadpy/functionality.py:1383\u001b[0m, in \u001b[0;36mget_light1_position\u001b[0;34m(starttime, endtime, n_events, SHORT_TIME)\u001b[0m\n\u001b[1;32m   1380\u001b[0m         \u001b[39mraise\u001b[39;00m \u001b[39mException\u001b[39;00m(\u001b[39m\"\u001b[39m\u001b[39mStart time and End time are not astropy Time object\u001b[39m\u001b[39m\"\u001b[39m)\n\u001b[1;32m   1382\u001b[0m \u001b[39m# Request the data from sql for this time period\u001b[39;00m\n\u001b[0;32m-> 1383\u001b[0m data \u001b[39m=\u001b[39m(send_sql_query_over_ssh(\u001b[39m\"\u001b[39;49m\u001b[39mSELECT * FROM `LIGHT-1_Position_Data`.PositionData WHERE `Time (ModJDate)` BETWEEN \u001b[39;49m\u001b[39m\"\u001b[39;49m \u001b[39m+\u001b[39;49m \u001b[39mstr\u001b[39;49m(starttime\u001b[39m.\u001b[39;49mto_value(\u001b[39m\"\u001b[39;49m\u001b[39mmjd\u001b[39;49m\u001b[39m\"\u001b[39;49m)) \u001b[39m+\u001b[39;49m \u001b[39m\"\u001b[39;49m\u001b[39m AND \u001b[39;49m\u001b[39m\"\u001b[39;49m \u001b[39m+\u001b[39;49m \u001b[39mstr\u001b[39;49m(endtime\u001b[39m.\u001b[39;49mto_value(\u001b[39m\"\u001b[39;49m\u001b[39mmjd\u001b[39;49m\u001b[39m\"\u001b[39;49m)) \u001b[39m+\u001b[39;49m \u001b[39m\"\u001b[39;49m\u001b[39m;\u001b[39;49m\u001b[39m\"\u001b[39;49m))\n\u001b[1;32m   1384\u001b[0m \u001b[39mprint\u001b[39m(\u001b[39m\"\u001b[39m\u001b[39mSELECT * FROM `LIGHT-1_Position_Data`.PositionData WHERE `Time (ModJDate)` BETWEEN \u001b[39m\u001b[39m\"\u001b[39m \u001b[39m+\u001b[39m \u001b[39mstr\u001b[39m(starttime\u001b[39m.\u001b[39mto_value(\u001b[39m\"\u001b[39m\u001b[39mmjd\u001b[39m\u001b[39m\"\u001b[39m)) \u001b[39m+\u001b[39m \u001b[39m\"\u001b[39m\u001b[39m AND \u001b[39m\u001b[39m\"\u001b[39m \u001b[39m+\u001b[39m \u001b[39mstr\u001b[39m(endtime\u001b[39m.\u001b[39mto_value(\u001b[39m\"\u001b[39m\u001b[39mmjd\u001b[39m\u001b[39m\"\u001b[39m)) \u001b[39m+\u001b[39m \u001b[39m\"\u001b[39m\u001b[39m;\u001b[39m\u001b[39m\"\u001b[39m)\n\u001b[1;32m   1386\u001b[0m \u001b[39m# Get the data from the dataframe\u001b[39;00m\n",
      "File \u001b[0;32m~/RAAD/raadpy/src/raadpy/functionality.py:1342\u001b[0m, in \u001b[0;36msend_sql_query_over_ssh\u001b[0;34m(query)\u001b[0m\n\u001b[1;32m   1340\u001b[0m \u001b[39m# Connect to PYSQl Host\u001b[39;00m\n\u001b[1;32m   1341\u001b[0m conn    \u001b[39m=\u001b[39m pymysql\u001b[39m.\u001b[39mconnect(host\u001b[39m=\u001b[39m\u001b[39m'\u001b[39m\u001b[39m127.0.0.1\u001b[39m\u001b[39m'\u001b[39m, user\u001b[39m=\u001b[39m\u001b[39m'\u001b[39m\u001b[39mraad\u001b[39m\u001b[39m'\u001b[39m, passwd\u001b[39m=\u001b[39m\u001b[39m\"\u001b[39m\u001b[39mnyuad123$\u001b[39m\u001b[39m\"\u001b[39m, port\u001b[39m=\u001b[39mtunnel\u001b[39m.\u001b[39mlocal_bind_port)\n\u001b[0;32m-> 1342\u001b[0m data    \u001b[39m=\u001b[39m pd\u001b[39m.\u001b[39;49mread_sql_query(query, conn)    \u001b[39m# Request Data\u001b[39;00m\n\u001b[1;32m   1343\u001b[0m tunnel\u001b[39m.\u001b[39mclose()                              \u001b[39m# Close tunnel\u001b[39;00m\n\u001b[1;32m   1345\u001b[0m \u001b[39mreturn\u001b[39;00m data\n",
      "File \u001b[0;32m~/miniconda3/envs/RAAD/lib/python3.10/site-packages/pandas/io/sql.py:399\u001b[0m, in \u001b[0;36mread_sql_query\u001b[0;34m(sql, con, index_col, coerce_float, params, parse_dates, chunksize, dtype)\u001b[0m\n\u001b[1;32m    341\u001b[0m \u001b[39m\"\"\"\u001b[39;00m\n\u001b[1;32m    342\u001b[0m \u001b[39mRead SQL query into a DataFrame.\u001b[39;00m\n\u001b[1;32m    343\u001b[0m \n\u001b[0;32m   (...)\u001b[0m\n\u001b[1;32m    396\u001b[0m \u001b[39mparameter will be converted to UTC.\u001b[39;00m\n\u001b[1;32m    397\u001b[0m \u001b[39m\"\"\"\u001b[39;00m\n\u001b[1;32m    398\u001b[0m pandas_sql \u001b[39m=\u001b[39m pandasSQL_builder(con)\n\u001b[0;32m--> 399\u001b[0m \u001b[39mreturn\u001b[39;00m pandas_sql\u001b[39m.\u001b[39;49mread_query(\n\u001b[1;32m    400\u001b[0m     sql,\n\u001b[1;32m    401\u001b[0m     index_col\u001b[39m=\u001b[39;49mindex_col,\n\u001b[1;32m    402\u001b[0m     params\u001b[39m=\u001b[39;49mparams,\n\u001b[1;32m    403\u001b[0m     coerce_float\u001b[39m=\u001b[39;49mcoerce_float,\n\u001b[1;32m    404\u001b[0m     parse_dates\u001b[39m=\u001b[39;49mparse_dates,\n\u001b[1;32m    405\u001b[0m     chunksize\u001b[39m=\u001b[39;49mchunksize,\n\u001b[1;32m    406\u001b[0m     dtype\u001b[39m=\u001b[39;49mdtype,\n\u001b[1;32m    407\u001b[0m )\n",
      "File \u001b[0;32m~/miniconda3/envs/RAAD/lib/python3.10/site-packages/pandas/io/sql.py:2080\u001b[0m, in \u001b[0;36mSQLiteDatabase.read_query\u001b[0;34m(self, sql, index_col, coerce_float, params, parse_dates, chunksize, dtype)\u001b[0m\n\u001b[1;32m   2068\u001b[0m \u001b[39mdef\u001b[39;00m \u001b[39mread_query\u001b[39m(\n\u001b[1;32m   2069\u001b[0m     \u001b[39mself\u001b[39m,\n\u001b[1;32m   2070\u001b[0m     sql,\n\u001b[0;32m   (...)\u001b[0m\n\u001b[1;32m   2076\u001b[0m     dtype: DtypeArg \u001b[39m|\u001b[39m \u001b[39mNone\u001b[39;00m \u001b[39m=\u001b[39m \u001b[39mNone\u001b[39;00m,\n\u001b[1;32m   2077\u001b[0m ):\n\u001b[1;32m   2079\u001b[0m     args \u001b[39m=\u001b[39m _convert_params(sql, params)\n\u001b[0;32m-> 2080\u001b[0m     cursor \u001b[39m=\u001b[39m \u001b[39mself\u001b[39;49m\u001b[39m.\u001b[39;49mexecute(\u001b[39m*\u001b[39;49margs)\n\u001b[1;32m   2081\u001b[0m     columns \u001b[39m=\u001b[39m [col_desc[\u001b[39m0\u001b[39m] \u001b[39mfor\u001b[39;00m col_desc \u001b[39min\u001b[39;00m cursor\u001b[39m.\u001b[39mdescription]\n\u001b[1;32m   2083\u001b[0m     \u001b[39mif\u001b[39;00m chunksize \u001b[39mis\u001b[39;00m \u001b[39mnot\u001b[39;00m \u001b[39mNone\u001b[39;00m:\n",
      "File \u001b[0;32m~/miniconda3/envs/RAAD/lib/python3.10/site-packages/pandas/io/sql.py:2032\u001b[0m, in \u001b[0;36mSQLiteDatabase.execute\u001b[0;34m(self, *args, **kwargs)\u001b[0m\n\u001b[1;32m   2029\u001b[0m     \u001b[39mraise\u001b[39;00m ex \u001b[39mfrom\u001b[39;00m \u001b[39minner_exc\u001b[39;00m\n\u001b[1;32m   2031\u001b[0m ex \u001b[39m=\u001b[39m DatabaseError(\u001b[39mf\u001b[39m\u001b[39m\"\u001b[39m\u001b[39mExecution failed on sql \u001b[39m\u001b[39m'\u001b[39m\u001b[39m{\u001b[39;00margs[\u001b[39m0\u001b[39m]\u001b[39m}\u001b[39;00m\u001b[39m'\u001b[39m\u001b[39m: \u001b[39m\u001b[39m{\u001b[39;00mexc\u001b[39m}\u001b[39;00m\u001b[39m\"\u001b[39m)\n\u001b[0;32m-> 2032\u001b[0m \u001b[39mraise\u001b[39;00m ex \u001b[39mfrom\u001b[39;00m \u001b[39mexc\u001b[39;00m\n",
      "\u001b[0;31mDatabaseError\u001b[0m: Execution failed on sql 'SELECT * FROM `LIGHT-1_Position_Data`.PositionData WHERE `Time (ModJDate)` BETWEEN [59744.37487752 59747.40833407] AND [59744.375109   59747.40856555];': (1064, \"You have an error in your SQL syntax; check the manual that corresponds to your MySQL server version for the right syntax to use near '[59744.37487752 59747.40833407] AND [59744.375109   59747.40856555]' at line 1\")"
     ]
    }
   ],
   "source": [
    "# test_asim_time = rp.Time(TGF_TIME_ONLY,format='mjd').T\n",
    "test_asim_time = rp.Time([59744.37499326, 59747.40844981],format='mjd')\n",
    "loc = rp.get_light1_position(test_asim_time)"
   ]
  },
  {
   "cell_type": "code",
   "execution_count": 168,
   "metadata": {},
   "outputs": [],
   "source": [
    "min_time    = rp.Time(min(TGF_TIME_ONLY),format='mjd')\n",
    "max_time    = rp.Time(max(TGF_TIME_ONLY),format='mjd')\n",
    "positions   = rp.get_light1_position(min_time,max_time,n_events=100000)"
   ]
  },
  {
   "cell_type": "code",
   "execution_count": null,
   "metadata": {},
   "outputs": [
    {
     "data": {
      "text/plain": [
       "array([[140.95126373, -38.80447916]])"
      ]
     },
     "execution_count": 156,
     "metadata": {},
     "output_type": "execute_result"
    }
   ],
   "source": [
    "# Interpolate\n",
    "def interpolate(array,timestamps,format='mjd'):\n",
    "    new_array   = rp.array([None]*len(timestamps))\n",
    "    old_time    = array.get_timestamps(format=format)\n",
    "    longs,lats  = array.get_coords().T\n",
    "    for i,t in rp.tqdm(timestamps):\n",
    "        new_array.append(rp.event(\n",
    "            timestamp = rp.Time(t,format=format),\n",
    "            latitude  = np.interp(t,old_time,lats),\n",
    "            longitude = np.interp(t,old_time,longs),\n",
    "            detector_id=0,\n",
    "        ))\n",
    "\n",
    "\n",
    "    return new_array\n",
    "\n",
    "positions = interpolate(positions,TGF_TIME_ONLY)"
   ]
  },
  {
   "cell_type": "code",
   "execution_count": null,
   "metadata": {},
   "outputs": [],
   "source": [
    "for i in range(len(Light1_ON_ASIM_TGF_List)):\n",
    "     \n",
    "    ASIM_TGF_lat    = Light1_ON_ASIM_TGF_List[i][2]\n",
    "    ASIM_TGF_lon    = Light1_ON_ASIM_TGF_List[i][3]\n",
    "    ASIM_MJD_time   = Light1_ON_ASIM_TGF_List[i][1]\n",
    "    if ASIM_MJD_time\n",
    "\n",
    "distance_ISS_Light1 = [haversine(Locations_data['Lon(deg)Light-1'][i],Locations_data['Lat(deg)Light-1'][i],Locations_data['Lon(deg)ISS'][i],Locations_data['Lat(deg)ISS'][i]) for i in range(len(Locations_data['Time(ModJDate)']))]\n",
    "distance_ISS_Light1 = np.array(distance_ISS_Light1).T"
   ]
  },
  {
   "cell_type": "code",
   "execution_count": null,
   "metadata": {},
   "outputs": [],
   "source": [
    "# # Distance between Light-1 and ASIM:\n",
    "# distance_ASIM_Light1 = [haversine(Locations_data['Lon(deg)Light-1'][i],Locations_data['Lat(deg)Light-1'][i],Locations_ASIM_data['Lon'][i],Locations_ASIM_data['Lat'][i]) for i in range(len(Locations_ASIM_data['####']))]\n",
    "# distance_ASIM_Light1 = np.array(distance_ASIM_Light1).T\n",
    "\n",
    "# # Add distances between sats to dict:\n",
    "# Locations_data.update({\"ASIM_Light-1_Distance(km)\": distance_ASIM_Light1})"
   ]
  }
 ],
 "metadata": {
  "kernelspec": {
   "display_name": "Python 3.10.5 ('base')",
   "language": "python",
   "name": "python3"
  },
  "language_info": {
   "codemirror_mode": {
    "name": "ipython",
    "version": 3
   },
   "file_extension": ".py",
   "mimetype": "text/x-python",
   "name": "python",
   "nbconvert_exporter": "python",
   "pygments_lexer": "ipython3",
   "version": "3.10.5"
  },
  "orig_nbformat": 4,
  "vscode": {
   "interpreter": {
    "hash": "fba84b2f6821df9bf9de7f49027329fd2a7cd5988eef84c28f5fd450bbe2a7ae"
   }
  }
 },
 "nbformat": 4,
 "nbformat_minor": 2
}

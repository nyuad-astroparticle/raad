{
 "cells": [
  {
   "cell_type": "markdown",
   "id": "474164d2",
   "metadata": {},
   "source": [
    "# Map Display\n",
    "\n",
    "Here we provide an example of how to use our python library `raadpy` to display TGFs form *fermi* or *light-1* and correlate them with publically available data on lightning strikes from [https://www.blitzortung.org/](https://www.blitzortung.org/). The full code and documentation can be found on our gituhub [**nyuad-astroparticle/raad**](https://github.com/nyuad-astroparticle/raad) as well as with mock datasets that can be used to learn how to use `raadpy` for data analysis.\n",
    "\n",
    "In this document we are using data from the **Fermi** mission to get a collection of TGF (Terrestrial Gamma-Ray Flash) signals. We then load the data in `raadpy-arrays` and use the builtin function to plot. We also use the building function to collect the lightning data from the internet and correlate what lighnings happened within this time interval. "
   ]
  },
  {
   "cell_type": "code",
   "execution_count": 14,
   "id": "025c2c97",
   "metadata": {},
   "outputs": [
    {
     "name": "stdout",
     "output_type": "stream",
     "text": [
      "    0 Lightning: -79.891498 | Mission: Blitzurtong\n",
      "        Timestamp (ISO): 2021-06-28 01:37:54.938\n",
      "        Lat:   14.9226 \t Long:  -79.8915\n",
      "        Detector_id: Blitz\n",
      "        \n",
      "    1 Lightning: -90.06834 | Mission: Blitzurtong\n",
      "        Timestamp (ISO): 2021-06-28 01:37:53.891\n",
      "        Lat:   33.1204 \t Long:  -90.0683\n",
      "        Detector_id: Blitz\n",
      "        \n",
      "    2 Lightning: -90.026664 | Mission: Blitzurtong\n",
      "        Timestamp (ISO): 2021-06-28 01:37:53.892\n",
      "        Lat:   33.2297 \t Long:  -90.0267\n",
      "        Detector_id: Blitz\n",
      "        \n",
      "    3 Lightning: -90.245875 | Mission: Blitzurtong\n",
      "        Timestamp (ISO): 2021-06-28 01:37:54.287\n",
      "        Lat:   21.2897 \t Long:  -90.2459\n",
      "        Detector_id: Blitz\n",
      "        \n",
      "    4 Lightning: -79.895168 | Mission: Blitzurtong\n",
      "        Timestamp (ISO): 2021-06-28 01:37:54.938\n",
      "        Lat:   14.9215 \t Long:  -79.8952\n",
      "        Detector_id: Blitz\n",
      "        \n",
      "    5 Lightning: -93.797868 | Mission: Blitzurtong\n",
      "        Timestamp (ISO): 2021-06-28 01:37:55.242\n",
      "        Lat:   35.4030 \t Long:  -93.7979\n",
      "        Detector_id: Blitz\n",
      "        \n",
      "    6 Lightning: -93.813384 | Mission: Blitzurtong\n",
      "        Timestamp (ISO): 2021-06-28 01:37:55.242\n",
      "        Lat:   35.4195 \t Long:  -93.8134\n",
      "        Detector_id: Blitz\n",
      "        \n",
      "    7 Lightning: -93.814553 | Mission: Blitzurtong\n",
      "        Timestamp (ISO): 2021-06-28 01:37:55.356\n",
      "        Lat:   35.5046 \t Long:  -93.8146\n",
      "        Detector_id: Blitz\n",
      "        \n",
      "\n",
      "[-0.498408370648562, 0.5482131904049226, 0.5481736129148373, 0.1525997584678862, -0.4984076553967043, -0.8023183876598949, -0.8023253017995557, -0.9163008267023542]\n"
     ]
    },
    {
     "data": {},
     "metadata": {},
     "output_type": "display_data"
    },
    {
     "data": {
      "application/vnd.holoviews_exec.v0+json": "",
      "text/html": [
       "<div id='1820'>\n",
       "\n",
       "\n",
       "\n",
       "\n",
       "\n",
       "  <div class=\"bk-root\" id=\"f7de5d54-6e0e-4a41-8df6-2f579d9f0337\" data-root-id=\"1820\"></div>\n",
       "</div>\n",
       "<script type=\"application/javascript\">(function(root) {\n",
       "  function embed_document(root) {\n",
       "    var docs_json = {\"59da583a-f4cd-4b59-b2d2-992a83f8e271\":{\"defs\":[{\"extends\":null,\"module\":null,\"name\":\"ReactiveHTML1\",\"overrides\":[],\"properties\":[]},{\"extends\":null,\"module\":null,\"name\":\"FlexBox1\",\"overrides\":[],\"properties\":[{\"default\":\"flex-start\",\"kind\":null,\"name\":\"align_content\"},{\"default\":\"flex-start\",\"kind\":null,\"name\":\"align_items\"},{\"default\":\"row\",\"kind\":null,\"name\":\"flex_direction\"},{\"default\":\"wrap\",\"kind\":null,\"name\":\"flex_wrap\"},{\"default\":\"flex-start\",\"kind\":null,\"name\":\"justify_content\"}]},{\"extends\":null,\"module\":null,\"name\":\"TemplateActions1\",\"overrides\":[],\"properties\":[{\"default\":0,\"kind\":null,\"name\":\"open_modal\"},{\"default\":0,\"kind\":null,\"name\":\"close_modal\"}]},{\"extends\":null,\"module\":null,\"name\":\"MaterialTemplateActions1\",\"overrides\":[],\"properties\":[{\"default\":0,\"kind\":null,\"name\":\"open_modal\"},{\"default\":0,\"kind\":null,\"name\":\"close_modal\"}]}],\"roots\":{\"references\":[{\"attributes\":{\"tools\":[{\"id\":\"1834\"},{\"id\":\"1835\"},{\"id\":\"1862\"},{\"id\":\"1863\"}]},\"id\":\"1865\",\"type\":\"Toolbar\"},{\"attributes\":{\"source\":{\"id\":\"1914\"}},\"id\":\"1921\",\"type\":\"CDSView\"},{\"attributes\":{\"source\":{\"id\":\"1898\"}},\"id\":\"1905\",\"type\":\"CDSView\"},{\"attributes\":{\"coordinates\":null,\"data_source\":{\"id\":\"1914\"},\"glyph\":{\"id\":\"1917\"},\"group\":null,\"hover_glyph\":null,\"muted_glyph\":{\"id\":\"1919\"},\"nonselection_glyph\":{\"id\":\"1918\"},\"selection_glyph\":{\"id\":\"1922\"},\"view\":{\"id\":\"1921\"}},\"id\":\"1920\",\"type\":\"GlyphRenderer\"},{\"attributes\":{\"match_aspect\":true,\"overlay\":{\"id\":\"1864\"}},\"id\":\"1835\",\"type\":\"BoxZoomTool\"},{\"attributes\":{\"fill_alpha\":{\"value\":0.1},\"fill_color\":{\"value\":\"red\"},\"hatch_alpha\":{\"value\":0.1},\"hatch_color\":{\"value\":\"red\"},\"line_alpha\":{\"value\":0.1},\"line_color\":{\"value\":\"red\"},\"marker\":{\"value\":\"cross\"},\"size\":{\"value\":7},\"x\":{\"field\":\"Longitude\"},\"y\":{\"field\":\"Latitude\"}},\"id\":\"1918\",\"type\":\"Scatter\"},{\"attributes\":{},\"id\":\"1886\",\"type\":\"AllLabels\"},{\"attributes\":{\"dimension\":\"lon\"},\"id\":\"1874\",\"type\":\"MercatorTickFormatter\"},{\"attributes\":{\"zoom_on_axis\":false},\"id\":\"1834\",\"type\":\"WheelZoomTool\"},{\"attributes\":{\"angle\":{\"value\":0.0},\"fill_alpha\":{\"value\":1.0},\"fill_color\":{\"value\":\"red\"},\"hatch_alpha\":{\"value\":1.0},\"hatch_color\":{\"value\":\"red\"},\"hatch_scale\":{\"value\":12.0},\"hatch_weight\":{\"value\":1.0},\"line_alpha\":{\"value\":1.0},\"line_cap\":{\"value\":\"butt\"},\"line_color\":{\"value\":\"red\"},\"line_dash\":{\"value\":[]},\"line_dash_offset\":{\"value\":0},\"line_join\":{\"value\":\"bevel\"},\"line_width\":{\"value\":1},\"marker\":{\"value\":\"cross\"},\"size\":{\"value\":7},\"x\":{\"field\":\"Longitude\"},\"y\":{\"field\":\"Latitude\"}},\"id\":\"1922\",\"type\":\"Scatter\"},{\"attributes\":{\"axis_label\":\"Longitude\",\"coordinates\":null,\"formatter\":{\"id\":\"1874\"},\"group\":null,\"major_label_policy\":{\"id\":\"1879\"},\"ticker\":{\"id\":\"1873\"}},\"id\":\"1853\",\"type\":\"LinearAxis\"},{\"attributes\":{\"data\":{\"Latitude\":{\"__ndarray__\":\"dQ1XVpajOUF2x2ilQtdNQerEHZSn801BS74bsimDQkGkUU1LHqM5QVVRYzbmF1BBE5HAUxwaUEFQZgEvdiVQQQ==\",\"dtype\":\"float64\",\"order\":\"little\",\"shape\":[8]},\"Longitude\":{\"__ndarray__\":\"38cIHIX2YMGbR9o3rx9jwRoVnkxrHWPBD/o8m1UpY8FIMmUtuPZgwXV251xn6mPBeP5dRD/rY8EaT5uIT+tjwQ==\",\"dtype\":\"float64\",\"order\":\"little\",\"shape\":[8]}},\"selected\":{\"id\":\"1915\"},\"selection_policy\":{\"id\":\"1928\"}},\"id\":\"1914\",\"type\":\"ColumnDataSource\"},{\"attributes\":{},\"id\":\"1899\",\"type\":\"Selection\"},{\"attributes\":{},\"id\":\"1928\",\"type\":\"UnionRenderers\"},{\"attributes\":{\"fill_alpha\":{\"value\":0.1},\"fill_color\":{\"value\":\"Blue\"},\"hatch_alpha\":{\"value\":0.1},\"hatch_color\":{\"value\":\"Blue\"},\"line_alpha\":{\"value\":0.1},\"line_color\":{\"value\":\"Blue\"},\"marker\":{\"value\":\"cross\"},\"size\":{\"value\":7},\"x\":{\"field\":\"Longitude\"},\"y\":{\"field\":\"Latitude\"}},\"id\":\"1902\",\"type\":\"Scatter\"},{\"attributes\":{\"axis\":{\"id\":\"1853\"},\"coordinates\":null,\"grid_line_color\":null,\"group\":null,\"ticker\":null},\"id\":\"1856\",\"type\":\"Grid\"},{\"attributes\":{},\"id\":\"1863\",\"type\":\"ResetTool\"},{\"attributes\":{},\"id\":\"1862\",\"type\":\"PanTool\"},{\"attributes\":{\"coordinates\":null,\"group\":null,\"text_color\":\"black\",\"text_font_size\":\"12pt\"},\"id\":\"1845\",\"type\":\"Title\"},{\"attributes\":{\"axis_label\":\"Latitude\",\"coordinates\":null,\"formatter\":{\"id\":\"1876\"},\"group\":null,\"major_label_policy\":{\"id\":\"1886\"},\"ticker\":{\"id\":\"1875\"}},\"id\":\"1857\",\"type\":\"LinearAxis\"},{\"attributes\":{\"coordinates\":null,\"group\":null,\"level\":\"underlay\",\"tile_source\":{\"id\":\"1891\"}},\"id\":\"1894\",\"type\":\"TileRenderer\"},{\"attributes\":{\"axis\":{\"id\":\"1857\"},\"coordinates\":null,\"dimension\":1,\"grid_line_color\":null,\"group\":null,\"ticker\":null},\"id\":\"1860\",\"type\":\"Grid\"},{\"attributes\":{\"margin\":[5,5,5,5],\"name\":\"HSpacer08567\",\"sizing_mode\":\"stretch_width\"},\"id\":\"1821\",\"type\":\"Spacer\"},{\"attributes\":{},\"id\":\"1915\",\"type\":\"Selection\"},{\"attributes\":{\"coordinates\":null,\"data_source\":{\"id\":\"1898\"},\"glyph\":{\"id\":\"1901\"},\"group\":null,\"hover_glyph\":null,\"muted_glyph\":{\"id\":\"1903\"},\"nonselection_glyph\":{\"id\":\"1902\"},\"selection_glyph\":{\"id\":\"1906\"},\"view\":{\"id\":\"1905\"}},\"id\":\"1904\",\"type\":\"GlyphRenderer\"},{\"attributes\":{},\"id\":\"1849\",\"type\":\"LinearScale\"},{\"attributes\":{\"fill_color\":{\"value\":\"Blue\"},\"hatch_color\":{\"value\":\"Blue\"},\"line_color\":{\"value\":\"Blue\"},\"marker\":{\"value\":\"cross\"},\"size\":{\"value\":7},\"x\":{\"field\":\"Longitude\"},\"y\":{\"field\":\"Latitude\"}},\"id\":\"1901\",\"type\":\"Scatter\"},{\"attributes\":{\"fill_color\":{\"value\":\"red\"},\"hatch_color\":{\"value\":\"red\"},\"line_color\":{\"value\":\"red\"},\"marker\":{\"value\":\"cross\"},\"size\":{\"value\":7},\"x\":{\"field\":\"Longitude\"},\"y\":{\"field\":\"Latitude\"}},\"id\":\"1917\",\"type\":\"Scatter\"},{\"attributes\":{\"children\":[{\"id\":\"1821\"},{\"id\":\"1844\"},{\"id\":\"1995\"}],\"margin\":[0,0,0,0],\"name\":\"Row08563\",\"tags\":[\"embedded\"]},\"id\":\"1820\",\"type\":\"Row\"},{\"attributes\":{\"dimension\":\"lat\"},\"id\":\"1876\",\"type\":\"MercatorTickFormatter\"},{\"attributes\":{\"below\":[{\"id\":\"1853\"}],\"center\":[{\"id\":\"1856\"},{\"id\":\"1860\"}],\"height\":900,\"left\":[{\"id\":\"1857\"}],\"margin\":[5,5,5,5],\"min_border_bottom\":10,\"min_border_left\":10,\"min_border_right\":10,\"min_border_top\":10,\"renderers\":[{\"id\":\"1894\"},{\"id\":\"1904\"},{\"id\":\"1910\"},{\"id\":\"1920\"}],\"sizing_mode\":\"fixed\",\"title\":{\"id\":\"1845\"},\"toolbar\":{\"id\":\"1865\"},\"width\":1300,\"x_range\":{\"id\":\"1832\"},\"x_scale\":{\"id\":\"1849\"},\"y_range\":{\"id\":\"1833\"},\"y_scale\":{\"id\":\"1851\"}},\"id\":\"1844\",\"subtype\":\"Figure\",\"type\":\"Plot\"},{\"attributes\":{\"margin\":[5,5,5,5],\"name\":\"HSpacer08568\",\"sizing_mode\":\"stretch_width\"},\"id\":\"1995\",\"type\":\"Spacer\"},{\"attributes\":{\"bottom_units\":\"screen\",\"coordinates\":null,\"fill_alpha\":0.5,\"fill_color\":\"lightgrey\",\"group\":null,\"left_units\":\"screen\",\"level\":\"overlay\",\"line_alpha\":1.0,\"line_color\":\"black\",\"line_dash\":[4,4],\"line_width\":2,\"right_units\":\"screen\",\"syncable\":false,\"top_units\":\"screen\"},\"id\":\"1864\",\"type\":\"BoxAnnotation\"},{\"attributes\":{},\"id\":\"1851\",\"type\":\"LinearScale\"},{\"attributes\":{\"fill_alpha\":{\"value\":0.2},\"fill_color\":{\"value\":\"Blue\"},\"hatch_alpha\":{\"value\":0.2},\"hatch_color\":{\"value\":\"Blue\"},\"line_alpha\":{\"value\":0.2},\"line_color\":{\"value\":\"Blue\"},\"marker\":{\"value\":\"cross\"},\"size\":{\"value\":7},\"x\":{\"field\":\"Longitude\"},\"y\":{\"field\":\"Latitude\"}},\"id\":\"1903\",\"type\":\"Scatter\"},{\"attributes\":{},\"id\":\"1879\",\"type\":\"AllLabels\"},{\"attributes\":{\"data\":{\"Latitude\":{\"__ndarray__\":\"7vWZRRRGNkE=\",\"dtype\":\"float64\",\"order\":\"little\",\"shape\":[1]},\"Longitude\":{\"__ndarray__\":\"mozTiQueYsE=\",\"dtype\":\"float64\",\"order\":\"little\",\"shape\":[1]}},\"selected\":{\"id\":\"1899\"},\"selection_policy\":{\"id\":\"1926\"}},\"id\":\"1898\",\"type\":\"ColumnDataSource\"},{\"attributes\":{\"dimension\":\"lat\"},\"id\":\"1875\",\"type\":\"MercatorTicker\"},{\"attributes\":{\"fill_alpha\":{\"value\":0.2},\"fill_color\":{\"value\":\"red\"},\"hatch_alpha\":{\"value\":0.2},\"hatch_color\":{\"value\":\"red\"},\"line_alpha\":{\"value\":0.2},\"line_color\":{\"value\":\"red\"},\"marker\":{\"value\":\"cross\"},\"size\":{\"value\":7},\"x\":{\"field\":\"Longitude\"},\"y\":{\"field\":\"Latitude\"}},\"id\":\"1919\",\"type\":\"Scatter\"},{\"attributes\":{\"attribution\":\"&copy; <a href=\\\"https://www.openstreetmap.org/copyright\\\">OpenStreetMap</a> contributors\",\"url\":\"https://c.tile.openstreetmap.org/{Z}/{X}/{Y}.png\"},\"id\":\"1907\",\"type\":\"WMTSTileSource\"},{\"attributes\":{\"attribution\":\"&copy; <a href=\\\"https://www.openstreetmap.org/copyright\\\">OpenStreetMap</a> contributors\",\"url\":\"https://c.tile.openstreetmap.org/{Z}/{X}/{Y}.png\"},\"id\":\"1891\",\"type\":\"WMTSTileSource\"},{\"attributes\":{},\"id\":\"1926\",\"type\":\"UnionRenderers\"},{\"attributes\":{\"dimension\":\"lon\"},\"id\":\"1873\",\"type\":\"MercatorTicker\"},{\"attributes\":{\"end\":20037508.342789244,\"min_interval\":5,\"reset_end\":20037508.342789244,\"reset_start\":-20037508.342789244,\"start\":-20037508.342789244,\"tags\":[[[\"Longitude\",\"Longitude\",null]]]},\"id\":\"1832\",\"type\":\"Range1d\"},{\"attributes\":{\"angle\":{\"value\":0.0},\"fill_alpha\":{\"value\":1.0},\"fill_color\":{\"value\":\"Blue\"},\"hatch_alpha\":{\"value\":1.0},\"hatch_color\":{\"value\":\"Blue\"},\"hatch_scale\":{\"value\":12.0},\"hatch_weight\":{\"value\":1.0},\"line_alpha\":{\"value\":1.0},\"line_cap\":{\"value\":\"butt\"},\"line_color\":{\"value\":\"Blue\"},\"line_dash\":{\"value\":[]},\"line_dash_offset\":{\"value\":0},\"line_join\":{\"value\":\"bevel\"},\"line_width\":{\"value\":1},\"marker\":{\"value\":\"cross\"},\"size\":{\"value\":7},\"x\":{\"field\":\"Longitude\"},\"y\":{\"field\":\"Latitude\"}},\"id\":\"1906\",\"type\":\"Scatter\"},{\"attributes\":{\"coordinates\":null,\"group\":null,\"level\":\"underlay\",\"tile_source\":{\"id\":\"1907\"}},\"id\":\"1910\",\"type\":\"TileRenderer\"},{\"attributes\":{\"end\":20037508.342789248,\"min_interval\":5,\"reset_end\":20037508.342789248,\"reset_start\":-20037508.342789248,\"start\":-20037508.342789248,\"tags\":[[[\"Latitude\",\"Latitude\",null]]]},\"id\":\"1833\",\"type\":\"Range1d\"}],\"root_ids\":[\"1820\"]},\"title\":\"Bokeh Application\",\"version\":\"2.4.2\"}};\n",
       "    var render_items = [{\"docid\":\"59da583a-f4cd-4b59-b2d2-992a83f8e271\",\"root_ids\":[\"1820\"],\"roots\":{\"1820\":\"f7de5d54-6e0e-4a41-8df6-2f579d9f0337\"}}];\n",
       "    root.Bokeh.embed.embed_items_notebook(docs_json, render_items);\n",
       "  }\n",
       "  if (root.Bokeh !== undefined && root.Bokeh.Panel !== undefined) {\n",
       "    embed_document(root);\n",
       "  } else {\n",
       "    var attempts = 0;\n",
       "    var timer = setInterval(function(root) {\n",
       "      if (root.Bokeh !== undefined && root.Bokeh.Panel !== undefined) {\n",
       "        clearInterval(timer);\n",
       "        embed_document(root);\n",
       "      } else if (document.readyState == \"complete\") {\n",
       "        attempts++;\n",
       "        if (attempts > 200) {\n",
       "          clearInterval(timer);\n",
       "          console.log(\"Bokeh: ERROR: Unable to run BokehJS code because BokehJS library is missing\");\n",
       "        }\n",
       "      }\n",
       "    }, 25, root)\n",
       "  }\n",
       "})(window);</script>"
      ],
      "text/plain": [
       ":Overlay\n",
       "   .WMTS.I    :WMTS   [Longitude,Latitude]\n",
       "   .Points.I  :Points   [Longitude,Latitude]\n",
       "   .WMTS.II   :WMTS   [Longitude,Latitude]\n",
       "   .Points.II :Points   [Longitude,Latitude]"
      ]
     },
     "execution_count": 14,
     "metadata": {
      "application/vnd.holoviews_exec.v0+json": {
       "id": "1820"
      }
     },
     "output_type": "execute_result"
    }
   ],
   "source": [
    "# Import our raad library\n",
    "import raadpy as  rp\n",
    "\n",
    "# Load the TGF DATA (either from fermi or Light-1)\n",
    "# Convert the data to our own TGF class\n",
    "tgf_filename    = \"../TGF_data_for_research/Fermi TGF Catalog/+2011-Fermi-TGF-Data_t1.txt\"\n",
    "light_filename  = \"../TGF_data_for_research/Data_from_Blitzurtong/2021-06-28.txt\" \n",
    "\n",
    "# Load the data\n",
    "tgfs    = rp.array(filename=tgf_filename,event_type='fermi')         # Load the TGF data\n",
    "lights  = rp.array(filename=light_filename,event_type='lightning')   # Load the lightning data\n",
    "\n",
    "# Take a random datapoint and find the closest lightning strikes\n",
    "near = rp.get_nearby_lightning(tgfs[0],lightnings=lights,threshold=1)\n",
    "\n",
    "# Create an array with the time differences between the \n",
    "# lightning strikes and the tgf\n",
    "time_difference = [tgfs[0].timestamp - light.timestamp for light in near]\n",
    "\n",
    "# Print the closest lightnings\n",
    "print(near)\n",
    "\n",
    "# Print the time difference\n",
    "print([t.sec for t in time_difference])\n",
    "\n",
    "# Plot them in a map\n",
    "rp.map(tgfs[0],near)\n"
   ]
  }
 ],
 "metadata": {
  "kernelspec": {
   "display_name": "Python 3 (ipykernel)",
   "language": "python",
   "name": "python3"
  },
  "language_info": {
   "codemirror_mode": {
    "name": "ipython",
    "version": 3
   },
   "file_extension": ".py",
   "mimetype": "text/x-python",
   "name": "python",
   "nbconvert_exporter": "python",
   "pygments_lexer": "ipython3",
   "version": "3.10.2"
  }
 },
 "nbformat": 4,
 "nbformat_minor": 5
}

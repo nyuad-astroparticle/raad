{
 "cells": [
  {
   "cell_type": "markdown",
   "metadata": {},
   "source": [
    "# Download all the Cubesat data\n",
    "\n",
    "Using ONLY sequence numbers because NA is only providing us with a sequence number (yey?)"
   ]
  },
  {
   "cell_type": "code",
   "execution_count": 1,
   "metadata": {},
   "outputs": [],
   "source": [
    "# Import libraries\n",
    "import raadpy as rp\n",
    "import numpy as np\n",
    "import matplotlib.pyplot as plt\n",
    "from tqdm.notebook import tqdm"
   ]
  },
  {
   "cell_type": "code",
   "execution_count": 2,
   "metadata": {},
   "outputs": [],
   "source": [
    "# Download based on sequence number\n",
    "def download_seq_nr(fileName:str,start:int=0,end:int=None,MAX:int=5000):\n",
    "    # Input processing\n",
    "    if end is None: end = float('inf')\n",
    "    \n",
    "    # Sequence number and other stuff init\n",
    "    seq         = start\n",
    "    host        = \"https://light1.mcs.nanoavionics.com\"\n",
    "    url         = f'{host}/{fileName}_download?'\n",
    "    \n",
    "    # Initialize array to hold the buffer raw data\n",
    "    data        = []\n",
    "    \n",
    "    # Do unless interrupted\n",
    "    while seq < end:\n",
    "        # Find the query for NA Server\n",
    "        query       = f'seq_nr=gt.{seq}&seq_nr=lte.{seq+MAX}'\n",
    "        new_data    = rp.download_range(url+query,token=rp.TOKEN,limit=-1,VERBOSE=True)\n",
    "        \n",
    "        # Update variables\n",
    "        data        = data + new_data\n",
    "        seq         = seq + MAX\n",
    "\n",
    "        # Exit condition with searching one last time\n",
    "        if len(new_data) == 0:\n",
    "            data = rp.sort(data)    # Sort by \"entry_nr\"\n",
    "            break\n",
    "\n",
    "    return data\n",
    "\n",
    "# Download script packet\n",
    "def download_data(filepath:str='./',buffers=range(1,8),MAX:int=5000):\n",
    "    # List that holds all the filenames\n",
    "    filenames = []\n",
    "\n",
    "    # First go ahead and download all the buffers\n",
    "    for buffer in tqdm(buffers,desc='Downloading Buffer'):\n",
    "        # Download the data of the buffer\n",
    "        fileName    = \"pc_buff\"+str(buffer)\n",
    "        data        = download_seq_nr(fileName,MAX=MAX)\n",
    "\n",
    "        # Save the data of the buffer\n",
    "        fname   = rp.save_raw_data(data,filepath=filepath,buffer=buffer)\n",
    "        filenames.append(fname)\n",
    "\n",
    "    # Download the script log\n",
    "    log         = download_seq_nr('pc_se0_log')\n",
    "    log         = rp.log_to_ascii(log,fileName=filepath+'light1-se-log.txt')\n",
    "    decoded_log = rp.log_expand(text=log)\n",
    "\n",
    "    # Extract the metadata from the logfile\n",
    "    metadata = rp.log_metadata(decoded_log=decoded_log)\n",
    "\n",
    "    # Save the datafile as a json on the same directory\n",
    "    with open(filepath + \"metadata.json\",\"w\") as meta_file: rp.json.dump(metadata,meta_file,indent=4)\n",
    "\n",
    "    return metadata"
   ]
  },
  {
   "cell_type": "code",
   "execution_count": 3,
   "metadata": {},
   "outputs": [
    {
     "name": "stdout",
     "output_type": "stream",
     "text": [
      "Current File:  https://light1.mcs.nanoavionics.com/pc_buff1_download?seq_nr=gt.0&seq_nr=lte.5000 \n",
      "Entries Downloaded: 0 \n",
      "Last Sequence Number: -1 \n",
      "Iterations: 0\n",
      "Bytes per entry:  []\n"
     ]
    }
   ],
   "source": [
    "download_data()"
   ]
  },
  {
   "cell_type": "code",
   "execution_count": null,
   "metadata": {},
   "outputs": [],
   "source": []
  }
 ],
 "metadata": {
  "kernelspec": {
   "display_name": "base",
   "language": "python",
   "name": "python3"
  },
  "language_info": {
   "codemirror_mode": {
    "name": "ipython",
    "version": 3
   },
   "file_extension": ".py",
   "mimetype": "text/x-python",
   "name": "python",
   "nbconvert_exporter": "python",
   "pygments_lexer": "ipython3",
   "version": "3.10.6"
  },
  "orig_nbformat": 4,
  "vscode": {
   "interpreter": {
    "hash": "3fd2e6389a0fd7c635319bf7383768acfaf026bf5f56a6bed54341f1b15812d5"
   }
  }
 },
 "nbformat": 4,
 "nbformat_minor": 2
}

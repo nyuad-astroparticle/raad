{
 "cells": [
  {
   "cell_type": "markdown",
   "metadata": {},
   "source": [
    "# Log File\n",
    "\n",
    "Here we use the log file and the flight plane to try and obtain the original precision of the data with some good enough accuracy."
   ]
  },
  {
   "cell_type": "code",
   "execution_count": 1,
   "metadata": {},
   "outputs": [],
   "source": [
    "# import libraries\n",
    "\n",
    "# Constants\n",
    "filename_log    = '../../Data/RAW/SD-915/Light1-OperationalTest_May23_ScriptLog.txt'\n",
    "filename_script = '../../Data/RAW/SD-915/OperatingScript20May23May.txt'\n"
   ]
  },
  {
   "cell_type": "code",
   "execution_count": 54,
   "metadata": {},
   "outputs": [],
   "source": [
    "# Load script\n",
    "def load_script(filename:str,labels=False):\n",
    "    '''Returns a list of all the commands'''\n",
    "    file    = open(filename,'r')\n",
    "    lines   = file.readlines()\n",
    "    file.close()\n",
    "\n",
    "    # If needed add labels\n",
    "    if labels: lines = ['%6d '%i + lines[i] for i in range(len(lines))]\n",
    "    \n",
    "    return lines\n",
    "\n",
    "# Load a log file as a dictionary between the command and the output\n",
    "def load_log(filename:str,script:list):\n",
    "    '''Returns a dictionary with keys the commands and values the outputs in order'''\n",
    "    # Open the logfile\n",
    "    file    = open(filename)\n",
    "\n",
    "    # Array to hold the outputs\n",
    "    outs    = []        # Finall array of outputs\n",
    "    tmp     = []        # Array for each line\n",
    "    cnt     = 0         # Counter to know which command are we\n",
    "\n",
    "    line = file.readline()\n",
    "    while line!='':\n",
    "        # If you read a comment move on to the next command\n",
    "        if '#' == line.removeprefix('SE0>')[0]:\n",
    "            outs.append([])\n",
    "            cnt += 1\n",
    "            tmp = []\n",
    "        \n",
    "        # If you read the current command start looking for the next one\n",
    "        elif 'SE0>' in line and line.removeprefix('SE0>') == script[cnt][7:]:\n",
    "            # Append the lines collected\n",
    "            outs.append(tmp.copy())\n",
    "            tmp = []\n",
    "            \n",
    "            # start looking for the next command\n",
    "            cnt += 1\n",
    "            \n",
    "        # If what you read is not a command take the rest of it with you\n",
    "        else:\n",
    "            tmp.append(line)\n",
    "        \n",
    "        # Get the new line\n",
    "        line = file.readline()\n",
    "\n",
    "    # Add the last output\n",
    "    outs.append(tmp.copy())\n",
    "\n",
    "    file.close()\n",
    "\n",
    "    # Return a dictionary\n",
    "    return dict(zip(script,outs))\n",
    "\n",
    "\n"
   ]
  },
  {
   "cell_type": "code",
   "execution_count": 55,
   "metadata": {},
   "outputs": [],
   "source": [
    "script  = load_script(filename_script)\n",
    "log     = load_log(filename_log,script)"
   ]
  },
  {
   "cell_type": "code",
   "execution_count": 56,
   "metadata": {},
   "outputs": [],
   "source": [
    "file = open(filename_log,'r')\n",
    "raw = file.read()\n",
    "file.close()"
   ]
  },
  {
   "cell_type": "code",
   "execution_count": 57,
   "metadata": {},
   "outputs": [],
   "source": [
    "log = [line for line in raw.split('\\n') if line[0] != '#']"
   ]
  },
  {
   "cell_type": "code",
   "execution_count": null,
   "metadata": {},
   "outputs": [],
   "source": []
  },
  {
   "cell_type": "code",
   "execution_count": null,
   "metadata": {},
   "outputs": [],
   "source": []
  }
 ],
 "metadata": {
  "kernelspec": {
   "display_name": "Python 3.10.5 ('base')",
   "language": "python",
   "name": "python3"
  },
  "language_info": {
   "codemirror_mode": {
    "name": "ipython",
    "version": 3
   },
   "file_extension": ".py",
   "mimetype": "text/x-python",
   "name": "python",
   "nbconvert_exporter": "python",
   "pygments_lexer": "ipython3",
   "version": "3.10.5"
  },
  "orig_nbformat": 4,
  "vscode": {
   "interpreter": {
    "hash": "3fd2e6389a0fd7c635319bf7383768acfaf026bf5f56a6bed54341f1b15812d5"
   }
  }
 },
 "nbformat": 4,
 "nbformat_minor": 2
}

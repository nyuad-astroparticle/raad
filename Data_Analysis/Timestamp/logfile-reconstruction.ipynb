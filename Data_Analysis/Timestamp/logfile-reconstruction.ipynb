{
 "cells": [
  {
   "cell_type": "markdown",
   "metadata": {},
   "source": [
    "# Logfile Reconstructoin\n",
    "\n",
    "Reconstructing timestamp using the logfile. We identify the regions of interest, and the UTC times they occur in and then proceed with plugging them back to the data and fixing the time."
   ]
  },
  {
   "cell_type": "code",
   "execution_count": 1,
   "metadata": {},
   "outputs": [],
   "source": [
    "# Import libraries\n",
    "import raadpy as rp"
   ]
  },
  {
   "cell_type": "code",
   "execution_count": 2,
   "metadata": {},
   "outputs": [
    {
     "ename": "TypeError",
     "evalue": "desc_finder() missing 6 required positional arguments: 'line', 'cmdlist', 'outputs', 'i', 'time', and 'failed_idx'",
     "output_type": "error",
     "traceback": [
      "\u001b[0;31m---------------------------------------------------------------------------\u001b[0m",
      "\u001b[0;31mTypeError\u001b[0m                                 Traceback (most recent call last)",
      "\u001b[1;32m/Users/panos/Documents/NYU/6.Extracurricular/23.Cubesat/raad/Data_Analysis/Timestamp/logfile-reconstruction.ipynb Cell 3\u001b[0m in \u001b[0;36m<cell line: 1>\u001b[0;34m()\u001b[0m\n\u001b[0;32m----> <a href='vscode-notebook-cell:/Users/panos/Documents/NYU/6.Extracurricular/23.Cubesat/raad/Data_Analysis/Timestamp/logfile-reconstruction.ipynb#W4sZmlsZQ%3D%3D?line=0'>1</a>\u001b[0m rp\u001b[39m.\u001b[39;49mdesc_finder()\n",
      "\u001b[0;31mTypeError\u001b[0m: desc_finder() missing 6 required positional arguments: 'line', 'cmdlist', 'outputs', 'i', 'time', and 'failed_idx'"
     ]
    }
   ],
   "source": [
    "rp.decode_log()"
   ]
  },
  {
   "cell_type": "code",
   "execution_count": null,
   "metadata": {},
   "outputs": [],
   "source": []
  },
  {
   "cell_type": "markdown",
   "metadata": {},
   "source": []
  }
 ],
 "metadata": {
  "kernelspec": {
   "display_name": "Python 3.10.5 ('RAAD')",
   "language": "python",
   "name": "python3"
  },
  "language_info": {
   "codemirror_mode": {
    "name": "ipython",
    "version": 3
   },
   "file_extension": ".py",
   "mimetype": "text/x-python",
   "name": "python",
   "nbconvert_exporter": "python",
   "pygments_lexer": "ipython3",
   "version": "3.10.5"
  },
  "orig_nbformat": 4,
  "vscode": {
   "interpreter": {
    "hash": "3fd2e6389a0fd7c635319bf7383768acfaf026bf5f56a6bed54341f1b15812d5"
   }
  }
 },
 "nbformat": 4,
 "nbformat_minor": 2
}
